{
 "cells": [
  {
   "cell_type": "markdown",
   "metadata": {
    "toc": true
   },
   "source": [
    "<h1>Table of Contents<span class=\"tocSkip\"></span></h1>\n",
    "<div class=\"toc\"><ul class=\"toc-item\"><li><span><a href=\"#Изучение-закономерностей,-опеределяющих-успешность-на-рынке-видеоигр.\" data-toc-modified-id=\"Изучение-закономерностей,-опеределяющих-успешность-на-рынке-видеоигр.-1\">Изучение закономерностей, опеределяющих успешность на рынке видеоигр.</a></span><ul class=\"toc-item\"><li><ul class=\"toc-item\"><li><span><a href=\"#Описание-проекта\" data-toc-modified-id=\"Описание-проекта-1.0.1\">Описание проекта</a></span></li></ul></li><li><span><a href=\"#Общая-информация\" data-toc-modified-id=\"Общая-информация-1.1\">Общая информация</a></span><ul class=\"toc-item\"><li><span><a href=\"#Описание-данных\" data-toc-modified-id=\"Описание-данных-1.1.1\">Описание данных</a></span></li><li><span><a href=\"#Вывод-по-блоку\" data-toc-modified-id=\"Вывод-по-блоку-1.1.2\">Вывод по блоку</a></span></li></ul></li><li><span><a href=\"#Предобработка-данных\" data-toc-modified-id=\"Предобработка-данных-1.2\">Предобработка данных</a></span><ul class=\"toc-item\"><li><span><a href=\"#Изменение-названий-столбцов\" data-toc-modified-id=\"Изменение-названий-столбцов-1.2.1\">Изменение названий столбцов</a></span></li><li><span><a href=\"#Проверка-пустых-значений\" data-toc-modified-id=\"Проверка-пустых-значений-1.2.2\">Проверка пустых значений</a></span></li><li><span><a href=\"#Проверка-дубликатов\" data-toc-modified-id=\"Проверка-дубликатов-1.2.3\">Проверка дубликатов</a></span></li><li><span><a href=\"#Проверка-типа-данных\" data-toc-modified-id=\"Проверка-типа-данных-1.2.4\">Проверка типа данных</a></span></li><li><span><a href=\"#Подсчет-суммарных-продаж-по-всем-регионам\" data-toc-modified-id=\"Подсчет-суммарных-продаж-по-всем-регионам-1.2.5\">Подсчет суммарных продаж по всем регионам</a></span></li><li><span><a href=\"#Вывод-по-блоку\" data-toc-modified-id=\"Вывод-по-блоку-1.2.6\">Вывод по блоку</a></span></li></ul></li><li><span><a href=\"#Анализ-данных\" data-toc-modified-id=\"Анализ-данных-1.3\">Анализ данных</a></span><ul class=\"toc-item\"><li><span><a href=\"#Анализ-кол-ва-игр,-выпущенное-по-годам\" data-toc-modified-id=\"Анализ-кол-ва-игр,-выпущенное-по-годам-1.3.1\">Анализ кол-ва игр, выпущенное по годам</a></span><ul class=\"toc-item\"><li><span><a href=\"#Краткий-вывод\" data-toc-modified-id=\"Краткий-вывод-1.3.1.1\">Краткий вывод</a></span></li></ul></li><li><span><a href=\"#Как-менялись-продажи-по-платформам.-Срок-жизни-платформ.\" data-toc-modified-id=\"Как-менялись-продажи-по-платформам.-Срок-жизни-платформ.-1.3.2\">Как менялись продажи по платформам. Срок жизни платформ.</a></span><ul class=\"toc-item\"><li><span><a href=\"#Краткий-вывод\" data-toc-modified-id=\"Краткий-вывод-1.3.2.1\">Краткий вывод</a></span></li></ul></li><li><span><a href=\"#Постройте-график-«ящик-с-усами»-по-глобальным-продажам-игр-в-разбивке-по-платформам.\" data-toc-modified-id=\"Постройте-график-«ящик-с-усами»-по-глобальным-продажам-игр-в-разбивке-по-платформам.-1.3.3\">Постройте график «ящик с усами» по глобальным продажам игр в разбивке по платформам.</a></span><ul class=\"toc-item\"><li><span><a href=\"#Краткий-вывод\" data-toc-modified-id=\"Краткий-вывод-1.3.3.1\">Краткий вывод</a></span></li></ul></li><li><span><a href=\"#Влияние-на-продажи-отзывов-пользователей-и-оценки-критиков-на-примере-PS4\" data-toc-modified-id=\"Влияние-на-продажи-отзывов-пользователей-и-оценки-критиков-на-примере-PS4-1.3.4\">Влияние на продажи отзывов пользователей и оценки критиков на примере PS4</a></span><ul class=\"toc-item\"><li><span><a href=\"#Краткий-вывод\" data-toc-modified-id=\"Краткий-вывод-1.3.4.1\">Краткий вывод</a></span></li></ul></li><li><span><a href=\"#Распределение-игр-по-жанрам,-влияние-жанра-на-уровень-продаж\" data-toc-modified-id=\"Распределение-игр-по-жанрам,-влияние-жанра-на-уровень-продаж-1.3.5\">Распределение игр по жанрам, влияние жанра на уровень продаж</a></span><ul class=\"toc-item\"><li><span><a href=\"#Краткий-вывод\" data-toc-modified-id=\"Краткий-вывод-1.3.5.1\">Краткий вывод</a></span></li></ul></li><li><span><a href=\"#Вывод-по-блоку\" data-toc-modified-id=\"Вывод-по-блоку-1.3.6\">Вывод по блоку</a></span></li></ul></li><li><span><a href=\"#Портрет-пользователя-каждого-региона\" data-toc-modified-id=\"Портрет-пользователя-каждого-региона-1.4\">Портрет пользователя каждого региона</a></span><ul class=\"toc-item\"><li><span><a href=\"#Самые-популярные-платформы-(топ-5)-для-пользователей-регионов-NA,-EU,-JP\" data-toc-modified-id=\"Самые-популярные-платформы-(топ-5)-для-пользователей-регионов-NA,-EU,-JP-1.4.1\">Самые популярные платформы (топ-5) для пользователей регионов NA, EU, JP</a></span><ul class=\"toc-item\"><li><span><a href=\"#Крайткий-вывод\" data-toc-modified-id=\"Крайткий-вывод-1.4.1.1\">Крайткий вывод</a></span></li></ul></li><li><span><a href=\"#Самые-популярные-жанры-(топ-5)-для-пользователей-регионов-NA,-EU,-JP\" data-toc-modified-id=\"Самые-популярные-жанры-(топ-5)-для-пользователей-регионов-NA,-EU,-JP-1.4.2\">Самые популярные жанры (топ-5) для пользователей регионов NA, EU, JP</a></span><ul class=\"toc-item\"><li><span><a href=\"#Крайткий-вывод\" data-toc-modified-id=\"Крайткий-вывод-1.4.2.1\">Крайткий вывод</a></span></li></ul></li><li><span><a href=\"#Влияет-ли-рейтинг-ESRB-на-продажи-в-регионах-NA,-EU,-JP\" data-toc-modified-id=\"Влияет-ли-рейтинг-ESRB-на-продажи-в-регионах-NA,-EU,-JP-1.4.3\">Влияет ли рейтинг ESRB на продажи в регионах NA, EU, JP</a></span><ul class=\"toc-item\"><li><span><a href=\"#Крайткий-вывод\" data-toc-modified-id=\"Крайткий-вывод-1.4.3.1\">Крайткий вывод</a></span></li></ul></li><li><span><a href=\"#Вывод-по-блоку\" data-toc-modified-id=\"Вывод-по-блоку-1.4.4\">Вывод по блоку</a></span></li></ul></li><li><span><a href=\"#Проверка-гипотез\" data-toc-modified-id=\"Проверка-гипотез-1.5\">Проверка гипотез</a></span><ul class=\"toc-item\"><li><span><a href=\"#Средние-пользовательские-рейтинги-платформ-Xbox-One-и-PC-одинаковые\" data-toc-modified-id=\"Средние-пользовательские-рейтинги-платформ-Xbox-One-и-PC-одинаковые-1.5.1\">Средние пользовательские рейтинги платформ Xbox One и PC одинаковые</a></span><ul class=\"toc-item\"><li><span><a href=\"#Краткий-вывод\" data-toc-modified-id=\"Краткий-вывод-1.5.1.1\">Краткий вывод</a></span></li></ul></li><li><span><a href=\"#Средние-пользовательские-рейтинги-жанров-Action-(англ.-«действие»,-экшен-игры)-и-Sports-(англ.-«спортивные-соревнования»)-разные\" data-toc-modified-id=\"Средние-пользовательские-рейтинги-жанров-Action-(англ.-«действие»,-экшен-игры)-и-Sports-(англ.-«спортивные-соревнования»)-разные-1.5.2\">Средние пользовательские рейтинги жанров Action (англ. «действие», экшен-игры) и Sports (англ. «спортивные соревнования») разные</a></span><ul class=\"toc-item\"><li><span><a href=\"#Краткий-вывод\" data-toc-modified-id=\"Краткий-вывод-1.5.2.1\">Краткий вывод</a></span></li></ul></li><li><span><a href=\"#Вывод-по-блоку\" data-toc-modified-id=\"Вывод-по-блоку-1.5.3\">Вывод по блоку</a></span></li></ul></li><li><span><a href=\"#Общий-вывод\" data-toc-modified-id=\"Общий-вывод-1.6\">Общий вывод</a></span></li></ul></li></ul></div>"
   ]
  },
  {
   "cell_type": "markdown",
   "metadata": {},
   "source": [
    "# Изучение закономерностей, опеределяющих успешность на рынке видеоигр. "
   ]
  },
  {
   "cell_type": "markdown",
   "metadata": {},
   "source": [
    "### Описание проекта\n",
    "\n",
    "Вы работаете в интернет-магазине «Стримчик», который продаёт по всему миру компьютерные игры. Из открытых источников доступны исторические данные о продажах игр, оценки пользователей и экспертов, жанры и платформы (например, Xbox или PlayStation). Вам нужно выявить определяющие успешность игры закономерности. Это позволит сделать ставку на потенциально популярный продукт и спланировать рекламные кампании.  \n",
    "Перед вами данные до 2016 года. Представим, что сейчас декабрь 2016 г., и вы планируете кампанию на 2017-й. Нужно отработать принцип работы с данными. Неважно, прогнозируете ли вы продажи на 2017 год по данным 2016-го или же 2027-й — по данным 2026 года.  \n",
    "  \n",
    "В наборе данных попадается аббревиатура ESRB (Entertainment Software Rating Board) — это ассоциация, определяющая возрастной рейтинг компьютерных игр. ESRB оценивает игровой контент и присваивает ему подходящую возрастную категорию, например, «Для взрослых», «Для детей младшего возраста» или «Для подростков»."
   ]
  },
  {
   "cell_type": "markdown",
   "metadata": {},
   "source": [
    "## Общая информация"
   ]
  },
  {
   "cell_type": "code",
   "execution_count": 1,
   "metadata": {},
   "outputs": [],
   "source": [
    "import pandas as pd\n",
    "import matplotlib.pyplot as plt \n",
    "import numpy as np\n",
    "from scipy import stats as st"
   ]
  },
  {
   "cell_type": "code",
   "execution_count": 2,
   "metadata": {},
   "outputs": [],
   "source": [
    "data = pd.read_csv('games.csv')"
   ]
  },
  {
   "cell_type": "code",
   "execution_count": 3,
   "metadata": {},
   "outputs": [
    {
     "name": "stdout",
     "output_type": "stream",
     "text": [
      "<class 'pandas.core.frame.DataFrame'>\n",
      "RangeIndex: 16715 entries, 0 to 16714\n",
      "Data columns (total 11 columns):\n",
      "Name               16713 non-null object\n",
      "Platform           16715 non-null object\n",
      "Year_of_Release    16446 non-null float64\n",
      "Genre              16713 non-null object\n",
      "NA_sales           16715 non-null float64\n",
      "EU_sales           16715 non-null float64\n",
      "JP_sales           16715 non-null float64\n",
      "Other_sales        16715 non-null float64\n",
      "Critic_Score       8137 non-null float64\n",
      "User_Score         10014 non-null object\n",
      "Rating             9949 non-null object\n",
      "dtypes: float64(6), object(5)\n",
      "memory usage: 1.4+ MB\n"
     ]
    }
   ],
   "source": [
    "data.info()"
   ]
  },
  {
   "cell_type": "code",
   "execution_count": 4,
   "metadata": {
    "scrolled": true
   },
   "outputs": [
    {
     "data": {
      "text/html": [
       "<div>\n",
       "<style scoped>\n",
       "    .dataframe tbody tr th:only-of-type {\n",
       "        vertical-align: middle;\n",
       "    }\n",
       "\n",
       "    .dataframe tbody tr th {\n",
       "        vertical-align: top;\n",
       "    }\n",
       "\n",
       "    .dataframe thead th {\n",
       "        text-align: right;\n",
       "    }\n",
       "</style>\n",
       "<table border=\"1\" class=\"dataframe\">\n",
       "  <thead>\n",
       "    <tr style=\"text-align: right;\">\n",
       "      <th></th>\n",
       "      <th>count</th>\n",
       "      <th>mean</th>\n",
       "      <th>std</th>\n",
       "      <th>min</th>\n",
       "      <th>25%</th>\n",
       "      <th>50%</th>\n",
       "      <th>75%</th>\n",
       "      <th>max</th>\n",
       "    </tr>\n",
       "  </thead>\n",
       "  <tbody>\n",
       "    <tr>\n",
       "      <td>Year_of_Release</td>\n",
       "      <td>16446.0</td>\n",
       "      <td>2006.484616</td>\n",
       "      <td>5.877050</td>\n",
       "      <td>1980.0</td>\n",
       "      <td>2003.0</td>\n",
       "      <td>2007.00</td>\n",
       "      <td>2010.00</td>\n",
       "      <td>2016.00</td>\n",
       "    </tr>\n",
       "    <tr>\n",
       "      <td>NA_sales</td>\n",
       "      <td>16715.0</td>\n",
       "      <td>0.263377</td>\n",
       "      <td>0.813604</td>\n",
       "      <td>0.0</td>\n",
       "      <td>0.0</td>\n",
       "      <td>0.08</td>\n",
       "      <td>0.24</td>\n",
       "      <td>41.36</td>\n",
       "    </tr>\n",
       "    <tr>\n",
       "      <td>EU_sales</td>\n",
       "      <td>16715.0</td>\n",
       "      <td>0.145060</td>\n",
       "      <td>0.503339</td>\n",
       "      <td>0.0</td>\n",
       "      <td>0.0</td>\n",
       "      <td>0.02</td>\n",
       "      <td>0.11</td>\n",
       "      <td>28.96</td>\n",
       "    </tr>\n",
       "    <tr>\n",
       "      <td>JP_sales</td>\n",
       "      <td>16715.0</td>\n",
       "      <td>0.077617</td>\n",
       "      <td>0.308853</td>\n",
       "      <td>0.0</td>\n",
       "      <td>0.0</td>\n",
       "      <td>0.00</td>\n",
       "      <td>0.04</td>\n",
       "      <td>10.22</td>\n",
       "    </tr>\n",
       "    <tr>\n",
       "      <td>Other_sales</td>\n",
       "      <td>16715.0</td>\n",
       "      <td>0.047342</td>\n",
       "      <td>0.186731</td>\n",
       "      <td>0.0</td>\n",
       "      <td>0.0</td>\n",
       "      <td>0.01</td>\n",
       "      <td>0.03</td>\n",
       "      <td>10.57</td>\n",
       "    </tr>\n",
       "    <tr>\n",
       "      <td>Critic_Score</td>\n",
       "      <td>8137.0</td>\n",
       "      <td>68.967679</td>\n",
       "      <td>13.938165</td>\n",
       "      <td>13.0</td>\n",
       "      <td>60.0</td>\n",
       "      <td>71.00</td>\n",
       "      <td>79.00</td>\n",
       "      <td>98.00</td>\n",
       "    </tr>\n",
       "  </tbody>\n",
       "</table>\n",
       "</div>"
      ],
      "text/plain": [
       "                   count         mean        std     min     25%      50%  \\\n",
       "Year_of_Release  16446.0  2006.484616   5.877050  1980.0  2003.0  2007.00   \n",
       "NA_sales         16715.0     0.263377   0.813604     0.0     0.0     0.08   \n",
       "EU_sales         16715.0     0.145060   0.503339     0.0     0.0     0.02   \n",
       "JP_sales         16715.0     0.077617   0.308853     0.0     0.0     0.00   \n",
       "Other_sales      16715.0     0.047342   0.186731     0.0     0.0     0.01   \n",
       "Critic_Score      8137.0    68.967679  13.938165    13.0    60.0    71.00   \n",
       "\n",
       "                     75%      max  \n",
       "Year_of_Release  2010.00  2016.00  \n",
       "NA_sales            0.24    41.36  \n",
       "EU_sales            0.11    28.96  \n",
       "JP_sales            0.04    10.22  \n",
       "Other_sales         0.03    10.57  \n",
       "Critic_Score       79.00    98.00  "
      ]
     },
     "execution_count": 4,
     "metadata": {},
     "output_type": "execute_result"
    }
   ],
   "source": [
    "data.describe().T"
   ]
  },
  {
   "cell_type": "code",
   "execution_count": 5,
   "metadata": {},
   "outputs": [
    {
     "data": {
      "text/html": [
       "<div>\n",
       "<style scoped>\n",
       "    .dataframe tbody tr th:only-of-type {\n",
       "        vertical-align: middle;\n",
       "    }\n",
       "\n",
       "    .dataframe tbody tr th {\n",
       "        vertical-align: top;\n",
       "    }\n",
       "\n",
       "    .dataframe thead th {\n",
       "        text-align: right;\n",
       "    }\n",
       "</style>\n",
       "<table border=\"1\" class=\"dataframe\">\n",
       "  <thead>\n",
       "    <tr style=\"text-align: right;\">\n",
       "      <th></th>\n",
       "      <th>Name</th>\n",
       "      <th>Platform</th>\n",
       "      <th>Year_of_Release</th>\n",
       "      <th>Genre</th>\n",
       "      <th>NA_sales</th>\n",
       "      <th>EU_sales</th>\n",
       "      <th>JP_sales</th>\n",
       "      <th>Other_sales</th>\n",
       "      <th>Critic_Score</th>\n",
       "      <th>User_Score</th>\n",
       "      <th>Rating</th>\n",
       "    </tr>\n",
       "  </thead>\n",
       "  <tbody>\n",
       "    <tr>\n",
       "      <td>0</td>\n",
       "      <td>Wii Sports</td>\n",
       "      <td>Wii</td>\n",
       "      <td>2006.0</td>\n",
       "      <td>Sports</td>\n",
       "      <td>41.36</td>\n",
       "      <td>28.96</td>\n",
       "      <td>3.77</td>\n",
       "      <td>8.45</td>\n",
       "      <td>76.0</td>\n",
       "      <td>8</td>\n",
       "      <td>E</td>\n",
       "    </tr>\n",
       "    <tr>\n",
       "      <td>1</td>\n",
       "      <td>Super Mario Bros.</td>\n",
       "      <td>NES</td>\n",
       "      <td>1985.0</td>\n",
       "      <td>Platform</td>\n",
       "      <td>29.08</td>\n",
       "      <td>3.58</td>\n",
       "      <td>6.81</td>\n",
       "      <td>0.77</td>\n",
       "      <td>NaN</td>\n",
       "      <td>NaN</td>\n",
       "      <td>NaN</td>\n",
       "    </tr>\n",
       "    <tr>\n",
       "      <td>2</td>\n",
       "      <td>Mario Kart Wii</td>\n",
       "      <td>Wii</td>\n",
       "      <td>2008.0</td>\n",
       "      <td>Racing</td>\n",
       "      <td>15.68</td>\n",
       "      <td>12.76</td>\n",
       "      <td>3.79</td>\n",
       "      <td>3.29</td>\n",
       "      <td>82.0</td>\n",
       "      <td>8.3</td>\n",
       "      <td>E</td>\n",
       "    </tr>\n",
       "    <tr>\n",
       "      <td>3</td>\n",
       "      <td>Wii Sports Resort</td>\n",
       "      <td>Wii</td>\n",
       "      <td>2009.0</td>\n",
       "      <td>Sports</td>\n",
       "      <td>15.61</td>\n",
       "      <td>10.93</td>\n",
       "      <td>3.28</td>\n",
       "      <td>2.95</td>\n",
       "      <td>80.0</td>\n",
       "      <td>8</td>\n",
       "      <td>E</td>\n",
       "    </tr>\n",
       "    <tr>\n",
       "      <td>4</td>\n",
       "      <td>Pokemon Red/Pokemon Blue</td>\n",
       "      <td>GB</td>\n",
       "      <td>1996.0</td>\n",
       "      <td>Role-Playing</td>\n",
       "      <td>11.27</td>\n",
       "      <td>8.89</td>\n",
       "      <td>10.22</td>\n",
       "      <td>1.00</td>\n",
       "      <td>NaN</td>\n",
       "      <td>NaN</td>\n",
       "      <td>NaN</td>\n",
       "    </tr>\n",
       "  </tbody>\n",
       "</table>\n",
       "</div>"
      ],
      "text/plain": [
       "                       Name Platform  Year_of_Release         Genre  NA_sales  \\\n",
       "0                Wii Sports      Wii           2006.0        Sports     41.36   \n",
       "1         Super Mario Bros.      NES           1985.0      Platform     29.08   \n",
       "2            Mario Kart Wii      Wii           2008.0        Racing     15.68   \n",
       "3         Wii Sports Resort      Wii           2009.0        Sports     15.61   \n",
       "4  Pokemon Red/Pokemon Blue       GB           1996.0  Role-Playing     11.27   \n",
       "\n",
       "   EU_sales  JP_sales  Other_sales  Critic_Score User_Score Rating  \n",
       "0     28.96      3.77         8.45          76.0          8      E  \n",
       "1      3.58      6.81         0.77           NaN        NaN    NaN  \n",
       "2     12.76      3.79         3.29          82.0        8.3      E  \n",
       "3     10.93      3.28         2.95          80.0          8      E  \n",
       "4      8.89     10.22         1.00           NaN        NaN    NaN  "
      ]
     },
     "execution_count": 5,
     "metadata": {},
     "output_type": "execute_result"
    }
   ],
   "source": [
    "data.head()"
   ]
  },
  {
   "cell_type": "markdown",
   "metadata": {},
   "source": [
    "### Описание данных\n",
    "\n",
    "* Name — название игры\n",
    "* Platform — платформа\n",
    "* Year_of_Release — год выпуска\n",
    "* Genre — жанр игры\n",
    "* NA_sales — продажи в Северной Америке (миллионы проданных копий)\n",
    "* EU_sales — продажи в Европе (миллионы проданных копий)\n",
    "* JP_sales — продажи в Японии (миллионы проданных копий)\n",
    "* Other_sales — продажи в других странах (миллионы проданных копий)\n",
    "* Critic_Score — оценка критиков (максимум 100)\n",
    "* User_Score — оценка пользователей (максимум 10)\n",
    "* Rating — рейтинг от организации ESRB (англ. Entertainment Software Rating Board). Эта ассоциация определяет рейтинг компьютерных игр и присваивает им подходящую возрастную категорию.  \n",
    "  \n",
    "Данные за 2016 год могут быть неполными."
   ]
  },
  {
   "cell_type": "markdown",
   "metadata": {},
   "source": [
    "### Вывод по блоку\n",
    "В проекте представлены данные по продажам видеоигр за период 1980 - 2016 г.  \n",
    "Выборка состоит из 11 столбцов и 16715 строк.  \n",
    "Информация по продажам разбита на регионы:\n",
    "* Северная Америка\n",
    "* Европа\n",
    "* Япония\n",
    "* прочие регионы\n",
    "  \n",
    "Так же присутствует оценка критиков и оценка пользователей.  \n",
    "Для каждой игры представлена возрастная категория.  \n",
    "  \n",
    "> При обработке информации надо учитывать, что одни и те же игры выходили на разных платформах в разное время.  \n",
    "  \n",
    "  ___\n",
    "Важно выбрать правильный временной период, который будет показательным для оценки будущих продаж. Очевидно, что вкусы у пользователей менялись с 1980 по 2016 год и очень старая информация может испортить резепрезентативность выборки.\n",
    "  \n",
    "  ___\n",
    "Требуется предобработка:\n",
    "* привести названия столбцов к удобному формату;\n",
    "* изменить тип данных в столбцах `Platform`, `Genre`, `User_Score`, `Rating`;\n",
    "* проверить пустые значения в столбцах `Name`, `Year_of_Release`, `Genre`, `Critic_Score`, `User_Score`, `Rating`;\n",
    "* проверить дубликаты;"
   ]
  },
  {
   "cell_type": "markdown",
   "metadata": {},
   "source": [
    "## Предобработка данных"
   ]
  },
  {
   "cell_type": "markdown",
   "metadata": {},
   "source": [
    "### Изменение названий столбцов"
   ]
  },
  {
   "cell_type": "markdown",
   "metadata": {},
   "source": [
    "Еще раз посмотрим на названия столбцов таблицы."
   ]
  },
  {
   "cell_type": "code",
   "execution_count": 6,
   "metadata": {},
   "outputs": [
    {
     "data": {
      "text/plain": [
       "Index(['Name', 'Platform', 'Year_of_Release', 'Genre', 'NA_sales', 'EU_sales',\n",
       "       'JP_sales', 'Other_sales', 'Critic_Score', 'User_Score', 'Rating'],\n",
       "      dtype='object')"
      ]
     },
     "execution_count": 6,
     "metadata": {},
     "output_type": "execute_result"
    }
   ],
   "source": [
    "data.columns"
   ]
  },
  {
   "cell_type": "markdown",
   "metadata": {},
   "source": [
    "Все названия содержат большие буквы, заменим их на приемлимый формат."
   ]
  },
  {
   "cell_type": "code",
   "execution_count": 7,
   "metadata": {},
   "outputs": [
    {
     "data": {
      "text/plain": [
       "Index(['name', 'platform', 'year_of_release', 'genre', 'na_sales', 'eu_sales',\n",
       "       'jp_sales', 'other_sales', 'critic_score', 'user_score', 'rating'],\n",
       "      dtype='object')"
      ]
     },
     "execution_count": 7,
     "metadata": {},
     "output_type": "execute_result"
    }
   ],
   "source": [
    "data = data.rename(columns = {\n",
    "    'Name': 'name', \n",
    "    'Platform': 'platform', \n",
    "    'Year_of_Release': 'year_of_release', \n",
    "    'Genre': 'genre', \n",
    "    'NA_sales': 'na_sales', \n",
    "    'EU_sales': 'eu_sales',\n",
    "    'JP_sales': 'jp_sales', \n",
    "    'Other_sales': 'other_sales', \n",
    "    'Critic_Score': 'critic_score', \n",
    "    'User_Score': 'user_score', \n",
    "    'Rating': 'rating'\n",
    "    })\n",
    "data.columns"
   ]
  },
  {
   "cell_type": "markdown",
   "metadata": {},
   "source": [
    "### Проверка пустых значений\n",
    "Проверить пустые значения в столбцах `Name`, `Year_of_Release`, `Genre`, `Critic_Score`, `User_Score`, `Rating`  \n",
    "___  \n",
    "Обработайте пропуски при необходимости:\n",
    "* Объясните, почему заполнили пропуски определённым образом или почему не стали это делать;\n",
    "* Опишите причины, которые могли привести к пропускам;\n",
    "* Обратите внимание на аббревиатуру 'tbd' в столбце с оценкой пользователей. Отдельно разберите это значение и опишите, как его обработать;"
   ]
  },
  {
   "cell_type": "markdown",
   "metadata": {},
   "source": [
    "Посмотрим сколько пропусков в каждом столбце."
   ]
  },
  {
   "cell_type": "code",
   "execution_count": 8,
   "metadata": {},
   "outputs": [
    {
     "data": {
      "text/plain": [
       "name                  2\n",
       "year_of_release     269\n",
       "genre                 2\n",
       "critic_score       8578\n",
       "user_score         6701\n",
       "rating             6766\n",
       "dtype: int64"
      ]
     },
     "execution_count": 8,
     "metadata": {},
     "output_type": "execute_result"
    }
   ],
   "source": [
    "data[['name', 'year_of_release', 'genre', 'critic_score', 'user_score', 'rating']].isna().sum()"
   ]
  },
  {
   "cell_type": "markdown",
   "metadata": {},
   "source": [
    "Сперва разберемся с пропусками в `name` и `genre`. Их всего по 2, поэтому можно просто удалить."
   ]
  },
  {
   "cell_type": "code",
   "execution_count": 9,
   "metadata": {},
   "outputs": [
    {
     "data": {
      "text/plain": [
       "name     0\n",
       "genre    0\n",
       "dtype: int64"
      ]
     },
     "execution_count": 9,
     "metadata": {},
     "output_type": "execute_result"
    }
   ],
   "source": [
    "data = data.dropna(subset = ['name'])\n",
    "data[['name', 'genre']].isna().sum()"
   ]
  },
  {
   "cell_type": "markdown",
   "metadata": {},
   "source": [
    "Отлично, пропуски в `name` совпали с пропусками в `genre`.   \n",
    "Теперь посмотрим на на столбец `year_of_release`."
   ]
  },
  {
   "cell_type": "code",
   "execution_count": 10,
   "metadata": {},
   "outputs": [
    {
     "data": {
      "text/html": [
       "<div>\n",
       "<style scoped>\n",
       "    .dataframe tbody tr th:only-of-type {\n",
       "        vertical-align: middle;\n",
       "    }\n",
       "\n",
       "    .dataframe tbody tr th {\n",
       "        vertical-align: top;\n",
       "    }\n",
       "\n",
       "    .dataframe thead th {\n",
       "        text-align: right;\n",
       "    }\n",
       "</style>\n",
       "<table border=\"1\" class=\"dataframe\">\n",
       "  <thead>\n",
       "    <tr style=\"text-align: right;\">\n",
       "      <th>platform</th>\n",
       "      <th>3DS</th>\n",
       "      <th>DS</th>\n",
       "      <th>GB</th>\n",
       "      <th>GBA</th>\n",
       "      <th>GC</th>\n",
       "      <th>GEN</th>\n",
       "      <th>N64</th>\n",
       "      <th>PC</th>\n",
       "      <th>PS</th>\n",
       "      <th>PS2</th>\n",
       "      <th>PS3</th>\n",
       "      <th>PS4</th>\n",
       "      <th>PSP</th>\n",
       "      <th>PSV</th>\n",
       "      <th>SNES</th>\n",
       "      <th>Wii</th>\n",
       "      <th>X360</th>\n",
       "      <th>XB</th>\n",
       "      <th>XOne</th>\n",
       "    </tr>\n",
       "    <tr>\n",
       "      <th>name</th>\n",
       "      <th></th>\n",
       "      <th></th>\n",
       "      <th></th>\n",
       "      <th></th>\n",
       "      <th></th>\n",
       "      <th></th>\n",
       "      <th></th>\n",
       "      <th></th>\n",
       "      <th></th>\n",
       "      <th></th>\n",
       "      <th></th>\n",
       "      <th></th>\n",
       "      <th></th>\n",
       "      <th></th>\n",
       "      <th></th>\n",
       "      <th></th>\n",
       "      <th></th>\n",
       "      <th></th>\n",
       "      <th></th>\n",
       "    </tr>\n",
       "  </thead>\n",
       "  <tbody>\n",
       "    <tr>\n",
       "      <td>AKB1/48: Idol to Guam de Koishitara...</td>\n",
       "      <td>NaN</td>\n",
       "      <td>NaN</td>\n",
       "      <td>NaN</td>\n",
       "      <td>NaN</td>\n",
       "      <td>NaN</td>\n",
       "      <td>NaN</td>\n",
       "      <td>NaN</td>\n",
       "      <td>NaN</td>\n",
       "      <td>NaN</td>\n",
       "      <td>NaN</td>\n",
       "      <td>NaN</td>\n",
       "      <td>NaN</td>\n",
       "      <td>2011.0</td>\n",
       "      <td>NaN</td>\n",
       "      <td>NaN</td>\n",
       "      <td>NaN</td>\n",
       "      <td>NaN</td>\n",
       "      <td>NaN</td>\n",
       "      <td>NaN</td>\n",
       "    </tr>\n",
       "    <tr>\n",
       "      <td>Aquaman: Battle for Atlantis</td>\n",
       "      <td>NaN</td>\n",
       "      <td>NaN</td>\n",
       "      <td>NaN</td>\n",
       "      <td>NaN</td>\n",
       "      <td>2003.0</td>\n",
       "      <td>NaN</td>\n",
       "      <td>NaN</td>\n",
       "      <td>NaN</td>\n",
       "      <td>NaN</td>\n",
       "      <td>NaN</td>\n",
       "      <td>NaN</td>\n",
       "      <td>NaN</td>\n",
       "      <td>NaN</td>\n",
       "      <td>NaN</td>\n",
       "      <td>NaN</td>\n",
       "      <td>NaN</td>\n",
       "      <td>NaN</td>\n",
       "      <td>NaN</td>\n",
       "      <td>NaN</td>\n",
       "    </tr>\n",
       "    <tr>\n",
       "      <td>Battle vs. Chess</td>\n",
       "      <td>NaN</td>\n",
       "      <td>NaN</td>\n",
       "      <td>NaN</td>\n",
       "      <td>NaN</td>\n",
       "      <td>NaN</td>\n",
       "      <td>NaN</td>\n",
       "      <td>NaN</td>\n",
       "      <td>NaN</td>\n",
       "      <td>NaN</td>\n",
       "      <td>NaN</td>\n",
       "      <td>NaN</td>\n",
       "      <td>NaN</td>\n",
       "      <td>NaN</td>\n",
       "      <td>NaN</td>\n",
       "      <td>NaN</td>\n",
       "      <td>NaN</td>\n",
       "      <td>2011.0</td>\n",
       "      <td>NaN</td>\n",
       "      <td>NaN</td>\n",
       "    </tr>\n",
       "    <tr>\n",
       "      <td>Bejeweled 3</td>\n",
       "      <td>NaN</td>\n",
       "      <td>NaN</td>\n",
       "      <td>NaN</td>\n",
       "      <td>NaN</td>\n",
       "      <td>NaN</td>\n",
       "      <td>NaN</td>\n",
       "      <td>NaN</td>\n",
       "      <td>2010.0</td>\n",
       "      <td>NaN</td>\n",
       "      <td>NaN</td>\n",
       "      <td>NaN</td>\n",
       "      <td>NaN</td>\n",
       "      <td>NaN</td>\n",
       "      <td>NaN</td>\n",
       "      <td>NaN</td>\n",
       "      <td>NaN</td>\n",
       "      <td>NaN</td>\n",
       "      <td>NaN</td>\n",
       "      <td>NaN</td>\n",
       "    </tr>\n",
       "    <tr>\n",
       "      <td>BioShock 2</td>\n",
       "      <td>NaN</td>\n",
       "      <td>NaN</td>\n",
       "      <td>NaN</td>\n",
       "      <td>NaN</td>\n",
       "      <td>NaN</td>\n",
       "      <td>NaN</td>\n",
       "      <td>NaN</td>\n",
       "      <td>NaN</td>\n",
       "      <td>NaN</td>\n",
       "      <td>NaN</td>\n",
       "      <td>2010.0</td>\n",
       "      <td>NaN</td>\n",
       "      <td>NaN</td>\n",
       "      <td>NaN</td>\n",
       "      <td>NaN</td>\n",
       "      <td>NaN</td>\n",
       "      <td>2010.0</td>\n",
       "      <td>NaN</td>\n",
       "      <td>NaN</td>\n",
       "    </tr>\n",
       "  </tbody>\n",
       "</table>\n",
       "</div>"
      ],
      "text/plain": [
       "platform                                3DS  DS  GB  GBA      GC  GEN  N64  \\\n",
       "name                                                                         \n",
       "AKB1/48: Idol to Guam de Koishitara...  NaN NaN NaN  NaN     NaN  NaN  NaN   \n",
       "Aquaman: Battle for Atlantis            NaN NaN NaN  NaN  2003.0  NaN  NaN   \n",
       "Battle vs. Chess                        NaN NaN NaN  NaN     NaN  NaN  NaN   \n",
       "Bejeweled 3                             NaN NaN NaN  NaN     NaN  NaN  NaN   \n",
       "BioShock 2                              NaN NaN NaN  NaN     NaN  NaN  NaN   \n",
       "\n",
       "platform                                    PC  PS  PS2     PS3  PS4     PSP  \\\n",
       "name                                                                           \n",
       "AKB1/48: Idol to Guam de Koishitara...     NaN NaN  NaN     NaN  NaN  2011.0   \n",
       "Aquaman: Battle for Atlantis               NaN NaN  NaN     NaN  NaN     NaN   \n",
       "Battle vs. Chess                           NaN NaN  NaN     NaN  NaN     NaN   \n",
       "Bejeweled 3                             2010.0 NaN  NaN     NaN  NaN     NaN   \n",
       "BioShock 2                                 NaN NaN  NaN  2010.0  NaN     NaN   \n",
       "\n",
       "platform                                PSV  SNES  Wii    X360  XB  XOne  \n",
       "name                                                                      \n",
       "AKB1/48: Idol to Guam de Koishitara...  NaN   NaN  NaN     NaN NaN   NaN  \n",
       "Aquaman: Battle for Atlantis            NaN   NaN  NaN     NaN NaN   NaN  \n",
       "Battle vs. Chess                        NaN   NaN  NaN  2011.0 NaN   NaN  \n",
       "Bejeweled 3                             NaN   NaN  NaN     NaN NaN   NaN  \n",
       "BioShock 2                              NaN   NaN  NaN  2010.0 NaN   NaN  "
      ]
     },
     "execution_count": 10,
     "metadata": {},
     "output_type": "execute_result"
    }
   ],
   "source": [
    "games = data[data['year_of_release'].isna()]['name']\n",
    "(data[data['name'].isin(games)].\n",
    "    pivot_table(index = 'name', columns = 'platform', values ='year_of_release')).head()"
   ]
  },
  {
   "cell_type": "code",
   "execution_count": 11,
   "metadata": {},
   "outputs": [
    {
     "data": {
      "text/plain": [
       "year_of_release    269\n",
       "dtype: int64"
      ]
     },
     "execution_count": 11,
     "metadata": {},
     "output_type": "execute_result"
    }
   ],
   "source": [
    "data[['year_of_release']].isna().sum()"
   ]
  },
  {
   "cell_type": "markdown",
   "metadata": {},
   "source": [
    "У нас 269 строчек и их проще удалить, т.к. они все равно отвалятся, когда мы будем фильтровать данные по году выхода игры."
   ]
  },
  {
   "cell_type": "code",
   "execution_count": 12,
   "metadata": {},
   "outputs": [
    {
     "data": {
      "text/plain": [
       "year_of_release    0\n",
       "dtype: int64"
      ]
     },
     "execution_count": 12,
     "metadata": {},
     "output_type": "execute_result"
    }
   ],
   "source": [
    "data = data.dropna(subset = ['year_of_release'])\n",
    "data[['year_of_release']].isna().sum()"
   ]
  },
  {
   "cell_type": "code",
   "execution_count": 13,
   "metadata": {},
   "outputs": [
    {
     "data": {
      "text/html": [
       "<div>\n",
       "<style scoped>\n",
       "    .dataframe tbody tr th:only-of-type {\n",
       "        vertical-align: middle;\n",
       "    }\n",
       "\n",
       "    .dataframe tbody tr th {\n",
       "        vertical-align: top;\n",
       "    }\n",
       "\n",
       "    .dataframe thead th {\n",
       "        text-align: right;\n",
       "    }\n",
       "</style>\n",
       "<table border=\"1\" class=\"dataframe\">\n",
       "  <thead>\n",
       "    <tr style=\"text-align: right;\">\n",
       "      <th></th>\n",
       "      <th>name</th>\n",
       "      <th>platform</th>\n",
       "      <th>year_of_release</th>\n",
       "      <th>genre</th>\n",
       "      <th>na_sales</th>\n",
       "      <th>eu_sales</th>\n",
       "      <th>jp_sales</th>\n",
       "      <th>other_sales</th>\n",
       "      <th>critic_score</th>\n",
       "      <th>user_score</th>\n",
       "      <th>rating</th>\n",
       "    </tr>\n",
       "  </thead>\n",
       "  <tbody>\n",
       "    <tr>\n",
       "      <td>744</td>\n",
       "      <td>BioShock 2</td>\n",
       "      <td>X360</td>\n",
       "      <td>2010.0</td>\n",
       "      <td>Shooter</td>\n",
       "      <td>1.45</td>\n",
       "      <td>0.54</td>\n",
       "      <td>0.02</td>\n",
       "      <td>0.19</td>\n",
       "      <td>88.0</td>\n",
       "      <td>8.2</td>\n",
       "      <td>M</td>\n",
       "    </tr>\n",
       "    <tr>\n",
       "      <td>1211</td>\n",
       "      <td>BioShock 2</td>\n",
       "      <td>PS3</td>\n",
       "      <td>2010.0</td>\n",
       "      <td>Shooter</td>\n",
       "      <td>0.85</td>\n",
       "      <td>0.46</td>\n",
       "      <td>0.02</td>\n",
       "      <td>0.22</td>\n",
       "      <td>88.0</td>\n",
       "      <td>8.2</td>\n",
       "      <td>M</td>\n",
       "    </tr>\n",
       "  </tbody>\n",
       "</table>\n",
       "</div>"
      ],
      "text/plain": [
       "            name platform  year_of_release    genre  na_sales  eu_sales  \\\n",
       "744   BioShock 2     X360           2010.0  Shooter      1.45      0.54   \n",
       "1211  BioShock 2      PS3           2010.0  Shooter      0.85      0.46   \n",
       "\n",
       "      jp_sales  other_sales  critic_score user_score rating  \n",
       "744       0.02         0.19          88.0        8.2      M  \n",
       "1211      0.02         0.22          88.0        8.2      M  "
      ]
     },
     "execution_count": 13,
     "metadata": {},
     "output_type": "execute_result"
    }
   ],
   "source": [
    "#КОД РЕВЬЮЕРА \n",
    "#посмотрим все, что мы знаем по игре BioShock 2\n",
    "data[data['name']=='BioShock 2']"
   ]
  },
  {
   "cell_type": "markdown",
   "metadata": {},
   "source": [
    "Судя по всему некоторые игры просто не выходили на каких то платформах. Заполнять их будет неправильно, это повлияет на аналитику по популярности платформ, поэтому просто оставим их пустыми.  \n",
    "___\n",
    " Остались столбцы `critic_score`, `user_score`, `rating`."
   ]
  },
  {
   "cell_type": "code",
   "execution_count": 14,
   "metadata": {},
   "outputs": [
    {
     "data": {
      "text/plain": [
       "critic_score    8461\n",
       "user_score      6605\n",
       "rating          6676\n",
       "dtype: int64"
      ]
     },
     "execution_count": 14,
     "metadata": {},
     "output_type": "execute_result"
    }
   ],
   "source": [
    "data[['critic_score', 'user_score', 'rating']].isna().sum()"
   ]
  },
  {
   "cell_type": "markdown",
   "metadata": {},
   "source": [
    "Посмотрим на столбец `critic_score`."
   ]
  },
  {
   "cell_type": "code",
   "execution_count": 15,
   "metadata": {},
   "outputs": [
    {
     "data": {
      "text/plain": [
       "count    7983.000000\n",
       "mean       68.994363\n",
       "std        13.920060\n",
       "min        13.000000\n",
       "25%        60.000000\n",
       "50%        71.000000\n",
       "75%        79.000000\n",
       "max        98.000000\n",
       "Name: critic_score, dtype: float64"
      ]
     },
     "execution_count": 15,
     "metadata": {},
     "output_type": "execute_result"
    }
   ],
   "source": [
    "data['critic_score'].describe().T"
   ]
  },
  {
   "cell_type": "markdown",
   "metadata": {},
   "source": [
    "В столбце оценки критиков представлены числами. Заполнять их по среднему было бы не правильно, это исказит общую картину. Скорее всего некоторые игры просто не имеют оценку критиков, т.к. малопопулярны или еще по каким причинам. Оставим эти значения пустыми."
   ]
  },
  {
   "cell_type": "markdown",
   "metadata": {},
   "source": [
    "Далее столбец `user_score`."
   ]
  },
  {
   "cell_type": "code",
   "execution_count": 16,
   "metadata": {},
   "outputs": [
    {
     "data": {
      "text/plain": [
       "count     9839\n",
       "unique      96\n",
       "top        tbd\n",
       "freq      2376\n",
       "Name: user_score, dtype: object"
      ]
     },
     "execution_count": 16,
     "metadata": {},
     "output_type": "execute_result"
    }
   ],
   "source": [
    "data['user_score'].describe().T"
   ]
  },
  {
   "cell_type": "markdown",
   "metadata": {},
   "source": [
    "В данном столбце присутствуют значения tbd, что означает to be defined(предстоит определить). Заполним их пустыми значениями и сразу поменяем тип столбца на float, по аналогии с оценками критиков."
   ]
  },
  {
   "cell_type": "code",
   "execution_count": 17,
   "metadata": {},
   "outputs": [
    {
     "data": {
      "text/plain": [
       "count    7463.000000\n",
       "mean        7.126330\n",
       "std         1.499447\n",
       "min         0.000000\n",
       "25%         6.400000\n",
       "50%         7.500000\n",
       "75%         8.200000\n",
       "max         9.700000\n",
       "Name: user_score, dtype: float64"
      ]
     },
     "execution_count": 17,
     "metadata": {},
     "output_type": "execute_result"
    }
   ],
   "source": [
    "data.loc[data['user_score'] == 'tbd', 'user_score'] = float('nan')\n",
    "data['user_score'] = data['user_score'].astype('float')\n",
    "data['user_score'].describe().T"
   ]
  },
  {
   "cell_type": "markdown",
   "metadata": {},
   "source": [
    "Оставим оценки пользователей в таком виде. Заполнять пробелы нет смысла по той же причине, что и с критиками.  \n",
    "Остается столбец с рейтингом `rating`."
   ]
  },
  {
   "cell_type": "code",
   "execution_count": 18,
   "metadata": {},
   "outputs": [
    {
     "data": {
      "text/plain": [
       "count     9768\n",
       "unique       8\n",
       "top          E\n",
       "freq      3921\n",
       "Name: rating, dtype: object"
      ]
     },
     "execution_count": 18,
     "metadata": {},
     "output_type": "execute_result"
    }
   ],
   "source": [
    "data['rating'].describe().T"
   ]
  },
  {
   "cell_type": "markdown",
   "metadata": {},
   "source": [
    "Рейтинг представлен буквами, всего 8 разных значений. Позже мы поменяем тип данного столбца на категорию, а сейчас поставим на место пустых значений заглушку, что никак не повляет на дальнейший анализ.  \n",
    "Заглушку назовем `no_rating`, для удобства восприятия."
   ]
  },
  {
   "cell_type": "code",
   "execution_count": 19,
   "metadata": {},
   "outputs": [],
   "source": [
    "data.loc[data['rating'].isna(), 'rating'] = 'no_rating'"
   ]
  },
  {
   "cell_type": "code",
   "execution_count": 20,
   "metadata": {},
   "outputs": [
    {
     "data": {
      "text/plain": [
       "rating    0\n",
       "dtype: int64"
      ]
     },
     "execution_count": 20,
     "metadata": {},
     "output_type": "execute_result"
    }
   ],
   "source": [
    "data[['rating']].isna().sum()"
   ]
  },
  {
   "cell_type": "code",
   "execution_count": 21,
   "metadata": {},
   "outputs": [
    {
     "data": {
      "text/plain": [
       "array(['E', 'no_rating', 'M', 'T', 'E10+', 'K-A', 'AO', 'EC', 'RP'],\n",
       "      dtype=object)"
      ]
     },
     "execution_count": 21,
     "metadata": {},
     "output_type": "execute_result"
    }
   ],
   "source": [
    "data['rating'].unique()"
   ]
  },
  {
   "cell_type": "markdown",
   "metadata": {},
   "source": [
    "### Проверка дубликатов"
   ]
  },
  {
   "cell_type": "markdown",
   "metadata": {},
   "source": [
    "Проведем стандартную проверку дубликатов по полному совпадению."
   ]
  },
  {
   "cell_type": "code",
   "execution_count": 22,
   "metadata": {},
   "outputs": [
    {
     "data": {
      "text/plain": [
       "0"
      ]
     },
     "execution_count": 22,
     "metadata": {},
     "output_type": "execute_result"
    }
   ],
   "source": [
    "data.duplicated().sum()"
   ]
  },
  {
   "cell_type": "markdown",
   "metadata": {},
   "source": [
    "Посмотрим на значения в этом столбце."
   ]
  },
  {
   "cell_type": "code",
   "execution_count": 23,
   "metadata": {},
   "outputs": [
    {
     "data": {
      "text/plain": [
       "array(['E', 'no_rating', 'M', 'T', 'E10+', 'K-A', 'AO', 'EC', 'RP'],\n",
       "      dtype=object)"
      ]
     },
     "execution_count": 23,
     "metadata": {},
     "output_type": "execute_result"
    }
   ],
   "source": [
    "data['rating'].unique()"
   ]
  },
  {
   "cell_type": "markdown",
   "metadata": {},
   "source": [
    "`K-A` и `E` - это одинаковые обозначения, поэтому поменяем K-A на Е."
   ]
  },
  {
   "cell_type": "code",
   "execution_count": 24,
   "metadata": {},
   "outputs": [],
   "source": [
    "data['rating'] = data['rating'].str.replace('K-A', 'E', regex=True)"
   ]
  },
  {
   "cell_type": "code",
   "execution_count": 25,
   "metadata": {},
   "outputs": [
    {
     "data": {
      "text/plain": [
       "array(['E', 'no_rating', 'M', 'T', 'E10+', 'AO', 'EC', 'RP'], dtype=object)"
      ]
     },
     "execution_count": 25,
     "metadata": {},
     "output_type": "execute_result"
    }
   ],
   "source": [
    "data['rating'].unique()"
   ]
  },
  {
   "cell_type": "markdown",
   "metadata": {},
   "source": [
    "### Проверка типа данных\n",
    "Изменить тип данных в столбцах `Platform`, `Genre`, `User_Score`, `Rating`"
   ]
  },
  {
   "cell_type": "markdown",
   "metadata": {},
   "source": [
    "Сперва замерим объем памяти, для чего применим функцию от одного из прошлых ревьюеров."
   ]
  },
  {
   "cell_type": "code",
   "execution_count": 26,
   "metadata": {},
   "outputs": [],
   "source": [
    "def mem_usage(pandas_obj):\n",
    "    if isinstance(pandas_obj,pd.DataFrame):\n",
    "        usage_b = pandas_obj.memory_usage(deep=True).sum()\n",
    "    else: # исходим из предположения о том, что если это не DataFrame, то это Series\n",
    "        usage_b = pandas_obj.memory_usage(deep=True)\n",
    "    usage_mb = usage_b / 1024 ** 2 # преобразуем байты в мегабайты\n",
    "    return \"{:03.2f} MB\".format(usage_mb)"
   ]
  },
  {
   "cell_type": "code",
   "execution_count": 27,
   "metadata": {},
   "outputs": [
    {
     "data": {
      "text/plain": [
       "'5.18 MB'"
      ]
     },
     "execution_count": 27,
     "metadata": {},
     "output_type": "execute_result"
    }
   ],
   "source": [
    "mem_usage(data)"
   ]
  },
  {
   "cell_type": "markdown",
   "metadata": {},
   "source": [
    "Кол-во разных платформ, жанров и рэйтинга у нас ограничено, поэтому мы вполне можем поменять тип этих столбцов на категориальный."
   ]
  },
  {
   "cell_type": "code",
   "execution_count": 28,
   "metadata": {},
   "outputs": [
    {
     "name": "stdout",
     "output_type": "stream",
     "text": [
      "<class 'pandas.core.frame.DataFrame'>\n",
      "Int64Index: 16444 entries, 0 to 16714\n",
      "Data columns (total 3 columns):\n",
      "platform    16444 non-null category\n",
      "genre       16444 non-null category\n",
      "rating      16444 non-null category\n",
      "dtypes: category(3)\n",
      "memory usage: 178.9 KB\n"
     ]
    }
   ],
   "source": [
    "data['platform'] = data['platform'].astype('category')\n",
    "data['genre'] = data['genre'].astype('category')\n",
    "data['rating'] = data['rating'].astype('category')\n",
    "data[['platform', 'genre', 'rating']].info()"
   ]
  },
  {
   "cell_type": "markdown",
   "metadata": {},
   "source": [
    "Оценки пользователей мы уже поменяли, осталось только оптимизировать тип хранения числовых данных.  "
   ]
  },
  {
   "cell_type": "markdown",
   "metadata": {},
   "source": [
    "Дальше запустим функцию по оптимизации."
   ]
  },
  {
   "cell_type": "code",
   "execution_count": 29,
   "metadata": {},
   "outputs": [],
   "source": [
    "def optimise_me(data, my_type, opt_type):\n",
    "    data_opt = data.select_dtypes(include=[my_type])\n",
    "    data_opt_conv = data_opt.apply(pd.to_numeric,downcast=opt_type)\n",
    "    new_data = data\n",
    "    new_data[data_opt_conv.columns] = data_opt_conv\n",
    "    return new_data"
   ]
  },
  {
   "cell_type": "code",
   "execution_count": 30,
   "metadata": {},
   "outputs": [
    {
     "data": {
      "text/plain": [
       "'1.89 MB'"
      ]
     },
     "execution_count": 30,
     "metadata": {},
     "output_type": "execute_result"
    }
   ],
   "source": [
    "data = optimise_me(data, 'float', 'float')\n",
    "\n",
    "mem_usage(data)"
   ]
  },
  {
   "cell_type": "code",
   "execution_count": 31,
   "metadata": {},
   "outputs": [
    {
     "name": "stdout",
     "output_type": "stream",
     "text": [
      "<class 'pandas.core.frame.DataFrame'>\n",
      "Int64Index: 16444 entries, 0 to 16714\n",
      "Data columns (total 11 columns):\n",
      "name               16444 non-null object\n",
      "platform           16444 non-null category\n",
      "year_of_release    16444 non-null float32\n",
      "genre              16444 non-null category\n",
      "na_sales           16444 non-null float32\n",
      "eu_sales           16444 non-null float32\n",
      "jp_sales           16444 non-null float32\n",
      "other_sales        16444 non-null float32\n",
      "critic_score       7983 non-null float32\n",
      "user_score         7463 non-null float32\n",
      "rating             16444 non-null category\n",
      "dtypes: category(3), float32(7), object(1)\n",
      "memory usage: 757.0+ KB\n"
     ]
    }
   ],
   "source": [
    "data.info()"
   ]
  },
  {
   "cell_type": "markdown",
   "metadata": {},
   "source": [
    "Оптимизация позволила нам уменьшить объем используемой памяти более чем в 2.5 раза. Неплохой результат."
   ]
  },
  {
   "cell_type": "markdown",
   "metadata": {},
   "source": [
    "### Подсчет суммарных продаж по всем регионам"
   ]
  },
  {
   "cell_type": "markdown",
   "metadata": {},
   "source": [
    "Для подсчета суммарных продаж по всем регионам нам потребуется сложить данные по продажам в каждом регионе и записать результат в новый столбец. Сперва напишем функцию, а потом применим ее."
   ]
  },
  {
   "cell_type": "code",
   "execution_count": 32,
   "metadata": {},
   "outputs": [],
   "source": [
    "def sum_sales (row):\n",
    "    return row.na_sales + row.eu_sales + row.jp_sales + row.other_sales"
   ]
  },
  {
   "cell_type": "code",
   "execution_count": 33,
   "metadata": {},
   "outputs": [
    {
     "data": {
      "text/html": [
       "<div>\n",
       "<style scoped>\n",
       "    .dataframe tbody tr th:only-of-type {\n",
       "        vertical-align: middle;\n",
       "    }\n",
       "\n",
       "    .dataframe tbody tr th {\n",
       "        vertical-align: top;\n",
       "    }\n",
       "\n",
       "    .dataframe thead th {\n",
       "        text-align: right;\n",
       "    }\n",
       "</style>\n",
       "<table border=\"1\" class=\"dataframe\">\n",
       "  <thead>\n",
       "    <tr style=\"text-align: right;\">\n",
       "      <th></th>\n",
       "      <th>name</th>\n",
       "      <th>platform</th>\n",
       "      <th>year_of_release</th>\n",
       "      <th>genre</th>\n",
       "      <th>na_sales</th>\n",
       "      <th>eu_sales</th>\n",
       "      <th>jp_sales</th>\n",
       "      <th>other_sales</th>\n",
       "      <th>critic_score</th>\n",
       "      <th>user_score</th>\n",
       "      <th>rating</th>\n",
       "      <th>world_sales</th>\n",
       "    </tr>\n",
       "  </thead>\n",
       "  <tbody>\n",
       "    <tr>\n",
       "      <td>0</td>\n",
       "      <td>Wii Sports</td>\n",
       "      <td>Wii</td>\n",
       "      <td>2006.0</td>\n",
       "      <td>Sports</td>\n",
       "      <td>41.360001</td>\n",
       "      <td>28.959999</td>\n",
       "      <td>3.77</td>\n",
       "      <td>8.45</td>\n",
       "      <td>76.0</td>\n",
       "      <td>8.0</td>\n",
       "      <td>E</td>\n",
       "      <td>82.54</td>\n",
       "    </tr>\n",
       "    <tr>\n",
       "      <td>1</td>\n",
       "      <td>Super Mario Bros.</td>\n",
       "      <td>NES</td>\n",
       "      <td>1985.0</td>\n",
       "      <td>Platform</td>\n",
       "      <td>29.080000</td>\n",
       "      <td>3.580000</td>\n",
       "      <td>6.81</td>\n",
       "      <td>0.77</td>\n",
       "      <td>NaN</td>\n",
       "      <td>NaN</td>\n",
       "      <td>no_rating</td>\n",
       "      <td>40.24</td>\n",
       "    </tr>\n",
       "    <tr>\n",
       "      <td>2</td>\n",
       "      <td>Mario Kart Wii</td>\n",
       "      <td>Wii</td>\n",
       "      <td>2008.0</td>\n",
       "      <td>Racing</td>\n",
       "      <td>15.680000</td>\n",
       "      <td>12.760000</td>\n",
       "      <td>3.79</td>\n",
       "      <td>3.29</td>\n",
       "      <td>82.0</td>\n",
       "      <td>8.3</td>\n",
       "      <td>E</td>\n",
       "      <td>35.52</td>\n",
       "    </tr>\n",
       "    <tr>\n",
       "      <td>3</td>\n",
       "      <td>Wii Sports Resort</td>\n",
       "      <td>Wii</td>\n",
       "      <td>2009.0</td>\n",
       "      <td>Sports</td>\n",
       "      <td>15.610000</td>\n",
       "      <td>10.930000</td>\n",
       "      <td>3.28</td>\n",
       "      <td>2.95</td>\n",
       "      <td>80.0</td>\n",
       "      <td>8.0</td>\n",
       "      <td>E</td>\n",
       "      <td>32.77</td>\n",
       "    </tr>\n",
       "    <tr>\n",
       "      <td>4</td>\n",
       "      <td>Pokemon Red/Pokemon Blue</td>\n",
       "      <td>GB</td>\n",
       "      <td>1996.0</td>\n",
       "      <td>Role-Playing</td>\n",
       "      <td>11.270000</td>\n",
       "      <td>8.890000</td>\n",
       "      <td>10.22</td>\n",
       "      <td>1.00</td>\n",
       "      <td>NaN</td>\n",
       "      <td>NaN</td>\n",
       "      <td>no_rating</td>\n",
       "      <td>31.38</td>\n",
       "    </tr>\n",
       "  </tbody>\n",
       "</table>\n",
       "</div>"
      ],
      "text/plain": [
       "                       name platform  year_of_release         genre  \\\n",
       "0                Wii Sports      Wii           2006.0        Sports   \n",
       "1         Super Mario Bros.      NES           1985.0      Platform   \n",
       "2            Mario Kart Wii      Wii           2008.0        Racing   \n",
       "3         Wii Sports Resort      Wii           2009.0        Sports   \n",
       "4  Pokemon Red/Pokemon Blue       GB           1996.0  Role-Playing   \n",
       "\n",
       "    na_sales   eu_sales  jp_sales  other_sales  critic_score  user_score  \\\n",
       "0  41.360001  28.959999      3.77         8.45          76.0         8.0   \n",
       "1  29.080000   3.580000      6.81         0.77           NaN         NaN   \n",
       "2  15.680000  12.760000      3.79         3.29          82.0         8.3   \n",
       "3  15.610000  10.930000      3.28         2.95          80.0         8.0   \n",
       "4  11.270000   8.890000     10.22         1.00           NaN         NaN   \n",
       "\n",
       "      rating  world_sales  \n",
       "0          E        82.54  \n",
       "1  no_rating        40.24  \n",
       "2          E        35.52  \n",
       "3          E        32.77  \n",
       "4  no_rating        31.38  "
      ]
     },
     "execution_count": 33,
     "metadata": {},
     "output_type": "execute_result"
    }
   ],
   "source": [
    "data['world_sales'] = data.apply(sum_sales, axis=1).round(decimals=2)\n",
    "data.head()"
   ]
  },
  {
   "cell_type": "markdown",
   "metadata": {},
   "source": [
    "### Вывод по блоку\n",
    "В результате предобработки данных мы выполнили:\n",
    "* привели названия столбцов к удобному формату;\n",
    "* удалили 2 строки с пустыми значениями в столбцах `name` и `genre`;\n",
    "* пустые значения в столбцах с оценкой критиков и пользователей оставили не заполненными; в оценках пользователей заменили значение tbd на пустое значение;\n",
    "* пустые значения в столбце `rating` заменили на заглушки `nj_rating`;\n",
    "* оптимизировали вес таблицы за счет оптимизации данных c 5.27 Mb до 1.92 Mb; \n",
    " * поменяли тип данных в столбцах `platform`, `genre`, `rating` на категориальный;\n",
    " * поменяли тип данных в столбце `user_score` на float;\n",
    " * оптимизировали тип данных в прочих столбцах, сократив выделяемый объем памяти;\n",
    "* добавили новый столбец `world_sales` с информацией о продажах по всему миру;"
   ]
  },
  {
   "cell_type": "markdown",
   "metadata": {},
   "source": [
    "## Анализ данных\n",
    "* Посмотрите, сколько игр выпускалось в разные годы. Важны ли данные за все периоды?\n",
    "* Посмотрите, как менялись продажи по платформам. Выберите платформы с наибольшими суммарными продажами и постройте распределение по годам. За какой характерный срок появляются новые и исчезают старые платформы?\n",
    "* Возьмите данные за соответствующий актуальный период. Актуальный период определите самостоятельно в результате исследования предыдущих вопросов. Основной фактор — эти данные помогут построить прогноз на 2017 год.\n",
    "* Не учитывайте в работе данные за предыдущие годы.\n",
    "* Какие платформы лидируют по продажам, растут или падают? Выберите несколько потенциально прибыльных платформ.\n",
    "* Постройте график «ящик с усами» по глобальным продажам игр в разбивке по платформам. Опишите результат.\n",
    "* Посмотрите, как влияют на продажи внутри одной популярной платформы отзывы пользователей и критиков.  \n",
    "* Постройте диаграмму рассеяния и посчитайте корреляцию между отзывами и продажами. Сформулируйте выводы.\n",
    "* Соотнесите выводы с продажами игр на других платформах.\n",
    "* Посмотрите на общее распределение игр по жанрам. Что можно сказать о самых прибыльных жанрах? Выделяются ли жанры с высокими и низкими продажами?"
   ]
  },
  {
   "cell_type": "markdown",
   "metadata": {},
   "source": [
    "### Анализ кол-ва игр, выпущенное по годам\n",
    "Важны ли данные за все периоды?"
   ]
  },
  {
   "cell_type": "markdown",
   "metadata": {},
   "source": [
    "Сперва группируем кол-во игр по годам.  \n",
    "Далее изменим тип данных для года на int, ранее мы не могли это сделать из-за пустых значений.  "
   ]
  },
  {
   "cell_type": "code",
   "execution_count": 34,
   "metadata": {},
   "outputs": [
    {
     "data": {
      "text/plain": [
       "year_of_release\n",
       "1980     9\n",
       "1981    46\n",
       "1982    36\n",
       "1983    17\n",
       "1984    14\n",
       "Name: name, dtype: int64"
      ]
     },
     "execution_count": 34,
     "metadata": {},
     "output_type": "execute_result"
    }
   ],
   "source": [
    "games_by_years = data.groupby(by='year_of_release')['name'].count()\n",
    "games_by_years.index = games_by_years.index.astype('int')\n",
    "games_by_years.head()"
   ]
  },
  {
   "cell_type": "markdown",
   "metadata": {},
   "source": [
    "Построим гистограмму."
   ]
  },
  {
   "cell_type": "code",
   "execution_count": 35,
   "metadata": {},
   "outputs": [
    {
     "data": {
      "image/png": "[encoded data removed]",
      "text/plain": [
       "<Figure size 648x216 with 1 Axes>"
      ]
     },
     "metadata": {
      "needs_background": "light"
     },
     "output_type": "display_data"
    }
   ],
   "source": [
    "(games_by_years\n",
    " .plot(kind='bar', figsize=(9,3),\n",
    "       title='Кол-во видеоигр, выпущенных с 1980 по 2016 год', grid=True))\n",
    "plt.xlabel('Год')\n",
    "plt.ylabel('Кол-во видеоигр')\n",
    "plt.show()"
   ]
  },
  {
   "cell_type": "code",
   "execution_count": 36,
   "metadata": {},
   "outputs": [
    {
     "data": {
      "text/plain": [
       "2324"
      ]
     },
     "execution_count": 36,
     "metadata": {},
     "output_type": "execute_result"
    }
   ],
   "source": [
    "data.query('year_of_release < 2001')['name'].count()"
   ]
  },
  {
   "cell_type": "code",
   "execution_count": 37,
   "metadata": {},
   "outputs": [
    {
     "data": {
      "text/plain": [
       "14120"
      ]
     },
     "execution_count": 37,
     "metadata": {},
     "output_type": "execute_result"
    }
   ],
   "source": [
    "data.query('year_of_release >= 2001')['name'].count()"
   ]
  },
  {
   "cell_type": "markdown",
   "metadata": {},
   "source": [
    "#### Краткий вывод\n",
    "Я бы отбросил все игры, вышедшие до 2012.  \n",
    "В период с 2012 по 2016 год выходило приблизительно одинаковое кол-во игр. Вкусы пользователей еще не успели сильно измениться. Все, что выходило ранее, может давать ложные данные, т.к. за последние годы очень сильно выросла в играх **online** составляющая, которая раньше не так активно использовалась. Так же появляются более современные технологии, которые помогают раскрываться жанрам, сильно зависящим от **картинки**."
   ]
  },
  {
   "cell_type": "markdown",
   "metadata": {},
   "source": [
    "### Как менялись продажи по платформам. Срок жизни платформ.\n",
    "Посмотрите, как менялись продажи по платформам. Выберите платформы с наибольшими суммарными продажами и постройте распределение по годам. За какой характерный срок появляются новые и исчезают старые платформы?"
   ]
  },
  {
   "cell_type": "markdown",
   "metadata": {},
   "source": [
    "Посмотрим как выглядит топ-10 платформ по продажам."
   ]
  },
  {
   "cell_type": "code",
   "execution_count": 38,
   "metadata": {},
   "outputs": [
    {
     "data": {
      "image/png": "[encoded data removed]",
      "text/plain": [
       "<Figure size 720x360 with 1 Axes>"
      ]
     },
     "metadata": {
      "needs_background": "light"
     },
     "output_type": "display_data"
    }
   ],
   "source": [
    "top_sales_by_platforms = (data.groupby('platform').\n",
    "                      agg({'world_sales': 'sum'}).\n",
    "                      sort_values(by='world_sales').\n",
    "                      tail(10).index\n",
    "                     )\n",
    "(data.query('platform in @top_sales_by_platforms')\n",
    "    .pivot_table(index='year_of_release', columns = 'platform', \n",
    "                    values='world_sales', aggfunc='sum')\n",
    "    .plot(figsize=(10,5), title='Объем продаж по платформам', grid=True))\n",
    "plt.xlabel('Год')\n",
    "plt.ylabel('Кол-во проданных видеоигр, млн')\n",
    "plt.show()"
   ]
  },
  {
   "cell_type": "markdown",
   "metadata": {},
   "source": [
    "Судя по всему каждую платформу после пикового роста ждет неминуемое падение. И только неубиваемый PC держит марку.\n",
    "___\n",
    "Проверим срок жизни платформ."
   ]
  },
  {
   "cell_type": "code",
   "execution_count": 39,
   "metadata": {},
   "outputs": [],
   "source": [
    "def platform_life(row):\n",
    "    return (row.end_life - row.start_life)"
   ]
  },
  {
   "cell_type": "code",
   "execution_count": 40,
   "metadata": {},
   "outputs": [
    {
     "name": "stderr",
     "output_type": "stream",
     "text": [
      "/opt/conda/lib/python3.7/site-packages/numpy/core/fromnumeric.py:2580: FutureWarning: Method .ptp is deprecated and will be removed in a future version. Use numpy.ptp instead.\n",
      "  return ptp(axis=axis, out=out, **kwargs)\n"
     ]
    },
    {
     "data": {
      "text/html": [
       "<div>\n",
       "<style scoped>\n",
       "    .dataframe tbody tr th:only-of-type {\n",
       "        vertical-align: middle;\n",
       "    }\n",
       "\n",
       "    .dataframe tbody tr th {\n",
       "        vertical-align: top;\n",
       "    }\n",
       "\n",
       "    .dataframe thead th {\n",
       "        text-align: right;\n",
       "    }\n",
       "</style>\n",
       "<table border=\"1\" class=\"dataframe\">\n",
       "  <thead>\n",
       "    <tr style=\"text-align: right;\">\n",
       "      <th></th>\n",
       "      <th>start_life</th>\n",
       "      <th>end_life</th>\n",
       "      <th>life_long</th>\n",
       "    </tr>\n",
       "    <tr>\n",
       "      <th>platform</th>\n",
       "      <th></th>\n",
       "      <th></th>\n",
       "      <th></th>\n",
       "    </tr>\n",
       "  </thead>\n",
       "  <tbody>\n",
       "    <tr>\n",
       "      <td>2600</td>\n",
       "      <td>1980.0</td>\n",
       "      <td>1989.0</td>\n",
       "      <td>9.0</td>\n",
       "    </tr>\n",
       "    <tr>\n",
       "      <td>3DO</td>\n",
       "      <td>1994.0</td>\n",
       "      <td>1995.0</td>\n",
       "      <td>1.0</td>\n",
       "    </tr>\n",
       "    <tr>\n",
       "      <td>3DS</td>\n",
       "      <td>2011.0</td>\n",
       "      <td>2016.0</td>\n",
       "      <td>5.0</td>\n",
       "    </tr>\n",
       "    <tr>\n",
       "      <td>DC</td>\n",
       "      <td>1998.0</td>\n",
       "      <td>2008.0</td>\n",
       "      <td>10.0</td>\n",
       "    </tr>\n",
       "    <tr>\n",
       "      <td>DS</td>\n",
       "      <td>1985.0</td>\n",
       "      <td>2013.0</td>\n",
       "      <td>28.0</td>\n",
       "    </tr>\n",
       "  </tbody>\n",
       "</table>\n",
       "</div>"
      ],
      "text/plain": [
       "          start_life  end_life  life_long\n",
       "platform                                 \n",
       "2600          1980.0    1989.0        9.0\n",
       "3DO           1994.0    1995.0        1.0\n",
       "3DS           2011.0    2016.0        5.0\n",
       "DC            1998.0    2008.0       10.0\n",
       "DS            1985.0    2013.0       28.0"
      ]
     },
     "execution_count": 40,
     "metadata": {},
     "output_type": "execute_result"
    }
   ],
   "source": [
    "platforms = (data.pivot_table(\n",
    "            index='platform', values='year_of_release', aggfunc=[min, max, np.ptp])\n",
    "            )\n",
    "platforms.columns = ['start_life', 'end_life','life_long']\n",
    "# platforms['life_long'] = platforms.apply(platform_life, axis=1)\n",
    "platforms.head()"
   ]
  },
  {
   "cell_type": "code",
   "execution_count": 41,
   "metadata": {},
   "outputs": [
    {
     "data": {
      "text/html": [
       "<div>\n",
       "<style scoped>\n",
       "    .dataframe tbody tr th:only-of-type {\n",
       "        vertical-align: middle;\n",
       "    }\n",
       "\n",
       "    .dataframe tbody tr th {\n",
       "        vertical-align: top;\n",
       "    }\n",
       "\n",
       "    .dataframe thead th {\n",
       "        text-align: right;\n",
       "    }\n",
       "</style>\n",
       "<table border=\"1\" class=\"dataframe\">\n",
       "  <thead>\n",
       "    <tr style=\"text-align: right;\">\n",
       "      <th></th>\n",
       "      <th>start_life</th>\n",
       "      <th>end_life</th>\n",
       "      <th>life_long</th>\n",
       "    </tr>\n",
       "    <tr>\n",
       "      <th>platform</th>\n",
       "      <th></th>\n",
       "      <th></th>\n",
       "      <th></th>\n",
       "    </tr>\n",
       "  </thead>\n",
       "  <tbody>\n",
       "    <tr>\n",
       "      <td>PC</td>\n",
       "      <td>1985.0</td>\n",
       "      <td>2016.0</td>\n",
       "      <td>31.0</td>\n",
       "    </tr>\n",
       "    <tr>\n",
       "      <td>X360</td>\n",
       "      <td>2005.0</td>\n",
       "      <td>2016.0</td>\n",
       "      <td>11.0</td>\n",
       "    </tr>\n",
       "    <tr>\n",
       "      <td>PS3</td>\n",
       "      <td>2006.0</td>\n",
       "      <td>2016.0</td>\n",
       "      <td>10.0</td>\n",
       "    </tr>\n",
       "    <tr>\n",
       "      <td>Wii</td>\n",
       "      <td>2006.0</td>\n",
       "      <td>2016.0</td>\n",
       "      <td>10.0</td>\n",
       "    </tr>\n",
       "    <tr>\n",
       "      <td>3DS</td>\n",
       "      <td>2011.0</td>\n",
       "      <td>2016.0</td>\n",
       "      <td>5.0</td>\n",
       "    </tr>\n",
       "    <tr>\n",
       "      <td>PSV</td>\n",
       "      <td>2011.0</td>\n",
       "      <td>2016.0</td>\n",
       "      <td>5.0</td>\n",
       "    </tr>\n",
       "    <tr>\n",
       "      <td>WiiU</td>\n",
       "      <td>2012.0</td>\n",
       "      <td>2016.0</td>\n",
       "      <td>4.0</td>\n",
       "    </tr>\n",
       "    <tr>\n",
       "      <td>PS4</td>\n",
       "      <td>2013.0</td>\n",
       "      <td>2016.0</td>\n",
       "      <td>3.0</td>\n",
       "    </tr>\n",
       "    <tr>\n",
       "      <td>XOne</td>\n",
       "      <td>2013.0</td>\n",
       "      <td>2016.0</td>\n",
       "      <td>3.0</td>\n",
       "    </tr>\n",
       "  </tbody>\n",
       "</table>\n",
       "</div>"
      ],
      "text/plain": [
       "          start_life  end_life  life_long\n",
       "platform                                 \n",
       "PC            1985.0    2016.0       31.0\n",
       "X360          2005.0    2016.0       11.0\n",
       "PS3           2006.0    2016.0       10.0\n",
       "Wii           2006.0    2016.0       10.0\n",
       "3DS           2011.0    2016.0        5.0\n",
       "PSV           2011.0    2016.0        5.0\n",
       "WiiU          2012.0    2016.0        4.0\n",
       "PS4           2013.0    2016.0        3.0\n",
       "XOne          2013.0    2016.0        3.0"
      ]
     },
     "execution_count": 41,
     "metadata": {},
     "output_type": "execute_result"
    }
   ],
   "source": [
    "platforms.query('end_life == 2016').sort_values(by='start_life').tail(10)"
   ]
  },
  {
   "cell_type": "code",
   "execution_count": 42,
   "metadata": {},
   "outputs": [
    {
     "data": {
      "text/html": [
       "<div>\n",
       "<style scoped>\n",
       "    .dataframe tbody tr th:only-of-type {\n",
       "        vertical-align: middle;\n",
       "    }\n",
       "\n",
       "    .dataframe tbody tr th {\n",
       "        vertical-align: top;\n",
       "    }\n",
       "\n",
       "    .dataframe thead th {\n",
       "        text-align: right;\n",
       "    }\n",
       "</style>\n",
       "<table border=\"1\" class=\"dataframe\">\n",
       "  <thead>\n",
       "    <tr style=\"text-align: right;\">\n",
       "      <th></th>\n",
       "      <th>start_life</th>\n",
       "      <th>end_life</th>\n",
       "      <th>life_long</th>\n",
       "    </tr>\n",
       "    <tr>\n",
       "      <th>platform</th>\n",
       "      <th></th>\n",
       "      <th></th>\n",
       "      <th></th>\n",
       "    </tr>\n",
       "  </thead>\n",
       "  <tbody>\n",
       "    <tr>\n",
       "      <td>X360</td>\n",
       "      <td>2005.0</td>\n",
       "      <td>2016.0</td>\n",
       "      <td>11.0</td>\n",
       "    </tr>\n",
       "    <tr>\n",
       "      <td>PSP</td>\n",
       "      <td>2004.0</td>\n",
       "      <td>2015.0</td>\n",
       "      <td>11.0</td>\n",
       "    </tr>\n",
       "    <tr>\n",
       "      <td>GB</td>\n",
       "      <td>1988.0</td>\n",
       "      <td>2001.0</td>\n",
       "      <td>13.0</td>\n",
       "    </tr>\n",
       "    <tr>\n",
       "      <td>DS</td>\n",
       "      <td>1985.0</td>\n",
       "      <td>2013.0</td>\n",
       "      <td>28.0</td>\n",
       "    </tr>\n",
       "    <tr>\n",
       "      <td>PC</td>\n",
       "      <td>1985.0</td>\n",
       "      <td>2016.0</td>\n",
       "      <td>31.0</td>\n",
       "    </tr>\n",
       "  </tbody>\n",
       "</table>\n",
       "</div>"
      ],
      "text/plain": [
       "          start_life  end_life  life_long\n",
       "platform                                 \n",
       "X360          2005.0    2016.0       11.0\n",
       "PSP           2004.0    2015.0       11.0\n",
       "GB            1988.0    2001.0       13.0\n",
       "DS            1985.0    2013.0       28.0\n",
       "PC            1985.0    2016.0       31.0"
      ]
     },
     "execution_count": 42,
     "metadata": {},
     "output_type": "execute_result"
    }
   ],
   "source": [
    "platforms.sort_values(by='life_long').tail()"
   ]
  },
  {
   "cell_type": "code",
   "execution_count": 43,
   "metadata": {},
   "outputs": [
    {
     "data": {
      "text/plain": [
       "count    31.000000\n",
       "mean      7.612903\n",
       "std       6.998464\n",
       "min       0.000000\n",
       "25%       3.000000\n",
       "50%       6.000000\n",
       "75%      10.000000\n",
       "max      31.000000\n",
       "Name: life_long, dtype: float64"
      ]
     },
     "execution_count": 43,
     "metadata": {},
     "output_type": "execute_result"
    }
   ],
   "source": [
    "platforms['life_long'].describe()"
   ]
  },
  {
   "cell_type": "markdown",
   "metadata": {},
   "source": [
    "#### Краткий вывод\n",
    "Для подсчета срока жизни средней платформы я бы все же взял медиану, т.к. две платформы явно выбиваются из общего тренда - это `DS` и `PC`. По медиане средний срок жизни платформы равен 6 годам.  \n",
    "Таким образом наиболее перспективные платформы на данный момент:\n",
    "* XOne\n",
    "* PS4\n",
    "* WiiU\n",
    "* PSV\n",
    "* 3DS\n",
    "* PC (неубиваемый)"
   ]
  },
  {
   "cell_type": "markdown",
   "metadata": {},
   "source": [
    "### Постройте график «ящик с усами» по глобальным продажам игр в разбивке по платформам. \n",
    "Опишите результат."
   ]
  },
  {
   "cell_type": "markdown",
   "metadata": {},
   "source": [
    "Построим график boxplot() по наиболее перспективным платформам."
   ]
  },
  {
   "cell_type": "code",
   "execution_count": 44,
   "metadata": {},
   "outputs": [],
   "source": [
    "p_XOne = data.query('platform == \"XOne\"')['world_sales']\n",
    "p_PS4 = data.query('platform == \"PS4\"')['world_sales']\n",
    "p_WiiU = data.query('platform == \"WiiU\"')['world_sales']\n",
    "p_PSV = data.query('platform == \"PSV\"')['world_sales']\n",
    "p_3DS = data.query('platform == \"3DS\"')['world_sales']\n",
    "p_PC = data.query('platform == \"PC\"')['world_sales']"
   ]
  },
  {
   "cell_type": "code",
   "execution_count": 45,
   "metadata": {
    "scrolled": true
   },
   "outputs": [
    {
     "name": "stderr",
     "output_type": "stream",
     "text": [
      "/opt/conda/lib/python3.7/site-packages/numpy/core/_asarray.py:83: VisibleDeprecationWarning: Creating an ndarray from ragged nested sequences (which is a list-or-tuple of lists-or-tuples-or ndarrays with different lengths or shapes) is deprecated. If you meant to do this, you must specify 'dtype=object' when creating the ndarray\n",
      "  return array(a, dtype, copy=False, order=order)\n"
     ]
    },
    {
     "data": {
      "image/png": "[encoded data removed]",
      "text/plain": [
       "<Figure size 432x288 with 1 Axes>"
      ]
     },
     "metadata": {
      "needs_background": "light"
     },
     "output_type": "display_data"
    }
   ],
   "source": [
    "plt.boxplot([p_XOne, p_PS4, p_WiiU, p_PSV, p_3DS, p_PC],\n",
    "           labels=['XOne', 'PS4', 'WiiU', 'PSV', '3DS', 'PC'],\n",
    "           vert=False,\n",
    "           )\n",
    "plt.show()"
   ]
  },
  {
   "cell_type": "markdown",
   "metadata": {},
   "source": [
    "Получилось не очень. Надо срезать слишком высокие значения. Используем функцию."
   ]
  },
  {
   "cell_type": "code",
   "execution_count": 46,
   "metadata": {},
   "outputs": [],
   "source": [
    "def rare_values(df):\n",
    "    numerics = (['int8', 'int16', 'int32', 'int64', \n",
    "                 'uint8', 'uint16', 'uint32', 'uint64',\n",
    "                 'float16', 'float32', 'float64'])\n",
    "    df_test = df.select_dtypes(include=numerics)\n",
    "    for col in df_test.columns:\n",
    "        q1 = df_test[col].quantile(0.25)\n",
    "        q3 = df_test[col].quantile(0.75)\n",
    "        iqr = q3 - q1\n",
    "        bot_border = q1 - iqr*1.5\n",
    "        top_border = q3 + iqr*1.5\n",
    "        rare_values_bot = df.query(f'{col} < @bot_border')[col].count()\n",
    "        rare_values_top = df.query(f'{col} > @top_border')[col].count()\n",
    "        print (f'Колонка - {col}\\n'\n",
    "                f'Первый квартиль = {q1}, Третий квартиль = {q3}\\n'\n",
    "                f'Нижняя граница = {bot_border}, Верхняя граница = {top_border}\\n'\n",
    "                f'Редкие значения меньше нижней границы = {rare_values_bot}\\n'\n",
    "                f'Редкие значения больше верхней границы = {rare_values_top}\\n'\n",
    "               )"
   ]
  },
  {
   "cell_type": "code",
   "execution_count": 47,
   "metadata": {},
   "outputs": [],
   "source": [
    "data_mean = data[(data['world_sales'] < 1) & (data['year_of_release'] > 2011)]\n",
    "p_XOne_2 = data_mean.query('platform == \"XOne\"')['world_sales']\n",
    "p_PS4_2 = data_mean.query('platform == \"PS4\"')['world_sales']\n",
    "p_WiiU_2 = data_mean.query('platform == \"WiiU\"')['world_sales']\n",
    "p_PSV_2 = data_mean.query('platform == \"PSV\"')['world_sales']\n",
    "p_3DS_2 = data_mean.query('platform == \"3DS\"')['world_sales']\n",
    "p_PC_2 = data_mean.query('platform == \"PC\"')['world_sales']"
   ]
  },
  {
   "cell_type": "code",
   "execution_count": 48,
   "metadata": {},
   "outputs": [
    {
     "name": "stderr",
     "output_type": "stream",
     "text": [
      "/opt/conda/lib/python3.7/site-packages/numpy/core/_asarray.py:83: VisibleDeprecationWarning: Creating an ndarray from ragged nested sequences (which is a list-or-tuple of lists-or-tuples-or ndarrays with different lengths or shapes) is deprecated. If you meant to do this, you must specify 'dtype=object' when creating the ndarray\n",
      "  return array(a, dtype, copy=False, order=order)\n"
     ]
    },
    {
     "data": {
      "image/png": "[encoded data removed]",
      "text/plain": [
       "<Figure size 432x288 with 1 Axes>"
      ]
     },
     "metadata": {
      "needs_background": "light"
     },
     "output_type": "display_data"
    }
   ],
   "source": [
    "plt.boxplot([p_XOne_2, p_PS4_2, p_WiiU_2, p_PSV_2, p_3DS_2, p_PC_2],\n",
    "           labels=['XOne', 'PS4', 'WiiU', 'PSV', '3DS', 'PC'],\n",
    "           vert=False,\n",
    "           )\n",
    "plt.show()"
   ]
  },
  {
   "cell_type": "markdown",
   "metadata": {},
   "source": [
    "#### Краткий вывод\n",
    "Из 6 платформ, выбранных для иследования, наибольший интерес вызывают:\n",
    "* WiiU\n",
    "* PS4\n",
    "* XOne\n",
    "\n",
    "Судя по графику, медиана и верхний ус этих платформ имеют самые высокие показатели, что говорит о наибольшей популярности среди пользователей. Для продвижения новых игр, целесообрознее было бы выбрать одну из этих платформ."
   ]
  },
  {
   "cell_type": "markdown",
   "metadata": {},
   "source": [
    "### Влияние на продажи отзывов пользователей и оценки критиков на примере PS4"
   ]
  },
  {
   "cell_type": "markdown",
   "metadata": {},
   "source": [
    "Сперва отфильтруем нужные данные из общей таблицы."
   ]
  },
  {
   "cell_type": "code",
   "execution_count": 49,
   "metadata": {},
   "outputs": [
    {
     "data": {
      "text/html": [
       "<div>\n",
       "<style scoped>\n",
       "    .dataframe tbody tr th:only-of-type {\n",
       "        vertical-align: middle;\n",
       "    }\n",
       "\n",
       "    .dataframe tbody tr th {\n",
       "        vertical-align: top;\n",
       "    }\n",
       "\n",
       "    .dataframe thead th {\n",
       "        text-align: right;\n",
       "    }\n",
       "</style>\n",
       "<table border=\"1\" class=\"dataframe\">\n",
       "  <thead>\n",
       "    <tr style=\"text-align: right;\">\n",
       "      <th></th>\n",
       "      <th>world_sales</th>\n",
       "      <th>critic_score</th>\n",
       "      <th>user_score</th>\n",
       "    </tr>\n",
       "  </thead>\n",
       "  <tbody>\n",
       "    <tr>\n",
       "      <td>31</td>\n",
       "      <td>14.63</td>\n",
       "      <td>NaN</td>\n",
       "      <td>NaN</td>\n",
       "    </tr>\n",
       "    <tr>\n",
       "      <td>42</td>\n",
       "      <td>12.62</td>\n",
       "      <td>97.0</td>\n",
       "      <td>8.3</td>\n",
       "    </tr>\n",
       "    <tr>\n",
       "      <td>77</td>\n",
       "      <td>8.58</td>\n",
       "      <td>82.0</td>\n",
       "      <td>4.3</td>\n",
       "    </tr>\n",
       "    <tr>\n",
       "      <td>87</td>\n",
       "      <td>7.98</td>\n",
       "      <td>NaN</td>\n",
       "      <td>NaN</td>\n",
       "    </tr>\n",
       "    <tr>\n",
       "      <td>92</td>\n",
       "      <td>7.66</td>\n",
       "      <td>83.0</td>\n",
       "      <td>5.7</td>\n",
       "    </tr>\n",
       "  </tbody>\n",
       "</table>\n",
       "</div>"
      ],
      "text/plain": [
       "    world_sales  critic_score  user_score\n",
       "31        14.63           NaN         NaN\n",
       "42        12.62          97.0         8.3\n",
       "77         8.58          82.0         4.3\n",
       "87         7.98           NaN         NaN\n",
       "92         7.66          83.0         5.7"
      ]
     },
     "execution_count": 49,
     "metadata": {},
     "output_type": "execute_result"
    }
   ],
   "source": [
    "ps4_sales = (data.query('platform == \"PS4\"')\n",
    "             [['world_sales', 'critic_score', 'user_score']])\n",
    "ps4_sales.head()"
   ]
  },
  {
   "cell_type": "markdown",
   "metadata": {},
   "source": [
    "Теперь посмотрим корреляцию."
   ]
  },
  {
   "cell_type": "code",
   "execution_count": 50,
   "metadata": {
    "scrolled": true
   },
   "outputs": [
    {
     "data": {
      "text/html": [
       "<div>\n",
       "<style scoped>\n",
       "    .dataframe tbody tr th:only-of-type {\n",
       "        vertical-align: middle;\n",
       "    }\n",
       "\n",
       "    .dataframe tbody tr th {\n",
       "        vertical-align: top;\n",
       "    }\n",
       "\n",
       "    .dataframe thead th {\n",
       "        text-align: right;\n",
       "    }\n",
       "</style>\n",
       "<table border=\"1\" class=\"dataframe\">\n",
       "  <thead>\n",
       "    <tr style=\"text-align: right;\">\n",
       "      <th></th>\n",
       "      <th>world_sales</th>\n",
       "      <th>critic_score</th>\n",
       "      <th>user_score</th>\n",
       "    </tr>\n",
       "  </thead>\n",
       "  <tbody>\n",
       "    <tr>\n",
       "      <td>world_sales</td>\n",
       "      <td>1.000000</td>\n",
       "      <td>0.406568</td>\n",
       "      <td>-0.031957</td>\n",
       "    </tr>\n",
       "    <tr>\n",
       "      <td>critic_score</td>\n",
       "      <td>0.406568</td>\n",
       "      <td>1.000000</td>\n",
       "      <td>0.557654</td>\n",
       "    </tr>\n",
       "    <tr>\n",
       "      <td>user_score</td>\n",
       "      <td>-0.031957</td>\n",
       "      <td>0.557654</td>\n",
       "      <td>1.000000</td>\n",
       "    </tr>\n",
       "  </tbody>\n",
       "</table>\n",
       "</div>"
      ],
      "text/plain": [
       "              world_sales  critic_score  user_score\n",
       "world_sales      1.000000      0.406568   -0.031957\n",
       "critic_score     0.406568      1.000000    0.557654\n",
       "user_score      -0.031957      0.557654    1.000000"
      ]
     },
     "execution_count": 50,
     "metadata": {},
     "output_type": "execute_result"
    }
   ],
   "source": [
    "(ps4_sales[['world_sales', 'critic_score', 'user_score']].corr())"
   ]
  },
  {
   "cell_type": "markdown",
   "metadata": {},
   "source": [
    "Прослеживается положительная корреляция оценки критиков и величины продаж. При этом в Европе и Японии эта корреляция чуть ниже, чем в Америке и прочих регионах.  \n",
    "Оценки пользователей практически не влияют на продажи игр во всех регионах имея отрицательную корреляцию. За исключением Японии.   \n",
    "Прослеживается зависимость между оценками критиков и пользователей.\n",
    "___\n",
    "Построим пару графиков для наглядности."
   ]
  },
  {
   "cell_type": "code",
   "execution_count": 51,
   "metadata": {},
   "outputs": [
    {
     "data": {
      "image/png": "[encoded data removed]",
      "text/plain": [
       "<Figure size 864x360 with 1 Axes>"
      ]
     },
     "metadata": {
      "needs_background": "light"
     },
     "output_type": "display_data"
    },
    {
     "data": {
      "image/png": "[encoded data removed]",
      "text/plain": [
       "<Figure size 864x360 with 1 Axes>"
      ]
     },
     "metadata": {
      "needs_background": "light"
     },
     "output_type": "display_data"
    }
   ],
   "source": [
    "(ps4_sales\n",
    " .plot(xticks=range(0, 100, 5),\n",
    "    kind='scatter', y = 'world_sales', x = 'critic_score', figsize=(12, 5), \n",
    "     title='Зависимость продаж видеоигр от оценки критиков', \n",
    "    grid=True))\n",
    "\n",
    "plt.xlabel('Оценка критиков')\n",
    "plt.ylabel('Кол-во видеоигр, млн')\n",
    "plt.show()\n",
    "\n",
    "(ps4_sales\n",
    " .plot(xticks=range(0, 10),\n",
    "    kind='scatter', y = 'world_sales', x = 'user_score', figsize=(12, 5), \n",
    "     title='Зависимость продаж видеоигр от оценки пользователей', \n",
    "    grid=True))\n",
    "\n",
    "plt.xlabel('Оценка пользователей')\n",
    "plt.ylabel('Кол-во видеоигр, млн')\n",
    "plt.show()"
   ]
  },
  {
   "cell_type": "markdown",
   "metadata": {},
   "source": [
    "#### Краткий вывод\n",
    "Анализ показал, что оценка критиков имеет положительную корреляцию с продажами видеоигр. То же самое было подтверждено графиком, где мы можем наблюдать смещение высоких продаж в сторону высоких оценок критиков. Все игры, оцененные менее 50 были проданы тиражем менее 1 млн.  \n",
    "С другой стороны оценка пользователей не так сильно связана с продажами игр. Корреляция показала зависимость близкую к нулевой, при этом на графике видно, что все же лучше продаются игры с высокими оценками пользователей. Однако это не означает, что низкие оценки являются преградой к высоким продажам, так на графике мы видим игру с оценкой пользователей чуть больше 4, при этом ее продажи составляют более 8 млн. копий.\n",
    "___\n",
    "Мы можем попытаться объяснить данные зависимости:\n",
    "* Оценки критиков более беспристрастны;\n",
    "* На оценку пользователей, зачастую, помимо самой игры влиют такие факторы, как отношение производителей игры и пользователей;\n",
    "* Пользователи ставят оценку уже после покупки игры;\n",
    "* Оценки критиков появляются до оценок пользователей, по этой причине могут быть основный критерием для получения информации об игре;"
   ]
  },
  {
   "cell_type": "markdown",
   "metadata": {},
   "source": [
    "### Распределение игр по жанрам, влияние жанра на уровень продаж\n",
    "Посмотрите на общее распределение игр по жанрам. Что можно сказать о самых прибыльных жанрах? Выделяются ли жанры с высокими и низкими продажами\n",
    "___\n",
    "Для сравнения возьмем три временных промежутка:\n",
    "* 2002 - 2006 г\n",
    "* 2007 - 2011 г\n",
    "* 2012 - 2016 г\n",
    "  \n",
    "Это позволит нам понять действительно ли предпочтения пользователей менялись и как сильно."
   ]
  },
  {
   "cell_type": "code",
   "execution_count": 52,
   "metadata": {},
   "outputs": [],
   "source": [
    "genre_data_2002 = (data.query('2001 < year_of_release <= 2006').\n",
    "              groupby('genre')['world_sales'].mean().\n",
    "              sort_values(ascending=False)).reset_index()\n",
    "genre_data_2002.columns = ['genre', '2002_2006']\n",
    "\n",
    "genre_data_2006 = (data.query('2006 < year_of_release <= 2011').\n",
    "              groupby('genre')['world_sales'].mean().\n",
    "              sort_values(ascending=False)).reset_index()\n",
    "genre_data_2006.columns = ['genre', '2007_2011']\n",
    "\n",
    "genre_data_2012 = (data.query('year_of_release > 2011').\n",
    "              groupby('genre')['world_sales'].mean().\n",
    "              sort_values(ascending=False)).reset_index()\n",
    "genre_data_2012.columns = ['genre', '2012_2016']"
   ]
  },
  {
   "cell_type": "code",
   "execution_count": 53,
   "metadata": {},
   "outputs": [
    {
     "data": {
      "text/html": [
       "<div>\n",
       "<style scoped>\n",
       "    .dataframe tbody tr th:only-of-type {\n",
       "        vertical-align: middle;\n",
       "    }\n",
       "\n",
       "    .dataframe tbody tr th {\n",
       "        vertical-align: top;\n",
       "    }\n",
       "\n",
       "    .dataframe thead th {\n",
       "        text-align: right;\n",
       "    }\n",
       "</style>\n",
       "<table border=\"1\" class=\"dataframe\">\n",
       "  <thead>\n",
       "    <tr style=\"text-align: right;\">\n",
       "      <th></th>\n",
       "      <th>2002_2006</th>\n",
       "      <th>2007_2011</th>\n",
       "      <th>2012_2016</th>\n",
       "    </tr>\n",
       "    <tr>\n",
       "      <th>genre</th>\n",
       "      <th></th>\n",
       "      <th></th>\n",
       "      <th></th>\n",
       "    </tr>\n",
       "  </thead>\n",
       "  <tbody>\n",
       "    <tr>\n",
       "      <td>Shooter</td>\n",
       "      <td>0.499407</td>\n",
       "      <td>0.863903</td>\n",
       "      <td>1.296723</td>\n",
       "    </tr>\n",
       "    <tr>\n",
       "      <td>Platform</td>\n",
       "      <td>0.568365</td>\n",
       "      <td>0.843035</td>\n",
       "      <td>0.717647</td>\n",
       "    </tr>\n",
       "    <tr>\n",
       "      <td>Sports</td>\n",
       "      <td>0.560693</td>\n",
       "      <td>0.557243</td>\n",
       "      <td>0.675634</td>\n",
       "    </tr>\n",
       "    <tr>\n",
       "      <td>Role-Playing</td>\n",
       "      <td>0.625349</td>\n",
       "      <td>0.527578</td>\n",
       "      <td>0.521081</td>\n",
       "    </tr>\n",
       "    <tr>\n",
       "      <td>Racing</td>\n",
       "      <td>0.507005</td>\n",
       "      <td>0.569059</td>\n",
       "      <td>0.465217</td>\n",
       "    </tr>\n",
       "    <tr>\n",
       "      <td>Misc</td>\n",
       "      <td>0.488966</td>\n",
       "      <td>0.422718</td>\n",
       "      <td>0.442917</td>\n",
       "    </tr>\n",
       "    <tr>\n",
       "      <td>Simulation</td>\n",
       "      <td>0.644148</td>\n",
       "      <td>0.349701</td>\n",
       "      <td>0.439000</td>\n",
       "    </tr>\n",
       "    <tr>\n",
       "      <td>Action</td>\n",
       "      <td>0.496377</td>\n",
       "      <td>0.522254</td>\n",
       "      <td>0.427856</td>\n",
       "    </tr>\n",
       "    <tr>\n",
       "      <td>Fighting</td>\n",
       "      <td>0.457617</td>\n",
       "      <td>0.487992</td>\n",
       "      <td>0.408165</td>\n",
       "    </tr>\n",
       "    <tr>\n",
       "      <td>Strategy</td>\n",
       "      <td>0.185309</td>\n",
       "      <td>0.198750</td>\n",
       "      <td>0.187887</td>\n",
       "    </tr>\n",
       "    <tr>\n",
       "      <td>Puzzle</td>\n",
       "      <td>0.366279</td>\n",
       "      <td>0.251831</td>\n",
       "      <td>0.174643</td>\n",
       "    </tr>\n",
       "    <tr>\n",
       "      <td>Adventure</td>\n",
       "      <td>0.203171</td>\n",
       "      <td>0.154708</td>\n",
       "      <td>0.097450</td>\n",
       "    </tr>\n",
       "  </tbody>\n",
       "</table>\n",
       "</div>"
      ],
      "text/plain": [
       "              2002_2006  2007_2011  2012_2016\n",
       "genre                                        \n",
       "Shooter        0.499407   0.863903   1.296723\n",
       "Platform       0.568365   0.843035   0.717647\n",
       "Sports         0.560693   0.557243   0.675634\n",
       "Role-Playing   0.625349   0.527578   0.521081\n",
       "Racing         0.507005   0.569059   0.465217\n",
       "Misc           0.488966   0.422718   0.442917\n",
       "Simulation     0.644148   0.349701   0.439000\n",
       "Action         0.496377   0.522254   0.427856\n",
       "Fighting       0.457617   0.487992   0.408165\n",
       "Strategy       0.185309   0.198750   0.187887\n",
       "Puzzle         0.366279   0.251831   0.174643\n",
       "Adventure      0.203171   0.154708   0.097450"
      ]
     },
     "execution_count": 53,
     "metadata": {},
     "output_type": "execute_result"
    }
   ],
   "source": [
    "genre_data = genre_data_2002.merge(genre_data_2006, on = 'genre')\n",
    "genre_data = genre_data.merge(genre_data_2012, on = 'genre').sort_values(by='2012_2016', ascending=False)\n",
    "genre_data = genre_data.set_index('genre')\n",
    "genre_data"
   ]
  },
  {
   "cell_type": "code",
   "execution_count": 54,
   "metadata": {},
   "outputs": [
    {
     "data": {
      "image/png": "[encoded data removed]",
      "text/plain": [
       "<Figure size 864x360 with 1 Axes>"
      ]
     },
     "metadata": {
      "needs_background": "light"
     },
     "output_type": "display_data"
    }
   ],
   "source": [
    "(genre_data\n",
    " .plot(kind='bar', figsize=(12,5),\n",
    "       title='Изменение популярности жанров с 2002 по 2016 год.', grid=True))\n",
    "plt.xticks(rotation=45)\n",
    "plt.xlabel('Жанр')\n",
    "plt.ylabel('Среднее кол-во проданных копий, млн')\n",
    "plt.show()"
   ]
  },
  {
   "cell_type": "markdown",
   "metadata": {},
   "source": [
    "#### Краткий вывод\n",
    "\n",
    "Как и предполагалось ранее, популярность разных жанров игр меняется со временем. Самым ярким подтверждением является жанр`Shooter`, популярность которого выросла в 2.5 раза за последние 10 лет. С другой стороны мы можем наблюдать как устойчивое удержание позиций, например в жанре `Strategy`, так и низходящую динамику, жанр `Adventure`, упавший в 2 раза.  \n",
    "Мы в очередной раз убедились, что для оценки перспективных жанров, требуется оценивать отрезок не старше 5 лет."
   ]
  },
  {
   "cell_type": "markdown",
   "metadata": {},
   "source": [
    "### Вывод по блоку\n",
    "Проведя анализ данных, мы пришли к выводам:\n",
    "1. Средний срок жизни платформ составляет 6 лет; \n",
    "2. В 2016 году доминируют:\n",
    " * PS4\n",
    " * XOne\n",
    " * WiiU\n",
    "3. Перечисленные выше платформы являются наиболее перспективными для выпуска новых игр;\n",
    "4. Персональный компьютер имеет самый высокий срок жизни, но продажи игр для него ниже, чем для платформ;\n",
    "5. Платформы пользуются преимуществом по продажам, т.к. их характеристики предсказуемы, в отличии от ПК;\n",
    "6. Оценки критиков сильно влияют на продажи игр, т.к. являются одним из основных критериев для игроков при выборе;\n",
    "7. Оценки пользователей практически не влияют на продажи игр, это может быть связано с последовательностью действий, сперва покупка, потом оценка;\n",
    "8. Со временем жанры, которые пользуются популярностью меняются. Последние 5 лет пользуются популярностью:\n",
    " * Shooter\n",
    " * Platform\n",
    " * Sports\n",
    " * Role-Playing"
   ]
  },
  {
   "cell_type": "markdown",
   "metadata": {},
   "source": [
    "## Портрет пользователя каждого региона\n",
    "Определите для пользователя каждого региона (NA, EU, JP):\n",
    "* Самые популярные платформы (топ-5). Опишите различия в долях продаж.\n",
    "* Самые популярные жанры (топ-5). Поясните разницу.\n",
    "* Влияет ли рейтинг ESRB на продажи в отдельном регионе?"
   ]
  },
  {
   "cell_type": "markdown",
   "metadata": {},
   "source": [
    "### Самые популярные платформы (топ-5) для пользователей регионов NA, EU, JP\n",
    "Сделаем сводную таблицу по регионам за последние 5 лет."
   ]
  },
  {
   "cell_type": "code",
   "execution_count": 55,
   "metadata": {},
   "outputs": [],
   "source": [
    "data_5_years = data.query('year_of_release > 2011')"
   ]
  },
  {
   "cell_type": "code",
   "execution_count": 56,
   "metadata": {},
   "outputs": [],
   "source": [
    "data_5_years_p = (data_5_years.\n",
    "                  pivot_table(\n",
    "                      index='platform',\n",
    "                      values = ['na_sales', 'eu_sales', 'jp_sales'],\n",
    "                      aggfunc='mean'\n",
    "                  ))"
   ]
  },
  {
   "cell_type": "markdown",
   "metadata": {},
   "source": [
    "Сперва посмотрим на общий график по всем платформам, популярным в этот период."
   ]
  },
  {
   "cell_type": "code",
   "execution_count": 57,
   "metadata": {},
   "outputs": [
    {
     "data": {
      "image/png": "[encoded data removed]",
      "text/plain": [
       "<Figure size 864x360 with 1 Axes>"
      ]
     },
     "metadata": {
      "needs_background": "light"
     },
     "output_type": "display_data"
    }
   ],
   "source": [
    "(data_5_years_p\n",
    " .plot(kind='bar', figsize=(12,5),\n",
    "       title='Популярность платформ в регионах NA, EU, JP в 2012 - 2016 г.', grid=True))\n",
    "plt.xticks(rotation=45)\n",
    "plt.xlabel('Платформа')\n",
    "plt.ylabel('Среднее кол-во проданных копий, млн')\n",
    "plt.show()"
   ]
  },
  {
   "cell_type": "markdown",
   "metadata": {},
   "source": [
    "Выделим самые популярные платформы для каждого из регионов."
   ]
  },
  {
   "cell_type": "code",
   "execution_count": 58,
   "metadata": {},
   "outputs": [
    {
     "data": {
      "text/plain": [
       "platform\n",
       "PS4     0.359923\n",
       "X360    0.255205\n",
       "Wii     0.220741\n",
       "PS3     0.216755\n",
       "XOne    0.208866\n",
       "Name: eu_sales, dtype: float32"
      ]
     },
     "execution_count": 58,
     "metadata": {},
     "output_type": "execute_result"
    }
   ],
   "source": [
    "data_5_years_p.sort_values(by='eu_sales', ascending=False)['eu_sales'].head()"
   ]
  },
  {
   "cell_type": "code",
   "execution_count": 59,
   "metadata": {},
   "outputs": [
    {
     "data": {
      "text/plain": [
       "platform\n",
       "X360    0.479623\n",
       "XOne    0.377004\n",
       "Wii     0.323148\n",
       "PS4     0.277398\n",
       "WiiU    0.259184\n",
       "Name: na_sales, dtype: float32"
      ]
     },
     "execution_count": 59,
     "metadata": {},
     "output_type": "execute_result"
    }
   ],
   "source": [
    "data_5_years_p.sort_values(by='na_sales', ascending=False)['na_sales'].head()"
   ]
  },
  {
   "cell_type": "code",
   "execution_count": 60,
   "metadata": {},
   "outputs": [
    {
     "data": {
      "text/plain": [
       "platform\n",
       "3DS     0.221692\n",
       "DS      0.120000\n",
       "WiiU    0.088503\n",
       "PS3     0.071582\n",
       "Wii     0.062778\n",
       "Name: jp_sales, dtype: float32"
      ]
     },
     "execution_count": 60,
     "metadata": {},
     "output_type": "execute_result"
    }
   ],
   "source": [
    "data_5_years_p.sort_values(by='jp_sales', ascending=False)['jp_sales'].head()"
   ]
  },
  {
   "cell_type": "markdown",
   "metadata": {},
   "source": [
    "#### Крайткий вывод\n",
    "Наиболее популярные платформы: \n",
    "* в Северной Америке:\n",
    "    1. X360\n",
    "    2. XOne\n",
    "    3. Wii\n",
    "    4. PS4\n",
    "    5. WiiU\n",
    "* В Европе:\n",
    "    1. PS4\n",
    "    2. X360\n",
    "    3. Wii\n",
    "    4. PS3\n",
    "    5. XOne\n",
    "* В Японии:\n",
    "    1. 3DS\n",
    "    2. DS\n",
    "    3. WiiU\n",
    "    4. PS3\n",
    "    5. Wii\n",
    "  \n",
    "Япония сильно отличается по своим препочтениям от Америки и Европы. В Японии не используют персональный компьютер для игр. Так же там практически не используют платформы `X360` и `XOne`, популярные в других регионах."
   ]
  },
  {
   "cell_type": "markdown",
   "metadata": {},
   "source": [
    "### Самые популярные жанры (топ-5) для пользователей регионов NA, EU, JP"
   ]
  },
  {
   "cell_type": "markdown",
   "metadata": {},
   "source": [
    "Сперва составим сводную таблицу."
   ]
  },
  {
   "cell_type": "code",
   "execution_count": 61,
   "metadata": {},
   "outputs": [],
   "source": [
    "data_5_years_g = (data_5_years.\n",
    "                  pivot_table(\n",
    "                      index='genre',\n",
    "                      values = ['na_sales', 'eu_sales', 'jp_sales'],\n",
    "                      aggfunc='mean'\n",
    "                  ))"
   ]
  },
  {
   "cell_type": "markdown",
   "metadata": {},
   "source": [
    "Далее посмотрим на график."
   ]
  },
  {
   "cell_type": "code",
   "execution_count": 62,
   "metadata": {},
   "outputs": [
    {
     "data": {
      "image/png": "[encoded data removed]",
      "text/plain": [
       "<Figure size 864x360 with 1 Axes>"
      ]
     },
     "metadata": {
      "needs_background": "light"
     },
     "output_type": "display_data"
    }
   ],
   "source": [
    "(data_5_years_g\n",
    " .plot(kind='bar', figsize=(12,5),\n",
    "       title='Популярность жанров в регионах NA, EU, JP в 2012 - 2016 г.', grid=True))\n",
    "plt.xticks(rotation=45)\n",
    "plt.xlabel('Жанр видеоигры')\n",
    "plt.ylabel('Среднее кол-во проданных копий, млн')\n",
    "plt.show()"
   ]
  },
  {
   "cell_type": "markdown",
   "metadata": {},
   "source": [
    "Теперь выделим топ-5."
   ]
  },
  {
   "cell_type": "code",
   "execution_count": 63,
   "metadata": {},
   "outputs": [
    {
     "data": {
      "text/plain": [
       "genre\n",
       "Shooter     0.616043\n",
       "Sports      0.304216\n",
       "Platform    0.298588\n",
       "Misc        0.198906\n",
       "Fighting    0.181560\n",
       "Name: na_sales, dtype: float32"
      ]
     },
     "execution_count": 63,
     "metadata": {},
     "output_type": "execute_result"
    }
   ],
   "source": [
    "data_5_years_g.sort_values(by='na_sales', ascending=False)['na_sales'].head()"
   ]
  },
  {
   "cell_type": "code",
   "execution_count": 64,
   "metadata": {},
   "outputs": [
    {
     "data": {
      "text/plain": [
       "genre\n",
       "Shooter       0.482851\n",
       "Sports        0.257798\n",
       "Platform      0.251882\n",
       "Racing        0.237304\n",
       "Simulation    0.181875\n",
       "Name: eu_sales, dtype: float32"
      ]
     },
     "execution_count": 64,
     "metadata": {},
     "output_type": "execute_result"
    }
   ],
   "source": [
    "data_5_years_g.sort_values(by='eu_sales', ascending=False)['eu_sales'].head()"
   ]
  },
  {
   "cell_type": "code",
   "execution_count": 65,
   "metadata": {},
   "outputs": [
    {
     "data": {
      "text/plain": [
       "genre\n",
       "Role-Playing    0.176865\n",
       "Simulation      0.130125\n",
       "Platform        0.101529\n",
       "Fighting        0.086606\n",
       "Puzzle          0.076429\n",
       "Name: jp_sales, dtype: float32"
      ]
     },
     "execution_count": 65,
     "metadata": {},
     "output_type": "execute_result"
    }
   ],
   "source": [
    "data_5_years_g.sort_values(by='jp_sales', ascending=False)['jp_sales'].head()"
   ]
  },
  {
   "cell_type": "markdown",
   "metadata": {},
   "source": [
    "#### Крайткий вывод\n",
    "Наиболее популярные жанры: \n",
    "* в Северной Америке:\n",
    "    1. Shooter\n",
    "    2. Sports\n",
    "    3. Platform\n",
    "    4. Misc\n",
    "    5. Fighting\n",
    "* В Европе:\n",
    "    1. Shooter\n",
    "    2. Sports\n",
    "    3. Platform\n",
    "    4. Racing\n",
    "    5. Simulation\n",
    "* В Японии:\n",
    "    1. Role-Playing\n",
    "    2. Simulation\n",
    "    3. Platform\n",
    "    4. Fighting\n",
    "    5. Puzzle\n",
    "  \n",
    "Предпочтения пользователей из Северной Америки и Европы очень похожы. При этом Япония опять идет своим путем и основным предпочтением выбирает жанр `Role-Playing`, не входящий в топ-5 других регионов. "
   ]
  },
  {
   "cell_type": "markdown",
   "metadata": {},
   "source": [
    "### Влияет ли рейтинг ESRB на продажи в регионах NA, EU, JP\n",
    "Описание рейтинга из таблицы:\n",
    "* E - для всех\n",
    "* E10+ - для всех от 10 лет и старше\n",
    "* M - для взрослых\n",
    "* T - для подростков\n",
    "* no_rating - без рейтинга"
   ]
  },
  {
   "cell_type": "markdown",
   "metadata": {},
   "source": [
    "Сводная таблица."
   ]
  },
  {
   "cell_type": "code",
   "execution_count": 66,
   "metadata": {},
   "outputs": [],
   "source": [
    "data_5_years_r = (data_5_years.\n",
    "                  pivot_table(\n",
    "                      index='rating',\n",
    "                      values = ['na_sales', 'eu_sales', 'jp_sales'],\n",
    "                      aggfunc='mean'\n",
    "                  ))"
   ]
  },
  {
   "cell_type": "markdown",
   "metadata": {},
   "source": [
    "И график."
   ]
  },
  {
   "cell_type": "code",
   "execution_count": 67,
   "metadata": {},
   "outputs": [
    {
     "data": {
      "image/png": "[encoded data removed]",
      "text/plain": [
       "<Figure size 864x360 with 1 Axes>"
      ]
     },
     "metadata": {
      "needs_background": "light"
     },
     "output_type": "display_data"
    }
   ],
   "source": [
    "(data_5_years_r\n",
    " .plot(kind='bar', figsize=(12,5),\n",
    "       title='Влияние рейтинга видеоигры на продажи в регионах NA, EU, JP в 2012 - 2016 г.', grid=True))\n",
    "plt.xticks(rotation=45)\n",
    "plt.xlabel('Рейтинг')\n",
    "plt.ylabel('Среднее кол-во проданных копий, млн')\n",
    "plt.show()"
   ]
  },
  {
   "cell_type": "markdown",
   "metadata": {},
   "source": [
    "Посмотрим на топ-5."
   ]
  },
  {
   "cell_type": "code",
   "execution_count": 68,
   "metadata": {},
   "outputs": [
    {
     "data": {
      "text/plain": [
       "rating\n",
       "M            0.465000\n",
       "E            0.289544\n",
       "E10+         0.247386\n",
       "T            0.160243\n",
       "no_rating    0.081027\n",
       "Name: na_sales, dtype: float32"
      ]
     },
     "execution_count": 68,
     "metadata": {},
     "output_type": "execute_result"
    }
   ],
   "source": [
    "data_5_years_r.sort_values(by='na_sales', ascending=False)['na_sales'].head()"
   ]
  },
  {
   "cell_type": "code",
   "execution_count": 69,
   "metadata": {},
   "outputs": [
    {
     "data": {
      "text/plain": [
       "rating\n",
       "M            0.389478\n",
       "E            0.286152\n",
       "E10+         0.180948\n",
       "T            0.128544\n",
       "no_rating    0.071765\n",
       "Name: eu_sales, dtype: float32"
      ]
     },
     "execution_count": 69,
     "metadata": {},
     "output_type": "execute_result"
    }
   ],
   "source": [
    "data_5_years_r.sort_values(by='eu_sales', ascending=False)['eu_sales'].head()"
   ]
  },
  {
   "cell_type": "code",
   "execution_count": 70,
   "metadata": {},
   "outputs": [
    {
     "data": {
      "text/plain": [
       "rating\n",
       "no_rating    0.085365\n",
       "E            0.071722\n",
       "T            0.063155\n",
       "M            0.042570\n",
       "E10+         0.026765\n",
       "Name: jp_sales, dtype: float32"
      ]
     },
     "execution_count": 70,
     "metadata": {},
     "output_type": "execute_result"
    }
   ],
   "source": [
    "data_5_years_r.sort_values(by='jp_sales', ascending=False)['jp_sales'].head()"
   ]
  },
  {
   "cell_type": "markdown",
   "metadata": {},
   "source": [
    "#### Крайткий вывод\n",
    "В **Северной Америке** и **Европе** большая часть продаж приходится на игры для взрослых. За ними идут игры для всех и для детей старше 10 лет.  \n",
    "**Япония** как и раньше, имеет отличая. На первом месте стоят игры, не имеющие рейтинга, за ними идут игры для всех и игры для подростков."
   ]
  },
  {
   "cell_type": "markdown",
   "metadata": {},
   "source": [
    "### Вывод по блоку\n",
    "Проведя анализ мы выявили сильные различия в предпочтениях Японии по сравнению с предпочтениями Северной Америки и Европы. Складывается ощущения, что этот регион придерживается своих уникальных взглядов как на выбор платформы для игры, так и на популярность жанров. Японцы выбирают более \"детские\" игры, которые досутпны для всех, в то время, как Северная Америка и Европа предпочитает игры для для взрослых."
   ]
  },
  {
   "cell_type": "markdown",
   "metadata": {},
   "source": [
    "## Проверка гипотез\n",
    "* Средние пользовательские рейтинги платформ Xbox One и PC одинаковые;\n",
    "* Средние пользовательские рейтинги жанров Action (англ. «действие», экшен-игры) и Sports (англ. «спортивные соревнования») разные.  \n",
    "  \n",
    "Задайте самостоятельно пороговое значение alpha.  \n",
    "Поясните:\n",
    "* Как вы сформулировали нулевую и альтернативную гипотезы;\n",
    "* Какой критерий применили для проверки гипотез и почему."
   ]
  },
  {
   "cell_type": "markdown",
   "metadata": {},
   "source": [
    "###  Средние пользовательские рейтинги платформ Xbox One и PC одинаковые\n",
    "\n",
    "Сформируем **основную гипотезу** - мы считаем, что средние пользовательские рейтинги для платформ Xbox One и PC одинаковые.  \n",
    "В таком случае **альтернативная гипотеза** - средние пользовательские рейтинги платформы Xbox One отличаются от PC."
   ]
  },
  {
   "cell_type": "markdown",
   "metadata": {},
   "source": [
    "Создадим 2 переменных с данными о рейтингах пользователей для платформ `Xbox One` и `PC`."
   ]
  },
  {
   "cell_type": "code",
   "execution_count": 71,
   "metadata": {},
   "outputs": [],
   "source": [
    "xbox_one = data_5_years[data_5_years['platform'] == 'XOne']['user_score']\n",
    "pc = data_5_years[data_5_years['platform'] == 'PC']['user_score']"
   ]
  },
  {
   "cell_type": "markdown",
   "metadata": {},
   "source": [
    "Зададим уровень критической статистической значимости - 0.05."
   ]
  },
  {
   "cell_type": "code",
   "execution_count": 72,
   "metadata": {},
   "outputs": [],
   "source": [
    "alpha = 0.05"
   ]
  },
  {
   "cell_type": "markdown",
   "metadata": {},
   "source": [
    "Используем t-тест для независимых выборок."
   ]
  },
  {
   "cell_type": "code",
   "execution_count": 73,
   "metadata": {},
   "outputs": [
    {
     "data": {
      "text/plain": [
       "nan"
      ]
     },
     "execution_count": 73,
     "metadata": {},
     "output_type": "execute_result"
    }
   ],
   "source": [
    "results = st.ttest_ind(xbox_one, pc) \n",
    "results.pvalue"
   ]
  },
  {
   "cell_type": "code",
   "execution_count": 74,
   "metadata": {},
   "outputs": [
    {
     "data": {
      "text/plain": [
       "sum       65\n",
       "count    247\n",
       "Name: user_score, dtype: int64"
      ]
     },
     "execution_count": 74,
     "metadata": {},
     "output_type": "execute_result"
    }
   ],
   "source": [
    "data_5_years[data_5_years['platform'] == 'XOne']['user_score'].isna().agg(['sum', 'count'])"
   ]
  },
  {
   "cell_type": "code",
   "execution_count": 75,
   "metadata": {},
   "outputs": [
    {
     "data": {
      "text/plain": [
       "sum       44\n",
       "count    250\n",
       "Name: user_score, dtype: int64"
      ]
     },
     "execution_count": 75,
     "metadata": {},
     "output_type": "execute_result"
    }
   ],
   "source": [
    "data_5_years[data_5_years['platform'] == 'PC']['user_score'].isna().agg(['sum', 'count'])"
   ]
  },
  {
   "cell_type": "markdown",
   "metadata": {},
   "source": [
    "Выборки все равно останутся достаточно большими, так что просто удалим пустые значения."
   ]
  },
  {
   "cell_type": "code",
   "execution_count": 76,
   "metadata": {},
   "outputs": [],
   "source": [
    "data_5_years_drop_na = data_5_years.dropna()\n",
    "xbox_one = data_5_years_drop_na[data_5_years_drop_na['platform'] == 'XOne']['user_score']\n",
    "pc = data_5_years_drop_na[data_5_years_drop_na['platform'] == 'PC']['user_score']"
   ]
  },
  {
   "cell_type": "code",
   "execution_count": 77,
   "metadata": {},
   "outputs": [
    {
     "data": {
      "text/plain": [
       "0.5991296267201263"
      ]
     },
     "execution_count": 77,
     "metadata": {},
     "output_type": "execute_result"
    }
   ],
   "source": [
    "results = st.ttest_ind(xbox_one, pc) \n",
    "results.pvalue"
   ]
  },
  {
   "cell_type": "code",
   "execution_count": 78,
   "metadata": {},
   "outputs": [
    {
     "data": {
      "text/plain": [
       "False"
      ]
     },
     "execution_count": 78,
     "metadata": {},
     "output_type": "execute_result"
    }
   ],
   "source": [
    "results.pvalue < alpha"
   ]
  },
  {
   "cell_type": "markdown",
   "metadata": {},
   "source": [
    "T-тест показал, что мы не можем опровергнуть основную гипотезу об отличии средних двух выборок.  \n",
    "Посмотрим на это среднее."
   ]
  },
  {
   "cell_type": "code",
   "execution_count": 79,
   "metadata": {},
   "outputs": [
    {
     "data": {
      "text/html": [
       "<div>\n",
       "<style scoped>\n",
       "    .dataframe tbody tr th:only-of-type {\n",
       "        vertical-align: middle;\n",
       "    }\n",
       "\n",
       "    .dataframe tbody tr th {\n",
       "        vertical-align: top;\n",
       "    }\n",
       "\n",
       "    .dataframe thead th {\n",
       "        text-align: right;\n",
       "    }\n",
       "</style>\n",
       "<table border=\"1\" class=\"dataframe\">\n",
       "  <thead>\n",
       "    <tr style=\"text-align: right;\">\n",
       "      <th></th>\n",
       "      <th>user_score</th>\n",
       "    </tr>\n",
       "    <tr>\n",
       "      <th>platform</th>\n",
       "      <th></th>\n",
       "    </tr>\n",
       "  </thead>\n",
       "  <tbody>\n",
       "    <tr>\n",
       "      <td>PC</td>\n",
       "      <td>6.428641</td>\n",
       "    </tr>\n",
       "    <tr>\n",
       "      <td>XOne</td>\n",
       "      <td>6.521429</td>\n",
       "    </tr>\n",
       "  </tbody>\n",
       "</table>\n",
       "</div>"
      ],
      "text/plain": [
       "          user_score\n",
       "platform            \n",
       "PC          6.428641\n",
       "XOne        6.521429"
      ]
     },
     "execution_count": 79,
     "metadata": {},
     "output_type": "execute_result"
    }
   ],
   "source": [
    "(data_5_years\n",
    " .query('(platform == \"XOne\") or (platform == \"PC\")')\n",
    " .pivot_table(\n",
    "    index='platform', values = 'user_score', aggfunc = 'mean'))"
   ]
  },
  {
   "cell_type": "markdown",
   "metadata": {},
   "source": [
    "#### Краткий вывод\n",
    "\n",
    "Мы не смогли опровергнуть нулевую гипотезу о том, что *Средние пользовательские рейтинги платформ Xbox One и PC одинаковые*. Вычисление среднего по выборкам так же показало, что показатели крайне схожи."
   ]
  },
  {
   "cell_type": "markdown",
   "metadata": {},
   "source": [
    "### Средние пользовательские рейтинги жанров Action (англ. «действие», экшен-игры) и Sports (англ. «спортивные соревнования») разные\n",
    "\n",
    "**Основная гипотеза** - средние пользовательские рейтинги жанров Action и Sports одинаковые.  \n",
    "**Альтернативная гипотеза** - средние пользовательские рейтинги жанров Action и Sports разные."
   ]
  },
  {
   "cell_type": "markdown",
   "metadata": {},
   "source": [
    "Создадим 2 переменных с данными о рейтингах пользователей для жанров `Action` и `Sports`."
   ]
  },
  {
   "cell_type": "code",
   "execution_count": 80,
   "metadata": {},
   "outputs": [],
   "source": [
    "action = data_5_years[data_5_years['genre'] == 'Action']['user_score']\n",
    "sports = data_5_years[data_5_years['genre'] == 'Sports']['user_score']"
   ]
  },
  {
   "cell_type": "markdown",
   "metadata": {},
   "source": [
    "Зададим уровень критической статистической значимости - 0.05."
   ]
  },
  {
   "cell_type": "code",
   "execution_count": 81,
   "metadata": {},
   "outputs": [],
   "source": [
    "alpha = 0.05"
   ]
  },
  {
   "cell_type": "markdown",
   "metadata": {},
   "source": [
    "Используем t-тест для независимых выборок."
   ]
  },
  {
   "cell_type": "code",
   "execution_count": 82,
   "metadata": {},
   "outputs": [
    {
     "data": {
      "text/plain": [
       "nan"
      ]
     },
     "execution_count": 82,
     "metadata": {},
     "output_type": "execute_result"
    }
   ],
   "source": [
    "results = st.ttest_ind(action, sports) \n",
    "results.pvalue"
   ]
  },
  {
   "cell_type": "code",
   "execution_count": 83,
   "metadata": {},
   "outputs": [],
   "source": [
    "action = data_5_years_drop_na[data_5_years_drop_na['genre'] == 'Action']['user_score']\n",
    "sports = data_5_years_drop_na[data_5_years_drop_na['genre'] == 'Sports']['user_score']"
   ]
  },
  {
   "cell_type": "code",
   "execution_count": 84,
   "metadata": {},
   "outputs": [
    {
     "data": {
      "text/plain": [
       "9.136430113651256e-16"
      ]
     },
     "execution_count": 84,
     "metadata": {},
     "output_type": "execute_result"
    }
   ],
   "source": [
    "results = st.ttest_ind(action, sports) \n",
    "results.pvalue"
   ]
  },
  {
   "cell_type": "markdown",
   "metadata": {},
   "source": [
    "Совсем другой результат."
   ]
  },
  {
   "cell_type": "code",
   "execution_count": 85,
   "metadata": {},
   "outputs": [
    {
     "data": {
      "text/plain": [
       "True"
      ]
     },
     "execution_count": 85,
     "metadata": {},
     "output_type": "execute_result"
    }
   ],
   "source": [
    "results.pvalue < alpha"
   ]
  },
  {
   "cell_type": "markdown",
   "metadata": {},
   "source": [
    "T-тест показал, что мы должны опровергнуть основную гипотезу об отличии средних двух выборок.  \n",
    "В этом случае мы **допускаем альтернативную гипотезу** об отличии двух средних о у данных выборок.  \n",
    "Посмотрим на среднее."
   ]
  },
  {
   "cell_type": "code",
   "execution_count": 86,
   "metadata": {},
   "outputs": [
    {
     "data": {
      "text/html": [
       "<div>\n",
       "<style scoped>\n",
       "    .dataframe tbody tr th:only-of-type {\n",
       "        vertical-align: middle;\n",
       "    }\n",
       "\n",
       "    .dataframe tbody tr th {\n",
       "        vertical-align: top;\n",
       "    }\n",
       "\n",
       "    .dataframe thead th {\n",
       "        text-align: right;\n",
       "    }\n",
       "</style>\n",
       "<table border=\"1\" class=\"dataframe\">\n",
       "  <thead>\n",
       "    <tr style=\"text-align: right;\">\n",
       "      <th></th>\n",
       "      <th>user_score</th>\n",
       "    </tr>\n",
       "    <tr>\n",
       "      <th>genre</th>\n",
       "      <th></th>\n",
       "    </tr>\n",
       "  </thead>\n",
       "  <tbody>\n",
       "    <tr>\n",
       "      <td>Action</td>\n",
       "      <td>6.899305</td>\n",
       "    </tr>\n",
       "    <tr>\n",
       "      <td>Sports</td>\n",
       "      <td>5.819858</td>\n",
       "    </tr>\n",
       "  </tbody>\n",
       "</table>\n",
       "</div>"
      ],
      "text/plain": [
       "        user_score\n",
       "genre             \n",
       "Action    6.899305\n",
       "Sports    5.819858"
      ]
     },
     "execution_count": 86,
     "metadata": {},
     "output_type": "execute_result"
    }
   ],
   "source": [
    "(data_5_years_drop_na\n",
    " .query('(genre == \"Action\") or (genre == \"Sports\")')\n",
    " .pivot_table(\n",
    "    index='genre', values = 'user_score', aggfunc = 'mean'))"
   ]
  },
  {
   "cell_type": "markdown",
   "metadata": {},
   "source": [
    "#### Краткий вывод\n",
    "\n",
    "Мы опровергнули нулевую гипотезу о том, что *Средние пользовательские рейтинги жанров Action и Sports одинаковые*. Учитывая это, мы предполагаем альтернативную гипотезу: \"средние значения данных выборок различаются\". Вычисление среднего по выборкам так же показало, что показатели отличаются. Альтернативная гипотеза о различии выборок может рассматриваться."
   ]
  },
  {
   "cell_type": "markdown",
   "metadata": {},
   "source": [
    "### Вывод по блоку\n",
    "Мы проверили 2 гипотезы:\n",
    "* Средние пользовательские рейтинги платформ Xbox One и PC одинаковые;\n",
    "* Средние пользовательские рейтинги жанров Action (англ. «действие», экшен-игры) и Sports (англ. «спортивные соревнования») разные. \n",
    "  \n",
    "При проверке первой гипотезы мы пришли к выводу, что средние одинаковы, что говорит о ее допустимости.  \n",
    "При проверке второй гипотезы мы смогли отвергнуть основную гипотезу о схожести средних и допустили алтернативную гипотезу об их различии."
   ]
  },
  {
   "cell_type": "markdown",
   "metadata": {},
   "source": [
    "## Общий вывод"
   ]
  },
  {
   "cell_type": "markdown",
   "metadata": {},
   "source": [
    "Мы закончили анализ данных и проверку гипотез на базе информации о продажах игр  на разных платформах за период с 1980г. по 2016г. Были рассмотрены регионы:\n",
    "* Северная Америка\n",
    "* Европа\n",
    "* Япония\n",
    "* прочие регионы\n",
    "  \n",
    "В данных так же содержалась информация об оценках критиков и популярности игр среди пользователей.  \n",
    "Каждой игре был присвоен рейтинг от организации ESRB (англ. Entertainment Software Rating Board).\n",
    "___\n",
    "**Предобработка данных**  \n",
    "Во время предобрабатки данных мы:\n",
    "* привели названия столбцов к удобному формату;\n",
    "* проверили пустые значения и дубликаты;\n",
    "* поменяли тип данных, оптимизировав объем памяти для работы с данными;\n",
    "* подсчитали общие продажи по всем регионам;\n",
    "___\n",
    "**Анализ данных**\n",
    "Мы проанализировали данные и сделали ряд выводов:\n",
    "* актуальные данные о предпочтениях пользователей содержаться в периоде с 2012 по 2016 год;\n",
    "* наиболее перспективные платформы на данный момент:\n",
    "    * XOne\n",
    "    * PS4\n",
    "    * WiiU\n",
    "    * PSV\n",
    "    * 3DS\n",
    "    * PC (неубиваемый)\n",
    "* оценки критиков имеют сильное влияние на продажи игр, при этом оценки пользователей практически никак не влияют;\n",
    "* со временем жанры, которые пользуются популярностью меняются. Последние 5 лет пользуются популярностью:\n",
    "    * Shooter\n",
    "    * Platform\n",
    "    * Sports\n",
    "    * Role-Playing\n",
    "___\n",
    "**Портрет пользователя каждого региона**\n",
    "* пользователи из Северной Америки и Европы очень схожы в своих предпочтениях касательно платформ и жанров;\n",
    "* пользователи из Японии сильно отличаются в своих предпочтениях от всех остальных;\n",
    "* в японии практически не используют PC для игр;\n",
    "* наиболее популярные платформы в Северной Америке и Европе: \n",
    "    * X360\n",
    "    * XOne\n",
    "    * Wii\n",
    "    * PS4\n",
    "* наиболее популярные платформы в Японии: \n",
    "    * 3DS\n",
    "    * DS\n",
    "    * WiiU\n",
    "* наиболее популярные жанры в Северной Америке и Европе: \n",
    "    * Shooter\n",
    "    * Sports\n",
    "    * Platform\n",
    "    * Misc\n",
    "    * Racing\n",
    "* наиболее популярные жанры в Японии: \n",
    "    * Role-Playing\n",
    "    * Simulation\n",
    "    * Platform\n",
    "* пользоватили в Японии препочитают игры для детей и подростков, в Европе и Северной Америке отдают предпочтение играм для взрослой категории;\n",
    "___\n",
    "**Проверка гипотез**\n",
    "Мы проверили 2 гипотезы:\n",
    "1. Средние пользовательские рейтинги платформ Xbox One и PC одинаковые;\n",
    "2. Средние пользовательские рейтинги жанров Action (англ. «действие», экшен-игры) и Sports (англ. «спортивные соревнования») разные.  \n",
    "  \n",
    "При проверке первой гипотезы мы не смогли опровергнуть ее достоверность. Таким образом мы можем говорить, о ее правдоподобности.\n",
    "\n",
    "  \n",
    "При проверке второй гипотезы, мы выдвинули нулевую гипотезу о том, что средние двух жанров одинаковые и смогли это опровергнуть. Таким образом альтернативная гипотеза о том, что средние значения разные может рассматриваться."
   ]
  }
 ],
 "metadata": {
  "ExecuteTimeLog": [
   {
    "duration": 1361,
    "start_time": "2021-12-30T07:27:55.501Z"
   },
   {
    "duration": 44,
    "start_time": "2021-12-30T07:28:54.263Z"
   },
   {
    "duration": 14,
    "start_time": "2021-12-30T08:02:52.620Z"
   },
   {
    "duration": 47,
    "start_time": "2021-12-30T08:04:19.318Z"
   },
   {
    "duration": 28,
    "start_time": "2021-12-30T08:10:16.117Z"
   },
   {
    "duration": 7,
    "start_time": "2021-12-30T08:43:33.177Z"
   },
   {
    "duration": 12,
    "start_time": "2021-12-30T08:51:28.597Z"
   },
   {
    "duration": 27,
    "start_time": "2021-12-30T08:52:29.877Z"
   },
   {
    "duration": 13,
    "start_time": "2021-12-30T08:52:44.738Z"
   },
   {
    "duration": 12,
    "start_time": "2021-12-30T08:53:03.457Z"
   },
   {
    "duration": 9,
    "start_time": "2021-12-30T08:55:37.657Z"
   },
   {
    "duration": 14,
    "start_time": "2021-12-30T08:56:17.318Z"
   },
   {
    "duration": 949,
    "start_time": "2021-12-30T08:56:24.537Z"
   },
   {
    "duration": 20,
    "start_time": "2021-12-30T09:05:41.929Z"
   },
   {
    "duration": 14,
    "start_time": "2021-12-30T09:05:52.738Z"
   },
   {
    "duration": 15,
    "start_time": "2021-12-30T09:07:16.118Z"
   },
   {
    "duration": 18,
    "start_time": "2021-12-30T09:07:42.538Z"
   },
   {
    "duration": 30,
    "start_time": "2021-12-30T09:14:42.946Z"
   },
   {
    "duration": 8,
    "start_time": "2021-12-30T09:16:22.805Z"
   },
   {
    "duration": 6,
    "start_time": "2021-12-30T09:16:40.277Z"
   },
   {
    "duration": 189,
    "start_time": "2021-12-30T09:17:12.647Z"
   },
   {
    "duration": 11,
    "start_time": "2021-12-30T09:41:59.655Z"
   },
   {
    "duration": 31,
    "start_time": "2021-12-30T09:43:07.687Z"
   },
   {
    "duration": 47,
    "start_time": "2021-12-30T09:45:18.543Z"
   },
   {
    "duration": 47,
    "start_time": "2021-12-30T09:46:59.341Z"
   },
   {
    "duration": 43,
    "start_time": "2021-12-30T09:48:18.853Z"
   },
   {
    "duration": 11,
    "start_time": "2021-12-30T09:52:39.024Z"
   },
   {
    "duration": 12,
    "start_time": "2021-12-30T09:54:06.184Z"
   },
   {
    "duration": 14,
    "start_time": "2021-12-30T09:54:24.192Z"
   },
   {
    "duration": 15,
    "start_time": "2021-12-30T09:54:58.453Z"
   },
   {
    "duration": 13,
    "start_time": "2021-12-30T10:05:34.283Z"
   },
   {
    "duration": 13,
    "start_time": "2021-12-30T10:05:49.760Z"
   },
   {
    "duration": 12,
    "start_time": "2021-12-30T10:06:37.583Z"
   },
   {
    "duration": 12,
    "start_time": "2021-12-30T10:07:46.433Z"
   },
   {
    "duration": 13,
    "start_time": "2021-12-30T10:10:45.876Z"
   },
   {
    "duration": 4288,
    "start_time": "2021-12-30T10:16:51.047Z"
   },
   {
    "duration": 20,
    "start_time": "2021-12-30T10:16:58.011Z"
   },
   {
    "duration": 20,
    "start_time": "2021-12-30T10:19:34.539Z"
   },
   {
    "duration": 13,
    "start_time": "2021-12-30T10:21:26.602Z"
   },
   {
    "duration": 10,
    "start_time": "2021-12-30T10:26:39.250Z"
   },
   {
    "duration": 11,
    "start_time": "2021-12-30T10:27:13.021Z"
   },
   {
    "duration": 7,
    "start_time": "2021-12-30T10:27:35.542Z"
   },
   {
    "duration": 22,
    "start_time": "2021-12-30T10:28:35.539Z"
   },
   {
    "duration": 20,
    "start_time": "2021-12-30T10:28:46.472Z"
   },
   {
    "duration": 20,
    "start_time": "2021-12-30T10:33:44.000Z"
   },
   {
    "duration": 329,
    "start_time": "2021-12-30T10:37:03.461Z"
   },
   {
    "duration": 5,
    "start_time": "2021-12-30T10:37:07.712Z"
   },
   {
    "duration": 19,
    "start_time": "2021-12-30T10:37:08.532Z"
   },
   {
    "duration": 4,
    "start_time": "2021-12-30T10:38:37.882Z"
   },
   {
    "duration": 16,
    "start_time": "2021-12-30T10:39:53.612Z"
   },
   {
    "duration": 26,
    "start_time": "2021-12-30T10:40:03.965Z"
   },
   {
    "duration": 10,
    "start_time": "2021-12-30T10:40:13.772Z"
   },
   {
    "duration": 2423,
    "start_time": "2021-12-30T10:42:03.443Z"
   },
   {
    "duration": 45,
    "start_time": "2021-12-30T10:42:05.868Z"
   },
   {
    "duration": 60,
    "start_time": "2021-12-30T10:42:05.916Z"
   },
   {
    "duration": 52,
    "start_time": "2021-12-30T10:42:05.978Z"
   },
   {
    "duration": 20,
    "start_time": "2021-12-30T10:42:06.033Z"
   },
   {
    "duration": 16,
    "start_time": "2021-12-30T10:42:06.055Z"
   },
   {
    "duration": 16,
    "start_time": "2021-12-30T10:42:06.074Z"
   },
   {
    "duration": 39,
    "start_time": "2021-12-30T10:42:06.095Z"
   },
   {
    "duration": 18,
    "start_time": "2021-12-30T10:42:06.139Z"
   },
   {
    "duration": 82,
    "start_time": "2021-12-30T10:42:06.160Z"
   },
   {
    "duration": 11,
    "start_time": "2021-12-30T10:42:06.245Z"
   },
   {
    "duration": 13,
    "start_time": "2021-12-30T10:42:06.258Z"
   },
   {
    "duration": 12,
    "start_time": "2021-12-30T10:42:06.273Z"
   },
   {
    "duration": 53,
    "start_time": "2021-12-30T10:42:06.287Z"
   },
   {
    "duration": 12,
    "start_time": "2021-12-30T10:42:06.341Z"
   },
   {
    "duration": 9,
    "start_time": "2021-12-30T10:42:06.355Z"
   },
   {
    "duration": 10,
    "start_time": "2021-12-30T10:42:06.366Z"
   },
   {
    "duration": 46,
    "start_time": "2021-12-30T10:42:06.378Z"
   },
   {
    "duration": 20,
    "start_time": "2021-12-30T10:42:06.427Z"
   },
   {
    "duration": 4,
    "start_time": "2021-12-30T10:42:06.449Z"
   },
   {
    "duration": 75,
    "start_time": "2021-12-30T10:42:06.456Z"
   },
   {
    "duration": 18,
    "start_time": "2021-12-30T10:42:06.533Z"
   },
   {
    "duration": 5,
    "start_time": "2021-12-30T10:42:06.554Z"
   },
   {
    "duration": 64,
    "start_time": "2021-12-30T10:42:06.561Z"
   },
   {
    "duration": 11,
    "start_time": "2021-12-30T10:42:06.627Z"
   },
   {
    "duration": 466,
    "start_time": "2021-12-30T10:48:23.929Z"
   },
   {
    "duration": 4,
    "start_time": "2021-12-30T10:48:29.091Z"
   },
   {
    "duration": 689,
    "start_time": "2021-12-30T10:48:29.619Z"
   },
   {
    "duration": 327,
    "start_time": "2021-12-30T10:48:35.637Z"
   },
   {
    "duration": 329,
    "start_time": "2021-12-30T10:48:52.878Z"
   },
   {
    "duration": 3201,
    "start_time": "2021-12-30T10:49:11.929Z"
   },
   {
    "duration": 3216,
    "start_time": "2021-12-30T10:49:58.847Z"
   },
   {
    "duration": 33,
    "start_time": "2021-12-30T12:16:24.280Z"
   },
   {
    "duration": 11,
    "start_time": "2021-12-30T12:16:49.000Z"
   },
   {
    "duration": 297,
    "start_time": "2021-12-30T12:17:49.109Z"
   },
   {
    "duration": 10,
    "start_time": "2021-12-30T12:18:12.360Z"
   },
   {
    "duration": 337,
    "start_time": "2021-12-30T12:18:32.271Z"
   },
   {
    "duration": 466,
    "start_time": "2021-12-30T12:18:35.700Z"
   },
   {
    "duration": 10,
    "start_time": "2021-12-30T12:19:02.181Z"
   },
   {
    "duration": 17,
    "start_time": "2021-12-30T12:19:11.391Z"
   },
   {
    "duration": 15,
    "start_time": "2021-12-30T12:19:56.158Z"
   },
   {
    "duration": 651,
    "start_time": "2021-12-30T12:20:29.711Z"
   },
   {
    "duration": 681,
    "start_time": "2021-12-30T12:20:52.021Z"
   },
   {
    "duration": 11,
    "start_time": "2021-12-30T12:21:11.381Z"
   },
   {
    "duration": 547,
    "start_time": "2021-12-30T12:21:12.510Z"
   },
   {
    "duration": 333,
    "start_time": "2021-12-30T12:21:48.477Z"
   },
   {
    "duration": 385,
    "start_time": "2021-12-30T12:22:16.268Z"
   },
   {
    "duration": 362,
    "start_time": "2021-12-30T12:26:27.669Z"
   },
   {
    "duration": 4238,
    "start_time": "2021-12-30T12:31:21.128Z"
   },
   {
    "duration": 4338,
    "start_time": "2021-12-30T12:31:42.089Z"
   },
   {
    "duration": 4169,
    "start_time": "2021-12-30T12:33:38.401Z"
   },
   {
    "duration": 316,
    "start_time": "2021-12-30T12:34:00.203Z"
   },
   {
    "duration": 1264,
    "start_time": "2021-12-30T12:34:38.598Z"
   },
   {
    "duration": 44,
    "start_time": "2021-12-30T12:34:39.864Z"
   },
   {
    "duration": 18,
    "start_time": "2021-12-30T12:34:39.911Z"
   },
   {
    "duration": 46,
    "start_time": "2021-12-30T12:34:39.931Z"
   },
   {
    "duration": 18,
    "start_time": "2021-12-30T12:34:39.979Z"
   },
   {
    "duration": 5,
    "start_time": "2021-12-30T12:34:40.024Z"
   },
   {
    "duration": 11,
    "start_time": "2021-12-30T12:34:40.032Z"
   },
   {
    "duration": 14,
    "start_time": "2021-12-30T12:34:40.045Z"
   },
   {
    "duration": 15,
    "start_time": "2021-12-30T12:34:40.063Z"
   },
   {
    "duration": 84,
    "start_time": "2021-12-30T12:34:40.081Z"
   },
   {
    "duration": 11,
    "start_time": "2021-12-30T12:34:40.167Z"
   },
   {
    "duration": 42,
    "start_time": "2021-12-30T12:34:40.181Z"
   },
   {
    "duration": 12,
    "start_time": "2021-12-30T12:34:40.225Z"
   },
   {
    "duration": 18,
    "start_time": "2021-12-30T12:34:40.240Z"
   },
   {
    "duration": 14,
    "start_time": "2021-12-30T12:34:40.260Z"
   },
   {
    "duration": 12,
    "start_time": "2021-12-30T12:34:40.276Z"
   },
   {
    "duration": 9,
    "start_time": "2021-12-30T12:34:40.324Z"
   },
   {
    "duration": 8,
    "start_time": "2021-12-30T12:34:40.336Z"
   },
   {
    "duration": 21,
    "start_time": "2021-12-30T12:34:40.346Z"
   },
   {
    "duration": 4,
    "start_time": "2021-12-30T12:34:40.369Z"
   },
   {
    "duration": 95,
    "start_time": "2021-12-30T12:34:40.376Z"
   },
   {
    "duration": 12,
    "start_time": "2021-12-30T12:34:40.473Z"
   },
   {
    "duration": 13,
    "start_time": "2021-12-30T12:34:47.363Z"
   },
   {
    "duration": 16,
    "start_time": "2021-12-30T12:35:25.566Z"
   },
   {
    "duration": 17,
    "start_time": "2021-12-30T12:35:33.147Z"
   },
   {
    "duration": 463,
    "start_time": "2021-12-30T12:37:30.576Z"
   },
   {
    "duration": 18,
    "start_time": "2021-12-30T12:37:42.064Z"
   },
   {
    "duration": 1787,
    "start_time": "2021-12-30T12:38:58.908Z"
   },
   {
    "duration": 1258,
    "start_time": "2021-12-30T12:39:13.397Z"
   },
   {
    "duration": 1344,
    "start_time": "2021-12-30T12:39:31.025Z"
   },
   {
    "duration": 52,
    "start_time": "2021-12-30T12:39:32.372Z"
   },
   {
    "duration": 17,
    "start_time": "2021-12-30T12:39:32.427Z"
   },
   {
    "duration": 50,
    "start_time": "2021-12-30T12:39:32.447Z"
   },
   {
    "duration": 21,
    "start_time": "2021-12-30T12:39:32.524Z"
   },
   {
    "duration": 7,
    "start_time": "2021-12-30T12:39:32.548Z"
   },
   {
    "duration": 11,
    "start_time": "2021-12-30T12:39:32.557Z"
   },
   {
    "duration": 55,
    "start_time": "2021-12-30T12:39:32.570Z"
   },
   {
    "duration": 16,
    "start_time": "2021-12-30T12:39:32.629Z"
   },
   {
    "duration": 44,
    "start_time": "2021-12-30T12:39:32.648Z"
   },
   {
    "duration": 37,
    "start_time": "2021-12-30T12:39:32.694Z"
   },
   {
    "duration": 22,
    "start_time": "2021-12-30T12:39:32.733Z"
   },
   {
    "duration": 12,
    "start_time": "2021-12-30T12:39:32.757Z"
   },
   {
    "duration": 21,
    "start_time": "2021-12-30T12:39:32.771Z"
   },
   {
    "duration": 37,
    "start_time": "2021-12-30T12:39:32.795Z"
   },
   {
    "duration": 10,
    "start_time": "2021-12-30T12:39:32.835Z"
   },
   {
    "duration": 10,
    "start_time": "2021-12-30T12:39:32.848Z"
   },
   {
    "duration": 8,
    "start_time": "2021-12-30T12:39:32.860Z"
   },
   {
    "duration": 67,
    "start_time": "2021-12-30T12:39:32.870Z"
   },
   {
    "duration": 5,
    "start_time": "2021-12-30T12:39:32.939Z"
   },
   {
    "duration": 52,
    "start_time": "2021-12-30T12:39:32.947Z"
   },
   {
    "duration": 28,
    "start_time": "2021-12-30T12:39:33.002Z"
   },
   {
    "duration": 459,
    "start_time": "2021-12-30T12:39:36.863Z"
   },
   {
    "duration": 14,
    "start_time": "2021-12-30T12:39:48.839Z"
   },
   {
    "duration": 364,
    "start_time": "2021-12-30T12:41:39.013Z"
   },
   {
    "duration": 408,
    "start_time": "2021-12-30T12:42:05.313Z"
   },
   {
    "duration": 354,
    "start_time": "2021-12-30T12:42:28.143Z"
   },
   {
    "duration": 14,
    "start_time": "2021-12-30T12:43:12.213Z"
   },
   {
    "duration": 15,
    "start_time": "2021-12-30T12:45:06.893Z"
   },
   {
    "duration": 10,
    "start_time": "2021-12-30T12:48:47.521Z"
   },
   {
    "duration": 1342,
    "start_time": "2021-12-30T12:49:14.244Z"
   },
   {
    "duration": 46,
    "start_time": "2021-12-30T12:49:15.589Z"
   },
   {
    "duration": 13,
    "start_time": "2021-12-30T12:49:15.638Z"
   },
   {
    "duration": 46,
    "start_time": "2021-12-30T12:49:15.654Z"
   },
   {
    "duration": 17,
    "start_time": "2021-12-30T12:49:15.723Z"
   },
   {
    "duration": 7,
    "start_time": "2021-12-30T12:49:15.742Z"
   },
   {
    "duration": 14,
    "start_time": "2021-12-30T12:49:15.752Z"
   },
   {
    "duration": 12,
    "start_time": "2021-12-30T12:49:15.771Z"
   },
   {
    "duration": 17,
    "start_time": "2021-12-30T12:49:15.824Z"
   },
   {
    "duration": 42,
    "start_time": "2021-12-30T12:49:15.843Z"
   },
   {
    "duration": 38,
    "start_time": "2021-12-30T12:49:15.887Z"
   },
   {
    "duration": 11,
    "start_time": "2021-12-30T12:49:15.928Z"
   },
   {
    "duration": 11,
    "start_time": "2021-12-30T12:49:15.941Z"
   },
   {
    "duration": 17,
    "start_time": "2021-12-30T12:49:15.954Z"
   },
   {
    "duration": 11,
    "start_time": "2021-12-30T12:49:15.973Z"
   },
   {
    "duration": 9,
    "start_time": "2021-12-30T12:49:16.023Z"
   },
   {
    "duration": 9,
    "start_time": "2021-12-30T12:49:16.034Z"
   },
   {
    "duration": 7,
    "start_time": "2021-12-30T12:49:16.046Z"
   },
   {
    "duration": 21,
    "start_time": "2021-12-30T12:49:16.056Z"
   },
   {
    "duration": 45,
    "start_time": "2021-12-30T12:49:16.079Z"
   },
   {
    "duration": 60,
    "start_time": "2021-12-30T12:49:16.126Z"
   },
   {
    "duration": 40,
    "start_time": "2021-12-30T12:49:16.188Z"
   },
   {
    "duration": 4,
    "start_time": "2021-12-30T12:49:16.232Z"
   },
   {
    "duration": 36,
    "start_time": "2021-12-30T12:49:16.238Z"
   },
   {
    "duration": 10,
    "start_time": "2021-12-30T12:49:16.277Z"
   },
   {
    "duration": 4,
    "start_time": "2021-12-30T12:49:16.289Z"
   },
   {
    "duration": 3396,
    "start_time": "2021-12-30T12:49:16.295Z"
   },
   {
    "duration": 10,
    "start_time": "2021-12-30T12:49:19.694Z"
   },
   {
    "duration": 574,
    "start_time": "2021-12-30T12:49:19.706Z"
   },
   {
    "duration": 15,
    "start_time": "2021-12-30T12:51:09.834Z"
   },
   {
    "duration": 16,
    "start_time": "2021-12-30T12:52:07.276Z"
   },
   {
    "duration": 16,
    "start_time": "2021-12-30T12:52:21.206Z"
   },
   {
    "duration": 669,
    "start_time": "2021-12-30T12:52:26.756Z"
   },
   {
    "duration": 14,
    "start_time": "2021-12-30T12:53:22.784Z"
   },
   {
    "duration": 11,
    "start_time": "2021-12-30T12:53:30.384Z"
   },
   {
    "duration": 13,
    "start_time": "2021-12-30T12:53:58.130Z"
   },
   {
    "duration": 10,
    "start_time": "2021-12-30T12:55:00.967Z"
   },
   {
    "duration": 121,
    "start_time": "2021-12-30T12:55:25.216Z"
   },
   {
    "duration": 529,
    "start_time": "2021-12-30T12:55:34.635Z"
   },
   {
    "duration": 608,
    "start_time": "2021-12-30T12:56:59.566Z"
   },
   {
    "duration": 12,
    "start_time": "2021-12-30T12:58:40.205Z"
   },
   {
    "duration": 454,
    "start_time": "2021-12-30T12:59:42.766Z"
   },
   {
    "duration": 19,
    "start_time": "2021-12-30T13:02:56.867Z"
   },
   {
    "duration": 12,
    "start_time": "2021-12-30T13:03:04.369Z"
   },
   {
    "duration": 15,
    "start_time": "2021-12-30T13:03:41.056Z"
   },
   {
    "duration": 11,
    "start_time": "2021-12-30T13:05:05.156Z"
   },
   {
    "duration": 11,
    "start_time": "2021-12-30T13:06:36.554Z"
   },
   {
    "duration": 10,
    "start_time": "2021-12-30T13:06:47.296Z"
   },
   {
    "duration": 11,
    "start_time": "2021-12-30T13:07:10.864Z"
   },
   {
    "duration": 11,
    "start_time": "2021-12-30T13:07:31.714Z"
   },
   {
    "duration": 11,
    "start_time": "2021-12-30T13:10:53.336Z"
   },
   {
    "duration": 12,
    "start_time": "2021-12-30T13:10:53.976Z"
   },
   {
    "duration": 391,
    "start_time": "2021-12-30T13:20:36.416Z"
   },
   {
    "duration": 58,
    "start_time": "2021-12-30T13:20:47.076Z"
   },
   {
    "duration": 752,
    "start_time": "2021-12-30T13:21:32.714Z"
   },
   {
    "duration": 6429,
    "start_time": "2021-12-30T13:22:04.846Z"
   },
   {
    "duration": 59,
    "start_time": "2021-12-30T13:23:20.890Z"
   },
   {
    "duration": 60,
    "start_time": "2021-12-30T13:23:44.916Z"
   },
   {
    "duration": 33,
    "start_time": "2021-12-30T13:24:05.606Z"
   },
   {
    "duration": 734,
    "start_time": "2021-12-30T13:24:09.726Z"
   },
   {
    "duration": 708,
    "start_time": "2021-12-30T13:24:37.439Z"
   },
   {
    "duration": 893,
    "start_time": "2021-12-30T13:26:13.156Z"
   },
   {
    "duration": 112,
    "start_time": "2021-12-30T13:28:31.976Z"
   },
   {
    "duration": 135,
    "start_time": "2021-12-30T13:28:37.044Z"
   },
   {
    "duration": 910,
    "start_time": "2021-12-30T13:28:40.699Z"
   },
   {
    "duration": 823,
    "start_time": "2021-12-30T13:28:49.026Z"
   },
   {
    "duration": 15,
    "start_time": "2021-12-30T13:33:25.586Z"
   },
   {
    "duration": 419,
    "start_time": "2021-12-30T13:33:31.016Z"
   },
   {
    "duration": 413,
    "start_time": "2021-12-30T13:33:53.562Z"
   },
   {
    "duration": 387,
    "start_time": "2021-12-30T13:36:41.774Z"
   },
   {
    "duration": 1457,
    "start_time": "2021-12-30T13:37:52.935Z"
   },
   {
    "duration": 48,
    "start_time": "2021-12-30T13:37:54.395Z"
   },
   {
    "duration": 16,
    "start_time": "2021-12-30T13:37:54.447Z"
   },
   {
    "duration": 71,
    "start_time": "2021-12-30T13:37:54.466Z"
   },
   {
    "duration": 18,
    "start_time": "2021-12-30T13:37:54.539Z"
   },
   {
    "duration": 7,
    "start_time": "2021-12-30T13:37:54.559Z"
   },
   {
    "duration": 11,
    "start_time": "2021-12-30T13:37:54.569Z"
   },
   {
    "duration": 49,
    "start_time": "2021-12-30T13:37:54.584Z"
   },
   {
    "duration": 15,
    "start_time": "2021-12-30T13:37:54.636Z"
   },
   {
    "duration": 71,
    "start_time": "2021-12-30T13:37:54.653Z"
   },
   {
    "duration": 11,
    "start_time": "2021-12-30T13:37:54.727Z"
   },
   {
    "duration": 11,
    "start_time": "2021-12-30T13:37:54.740Z"
   },
   {
    "duration": 12,
    "start_time": "2021-12-30T13:37:54.753Z"
   },
   {
    "duration": 64,
    "start_time": "2021-12-30T13:37:54.767Z"
   },
   {
    "duration": 13,
    "start_time": "2021-12-30T13:37:54.833Z"
   },
   {
    "duration": 9,
    "start_time": "2021-12-30T13:37:54.848Z"
   },
   {
    "duration": 9,
    "start_time": "2021-12-30T13:37:54.859Z"
   },
   {
    "duration": 7,
    "start_time": "2021-12-30T13:37:54.870Z"
   },
   {
    "duration": 58,
    "start_time": "2021-12-30T13:37:54.879Z"
   },
   {
    "duration": 5,
    "start_time": "2021-12-30T13:37:54.939Z"
   },
   {
    "duration": 57,
    "start_time": "2021-12-30T13:37:54.946Z"
   },
   {
    "duration": 18,
    "start_time": "2021-12-30T13:37:55.023Z"
   },
   {
    "duration": 4,
    "start_time": "2021-12-30T13:37:55.045Z"
   },
   {
    "duration": 33,
    "start_time": "2021-12-30T13:37:55.052Z"
   },
   {
    "duration": 40,
    "start_time": "2021-12-30T13:37:55.087Z"
   },
   {
    "duration": 3,
    "start_time": "2021-12-30T13:37:55.129Z"
   },
   {
    "duration": 3366,
    "start_time": "2021-12-30T13:37:55.135Z"
   },
   {
    "duration": 23,
    "start_time": "2021-12-30T13:37:58.504Z"
   },
   {
    "duration": 528,
    "start_time": "2021-12-30T13:37:58.529Z"
   },
   {
    "duration": 15,
    "start_time": "2021-12-30T13:37:59.059Z"
   },
   {
    "duration": 10,
    "start_time": "2021-12-30T13:37:59.076Z"
   },
   {
    "duration": 529,
    "start_time": "2021-12-30T13:37:59.089Z"
   },
   {
    "duration": 886,
    "start_time": "2021-12-30T13:39:14.103Z"
   },
   {
    "duration": 481,
    "start_time": "2021-12-30T13:42:30.242Z"
   },
   {
    "duration": 468,
    "start_time": "2021-12-30T13:42:38.592Z"
   },
   {
    "duration": 494,
    "start_time": "2021-12-30T13:44:06.962Z"
   },
   {
    "duration": 579,
    "start_time": "2021-12-30T13:44:12.881Z"
   },
   {
    "duration": 350,
    "start_time": "2021-12-30T13:50:02.294Z"
   },
   {
    "duration": 342,
    "start_time": "2021-12-30T14:01:38.004Z"
   },
   {
    "duration": 349,
    "start_time": "2021-12-30T14:01:59.064Z"
   },
   {
    "duration": 38,
    "start_time": "2021-12-30T14:02:17.125Z"
   },
   {
    "duration": 464,
    "start_time": "2021-12-30T14:02:51.080Z"
   },
   {
    "duration": 8533,
    "start_time": "2021-12-30T14:03:27.689Z"
   },
   {
    "duration": 464,
    "start_time": "2021-12-30T14:04:59.911Z"
   },
   {
    "duration": 117,
    "start_time": "2021-12-30T14:05:58.484Z"
   },
   {
    "duration": 358,
    "start_time": "2021-12-30T14:06:04.882Z"
   },
   {
    "duration": 693,
    "start_time": "2021-12-30T14:06:19.304Z"
   },
   {
    "duration": 19,
    "start_time": "2021-12-30T14:11:18.400Z"
   },
   {
    "duration": 162,
    "start_time": "2021-12-30T14:12:05.680Z"
   },
   {
    "duration": 27,
    "start_time": "2021-12-30T14:17:02.080Z"
   },
   {
    "duration": 53,
    "start_time": "2021-12-30T14:17:56.583Z"
   },
   {
    "duration": 62,
    "start_time": "2021-12-30T14:18:22.915Z"
   },
   {
    "duration": 122,
    "start_time": "2021-12-30T14:20:07.168Z"
   },
   {
    "duration": 8,
    "start_time": "2021-12-30T14:24:11.505Z"
   },
   {
    "duration": 12,
    "start_time": "2021-12-30T14:24:21.323Z"
   },
   {
    "duration": 154,
    "start_time": "2021-12-30T14:24:38.746Z"
   },
   {
    "duration": 11,
    "start_time": "2021-12-30T14:25:03.683Z"
   },
   {
    "duration": 631,
    "start_time": "2021-12-30T14:25:07.445Z"
   },
   {
    "duration": 28,
    "start_time": "2021-12-30T14:28:39.655Z"
   },
   {
    "duration": 347,
    "start_time": "2021-12-30T14:29:08.833Z"
   },
   {
    "duration": 352,
    "start_time": "2021-12-30T14:29:26.762Z"
   },
   {
    "duration": 1292,
    "start_time": "2021-12-30T14:29:49.181Z"
   },
   {
    "duration": 44,
    "start_time": "2021-12-30T14:29:50.475Z"
   },
   {
    "duration": 16,
    "start_time": "2021-12-30T14:29:50.524Z"
   },
   {
    "duration": 48,
    "start_time": "2021-12-30T14:29:50.544Z"
   },
   {
    "duration": 43,
    "start_time": "2021-12-30T14:29:50.595Z"
   },
   {
    "duration": 13,
    "start_time": "2021-12-30T14:29:50.640Z"
   },
   {
    "duration": 21,
    "start_time": "2021-12-30T14:29:50.656Z"
   },
   {
    "duration": 14,
    "start_time": "2021-12-30T14:29:50.680Z"
   },
   {
    "duration": 16,
    "start_time": "2021-12-30T14:29:50.726Z"
   },
   {
    "duration": 48,
    "start_time": "2021-12-30T14:29:50.745Z"
   },
   {
    "duration": 12,
    "start_time": "2021-12-30T14:29:50.822Z"
   },
   {
    "duration": 11,
    "start_time": "2021-12-30T14:29:50.837Z"
   },
   {
    "duration": 11,
    "start_time": "2021-12-30T14:29:50.851Z"
   },
   {
    "duration": 63,
    "start_time": "2021-12-30T14:29:50.865Z"
   },
   {
    "duration": 17,
    "start_time": "2021-12-30T14:29:50.931Z"
   },
   {
    "duration": 13,
    "start_time": "2021-12-30T14:29:50.951Z"
   },
   {
    "duration": 15,
    "start_time": "2021-12-30T14:29:50.966Z"
   },
   {
    "duration": 41,
    "start_time": "2021-12-30T14:29:50.984Z"
   },
   {
    "duration": 34,
    "start_time": "2021-12-30T14:29:51.028Z"
   },
   {
    "duration": 5,
    "start_time": "2021-12-30T14:29:51.064Z"
   },
   {
    "duration": 79,
    "start_time": "2021-12-30T14:29:51.072Z"
   },
   {
    "duration": 18,
    "start_time": "2021-12-30T14:29:51.154Z"
   },
   {
    "duration": 4,
    "start_time": "2021-12-30T14:29:51.175Z"
   },
   {
    "duration": 69,
    "start_time": "2021-12-30T14:29:51.182Z"
   },
   {
    "duration": 14,
    "start_time": "2021-12-30T14:29:51.254Z"
   },
   {
    "duration": 4,
    "start_time": "2021-12-30T14:29:51.271Z"
   },
   {
    "duration": 3395,
    "start_time": "2021-12-30T14:29:51.282Z"
   },
   {
    "duration": 11,
    "start_time": "2021-12-30T14:29:54.680Z"
   },
   {
    "duration": 548,
    "start_time": "2021-12-30T14:29:54.693Z"
   },
   {
    "duration": 17,
    "start_time": "2021-12-30T14:29:55.244Z"
   },
   {
    "duration": 11,
    "start_time": "2021-12-30T14:29:55.264Z"
   },
   {
    "duration": 520,
    "start_time": "2021-12-30T14:29:55.278Z"
   },
   {
    "duration": 33,
    "start_time": "2021-12-30T14:29:55.801Z"
   },
   {
    "duration": 517,
    "start_time": "2021-12-30T14:30:57.437Z"
   },
   {
    "duration": 20,
    "start_time": "2021-12-30T14:31:13.626Z"
   },
   {
    "duration": 29,
    "start_time": "2021-12-30T14:31:22.395Z"
   },
   {
    "duration": 345,
    "start_time": "2021-12-30T14:40:39.396Z"
   },
   {
    "duration": 118,
    "start_time": "2021-12-30T14:40:44.195Z"
   },
   {
    "duration": 4,
    "start_time": "2021-12-30T14:40:51.395Z"
   },
   {
    "duration": 7789,
    "start_time": "2021-12-30T14:40:52.705Z"
   },
   {
    "duration": 2604,
    "start_time": "2021-12-30T14:42:09.313Z"
   },
   {
    "duration": 5,
    "start_time": "2021-12-30T14:45:00.594Z"
   },
   {
    "duration": 2722,
    "start_time": "2021-12-30T14:45:01.426Z"
   },
   {
    "duration": 4,
    "start_time": "2021-12-30T14:45:15.752Z"
   },
   {
    "duration": 2587,
    "start_time": "2021-12-30T14:45:16.978Z"
   },
   {
    "duration": 5,
    "start_time": "2021-12-30T14:46:25.325Z"
   },
   {
    "duration": 21358,
    "start_time": "2021-12-30T14:46:27.528Z"
   },
   {
    "duration": 368,
    "start_time": "2021-12-30T14:47:08.835Z"
   },
   {
    "duration": 11,
    "start_time": "2021-12-30T14:47:31.525Z"
   },
   {
    "duration": 5,
    "start_time": "2021-12-30T14:47:52.475Z"
   },
   {
    "duration": 43696,
    "start_time": "2021-12-30T14:47:53.148Z"
   },
   {
    "duration": 4,
    "start_time": "2021-12-30T14:48:59.225Z"
   },
   {
    "duration": 4445,
    "start_time": "2021-12-30T14:49:00.017Z"
   },
   {
    "duration": 4,
    "start_time": "2021-12-30T14:49:53.786Z"
   },
   {
    "duration": 2558,
    "start_time": "2021-12-30T14:49:56.117Z"
   },
   {
    "duration": 4,
    "start_time": "2021-12-30T14:50:15.067Z"
   },
   {
    "duration": 2436,
    "start_time": "2021-12-30T14:50:15.794Z"
   },
   {
    "duration": 4,
    "start_time": "2021-12-30T14:50:31.224Z"
   },
   {
    "duration": 80995,
    "start_time": "2021-12-30T14:50:33.406Z"
   },
   {
    "duration": 4,
    "start_time": "2021-12-30T14:53:21.307Z"
   },
   {
    "duration": 60090,
    "start_time": "2021-12-30T14:53:22.536Z"
   },
   {
    "duration": 4,
    "start_time": "2021-12-30T14:57:54.525Z"
   },
   {
    "duration": 930,
    "start_time": "2021-12-30T14:57:55.275Z"
   },
   {
    "duration": 4,
    "start_time": "2021-12-30T14:58:08.045Z"
   },
   {
    "duration": 15925,
    "start_time": "2021-12-30T14:58:08.745Z"
   },
   {
    "duration": 4,
    "start_time": "2021-12-30T14:59:13.105Z"
   },
   {
    "duration": 28432,
    "start_time": "2021-12-30T14:59:13.805Z"
   },
   {
    "duration": 29502,
    "start_time": "2021-12-30T15:01:30.545Z"
   },
   {
    "duration": 31,
    "start_time": "2021-12-30T15:02:09.544Z"
   },
   {
    "duration": 9367,
    "start_time": "2021-12-30T15:02:35.639Z"
   },
   {
    "duration": 28,
    "start_time": "2021-12-30T15:03:26.083Z"
   },
   {
    "duration": 73,
    "start_time": "2021-12-30T15:03:52.595Z"
   },
   {
    "duration": 72,
    "start_time": "2021-12-30T15:04:09.405Z"
   },
   {
    "duration": 8,
    "start_time": "2021-12-30T15:05:08.554Z"
   },
   {
    "duration": 1314,
    "start_time": "2021-12-30T15:05:39.135Z"
   },
   {
    "duration": 2039,
    "start_time": "2021-12-30T15:05:51.048Z"
   },
   {
    "duration": 9,
    "start_time": "2021-12-30T15:06:03.624Z"
   },
   {
    "duration": 12,
    "start_time": "2021-12-30T15:06:16.735Z"
   },
   {
    "duration": 28488,
    "start_time": "2021-12-30T15:06:26.305Z"
   },
   {
    "duration": 11,
    "start_time": "2021-12-30T15:07:09.267Z"
   },
   {
    "duration": 32408,
    "start_time": "2021-12-30T15:07:59.064Z"
   },
   {
    "duration": 13756,
    "start_time": "2021-12-30T15:09:12.875Z"
   },
   {
    "duration": -316,
    "start_time": "2021-12-30T15:09:26.950Z"
   },
   {
    "duration": 9,
    "start_time": "2021-12-30T15:09:32.645Z"
   },
   {
    "duration": 4,
    "start_time": "2021-12-30T15:11:00.995Z"
   },
   {
    "duration": 41,
    "start_time": "2021-12-30T15:11:16.075Z"
   },
   {
    "duration": 25,
    "start_time": "2021-12-30T15:11:23.825Z"
   },
   {
    "duration": 9,
    "start_time": "2021-12-30T15:11:38.888Z"
   },
   {
    "duration": 8,
    "start_time": "2021-12-30T15:12:20.515Z"
   },
   {
    "duration": 319,
    "start_time": "2021-12-30T15:12:37.448Z"
   },
   {
    "duration": 8,
    "start_time": "2021-12-30T15:12:42.145Z"
   },
   {
    "duration": 315,
    "start_time": "2021-12-30T15:15:10.796Z"
   },
   {
    "duration": 378,
    "start_time": "2021-12-30T15:15:58.393Z"
   },
   {
    "duration": 7,
    "start_time": "2021-12-30T15:16:08.425Z"
   },
   {
    "duration": 7,
    "start_time": "2021-12-30T15:16:46.044Z"
   },
   {
    "duration": 340,
    "start_time": "2021-12-30T15:18:04.885Z"
   },
   {
    "duration": 322,
    "start_time": "2021-12-30T15:23:35.678Z"
   },
   {
    "duration": 141,
    "start_time": "2021-12-30T15:23:41.066Z"
   },
   {
    "duration": 32,
    "start_time": "2021-12-30T15:23:44.032Z"
   },
   {
    "duration": 23,
    "start_time": "2021-12-30T15:24:08.993Z"
   },
   {
    "duration": 7,
    "start_time": "2021-12-30T15:24:10.031Z"
   },
   {
    "duration": 350,
    "start_time": "2021-12-30T15:24:35.655Z"
   },
   {
    "duration": 315,
    "start_time": "2021-12-30T15:24:48.516Z"
   },
   {
    "duration": 1340,
    "start_time": "2021-12-30T15:25:43.719Z"
   },
   {
    "duration": 8,
    "start_time": "2021-12-30T15:25:51.828Z"
   },
   {
    "duration": 14,
    "start_time": "2021-12-30T15:25:54.694Z"
   },
   {
    "duration": 7,
    "start_time": "2021-12-30T15:26:20.085Z"
   },
   {
    "duration": 6,
    "start_time": "2021-12-30T15:26:28.308Z"
   },
   {
    "duration": 14,
    "start_time": "2021-12-30T15:26:37.444Z"
   },
   {
    "duration": 13,
    "start_time": "2021-12-30T15:26:55.103Z"
   },
   {
    "duration": 15,
    "start_time": "2021-12-30T15:27:18.673Z"
   },
   {
    "duration": 14,
    "start_time": "2021-12-30T15:28:00.485Z"
   },
   {
    "duration": 10,
    "start_time": "2021-12-30T15:28:24.074Z"
   },
   {
    "duration": 10,
    "start_time": "2021-12-30T15:28:25.285Z"
   },
   {
    "duration": 61,
    "start_time": "2021-12-30T15:29:01.433Z"
   },
   {
    "duration": 71,
    "start_time": "2021-12-30T15:29:12.664Z"
   },
   {
    "duration": 72,
    "start_time": "2021-12-30T15:30:04.674Z"
   },
   {
    "duration": 71,
    "start_time": "2021-12-30T15:30:09.880Z"
   },
   {
    "duration": 40,
    "start_time": "2021-12-30T15:35:50.024Z"
   },
   {
    "duration": 352,
    "start_time": "2021-12-30T15:37:18.306Z"
   },
   {
    "duration": 38,
    "start_time": "2021-12-30T15:38:10.195Z"
   },
   {
    "duration": 10091,
    "start_time": "2021-12-30T15:42:52.017Z"
   },
   {
    "duration": 4,
    "start_time": "2021-12-30T15:43:23.143Z"
   },
   {
    "duration": 40,
    "start_time": "2021-12-30T15:43:24.628Z"
   },
   {
    "duration": 41,
    "start_time": "2021-12-30T15:43:54.464Z"
   },
   {
    "duration": 43,
    "start_time": "2021-12-30T15:44:06.780Z"
   },
   {
    "duration": 41,
    "start_time": "2021-12-30T15:56:16.008Z"
   },
   {
    "duration": 11,
    "start_time": "2021-12-30T15:57:01.407Z"
   },
   {
    "duration": 13,
    "start_time": "2021-12-30T15:57:57.757Z"
   },
   {
    "duration": 16,
    "start_time": "2021-12-30T15:58:16.246Z"
   },
   {
    "duration": 11,
    "start_time": "2021-12-30T15:58:37.175Z"
   },
   {
    "duration": 16,
    "start_time": "2021-12-30T16:01:49.255Z"
   },
   {
    "duration": 13,
    "start_time": "2021-12-30T16:01:54.156Z"
   },
   {
    "duration": 41,
    "start_time": "2021-12-30T16:02:12.141Z"
   },
   {
    "duration": 11,
    "start_time": "2021-12-30T16:10:04.898Z"
   },
   {
    "duration": 626,
    "start_time": "2021-12-30T16:10:08.317Z"
   },
   {
    "duration": 41,
    "start_time": "2021-12-30T16:18:21.418Z"
   },
   {
    "duration": 32,
    "start_time": "2021-12-30T16:18:59.438Z"
   },
   {
    "duration": 18,
    "start_time": "2021-12-30T16:19:29.266Z"
   },
   {
    "duration": 373,
    "start_time": "2021-12-30T16:25:22.488Z"
   },
   {
    "duration": 32,
    "start_time": "2021-12-30T16:27:06.927Z"
   },
   {
    "duration": 184,
    "start_time": "2021-12-30T16:27:40.698Z"
   },
   {
    "duration": 327,
    "start_time": "2021-12-30T16:28:23.858Z"
   },
   {
    "duration": 6,
    "start_time": "2021-12-30T16:28:57.487Z"
   },
   {
    "duration": 9,
    "start_time": "2021-12-30T16:29:08.338Z"
   },
   {
    "duration": 336,
    "start_time": "2021-12-30T16:30:50.917Z"
   },
   {
    "duration": 1079,
    "start_time": "2021-12-30T16:31:24.857Z"
   },
   {
    "duration": 502,
    "start_time": "2021-12-30T16:32:17.997Z"
   },
   {
    "duration": 341,
    "start_time": "2021-12-30T16:35:01.619Z"
   },
   {
    "duration": 108,
    "start_time": "2021-12-30T16:36:27.277Z"
   },
   {
    "duration": 201,
    "start_time": "2021-12-30T16:38:31.036Z"
   },
   {
    "duration": 342,
    "start_time": "2021-12-30T16:38:38.624Z"
   },
   {
    "duration": 332,
    "start_time": "2021-12-30T16:40:08.891Z"
   },
   {
    "duration": 348,
    "start_time": "2021-12-30T16:42:18.778Z"
   },
   {
    "duration": 362,
    "start_time": "2021-12-30T16:46:28.944Z"
   },
   {
    "duration": 342,
    "start_time": "2021-12-30T16:46:29.716Z"
   },
   {
    "duration": 33,
    "start_time": "2021-12-30T16:47:09.798Z"
   },
   {
    "duration": 343,
    "start_time": "2021-12-30T16:47:10.791Z"
   },
   {
    "duration": 323,
    "start_time": "2021-12-30T16:50:57.788Z"
   },
   {
    "duration": 7,
    "start_time": "2021-12-30T16:51:10.419Z"
   },
   {
    "duration": 891,
    "start_time": "2021-12-30T16:51:11.053Z"
   },
   {
    "duration": 17,
    "start_time": "2021-12-30T16:51:28.078Z"
   },
   {
    "duration": 9,
    "start_time": "2021-12-30T16:52:32.288Z"
   },
   {
    "duration": 161,
    "start_time": "2021-12-30T16:54:05.024Z"
   },
   {
    "duration": 336,
    "start_time": "2021-12-30T16:54:05.748Z"
   },
   {
    "duration": 35,
    "start_time": "2021-12-30T16:54:22.707Z"
   },
   {
    "duration": 337,
    "start_time": "2021-12-30T16:54:26.648Z"
   },
   {
    "duration": 304,
    "start_time": "2021-12-30T16:54:55.171Z"
   },
   {
    "duration": 16,
    "start_time": "2021-12-30T16:55:12.845Z"
   },
   {
    "duration": 340,
    "start_time": "2021-12-30T16:55:47.781Z"
   },
   {
    "duration": 34,
    "start_time": "2021-12-30T16:56:00.805Z"
   },
   {
    "duration": 18,
    "start_time": "2021-12-30T16:56:02.948Z"
   },
   {
    "duration": 328,
    "start_time": "2021-12-30T16:56:05.198Z"
   },
   {
    "duration": 17,
    "start_time": "2021-12-30T16:57:15.118Z"
   },
   {
    "duration": 31,
    "start_time": "2021-12-30T16:58:09.888Z"
   },
   {
    "duration": 18,
    "start_time": "2021-12-30T16:58:11.298Z"
   },
   {
    "duration": 342,
    "start_time": "2021-12-30T16:58:13.319Z"
   },
   {
    "duration": 34,
    "start_time": "2021-12-30T17:00:04.558Z"
   },
   {
    "duration": 327,
    "start_time": "2021-12-30T17:00:06.126Z"
   },
   {
    "duration": 227,
    "start_time": "2022-01-02T12:11:07.128Z"
   },
   {
    "duration": 1077,
    "start_time": "2022-01-02T12:11:17.974Z"
   },
   {
    "duration": 39,
    "start_time": "2022-01-02T12:11:19.053Z"
   },
   {
    "duration": 10,
    "start_time": "2022-01-02T12:11:19.094Z"
   },
   {
    "duration": 31,
    "start_time": "2022-01-02T12:11:19.106Z"
   },
   {
    "duration": 24,
    "start_time": "2022-01-02T12:11:19.139Z"
   },
   {
    "duration": 5,
    "start_time": "2022-01-02T12:11:19.165Z"
   },
   {
    "duration": 8,
    "start_time": "2022-01-02T12:11:19.171Z"
   },
   {
    "duration": 9,
    "start_time": "2022-01-02T12:11:19.182Z"
   },
   {
    "duration": 11,
    "start_time": "2022-01-02T12:11:19.193Z"
   },
   {
    "duration": 60,
    "start_time": "2022-01-02T12:11:19.206Z"
   },
   {
    "duration": 8,
    "start_time": "2022-01-02T12:11:19.267Z"
   },
   {
    "duration": 8,
    "start_time": "2022-01-02T12:11:19.277Z"
   },
   {
    "duration": 9,
    "start_time": "2022-01-02T12:11:19.287Z"
   },
   {
    "duration": 17,
    "start_time": "2022-01-02T12:11:19.298Z"
   },
   {
    "duration": 9,
    "start_time": "2022-01-02T12:11:19.316Z"
   },
   {
    "duration": 40,
    "start_time": "2022-01-02T12:11:19.326Z"
   },
   {
    "duration": 7,
    "start_time": "2022-01-02T12:11:19.367Z"
   },
   {
    "duration": 7,
    "start_time": "2022-01-02T12:11:19.375Z"
   },
   {
    "duration": 17,
    "start_time": "2022-01-02T12:11:19.384Z"
   },
   {
    "duration": 3,
    "start_time": "2022-01-02T12:11:19.403Z"
   },
   {
    "duration": 56,
    "start_time": "2022-01-02T12:11:19.407Z"
   },
   {
    "duration": 13,
    "start_time": "2022-01-02T12:11:19.464Z"
   },
   {
    "duration": 2,
    "start_time": "2022-01-02T12:11:19.481Z"
   },
   {
    "duration": 22,
    "start_time": "2022-01-02T12:11:19.485Z"
   },
   {
    "duration": 7,
    "start_time": "2022-01-02T12:11:19.509Z"
   },
   {
    "duration": 3,
    "start_time": "2022-01-02T12:11:19.517Z"
   },
   {
    "duration": 1795,
    "start_time": "2022-01-02T12:11:19.521Z"
   },
   {
    "duration": 7,
    "start_time": "2022-01-02T12:11:21.318Z"
   },
   {
    "duration": 339,
    "start_time": "2022-01-02T12:11:21.327Z"
   },
   {
    "duration": 13,
    "start_time": "2022-01-02T12:11:21.668Z"
   },
   {
    "duration": 8,
    "start_time": "2022-01-02T12:11:21.683Z"
   },
   {
    "duration": 308,
    "start_time": "2022-01-02T12:11:21.693Z"
   },
   {
    "duration": 2,
    "start_time": "2022-01-02T12:11:22.003Z"
   },
   {
    "duration": 22,
    "start_time": "2022-01-02T12:11:22.007Z"
   },
   {
    "duration": 32,
    "start_time": "2022-01-02T12:11:22.030Z"
   },
   {
    "duration": 10,
    "start_time": "2022-01-02T12:11:22.064Z"
   },
   {
    "duration": 9,
    "start_time": "2022-01-02T12:11:22.076Z"
   },
   {
    "duration": 20,
    "start_time": "2022-01-02T12:11:22.087Z"
   },
   {
    "duration": 215,
    "start_time": "2022-01-02T12:11:22.108Z"
   },
   {
    "duration": 4,
    "start_time": "2022-01-02T12:11:22.325Z"
   },
   {
    "duration": 38,
    "start_time": "2022-01-02T12:11:22.331Z"
   },
   {
    "duration": 189,
    "start_time": "2022-01-02T12:11:22.371Z"
   },
   {
    "duration": 18,
    "start_time": "2022-01-02T12:11:22.562Z"
   },
   {
    "duration": 9,
    "start_time": "2022-01-02T12:14:42.741Z"
   },
   {
    "duration": 10545,
    "start_time": "2022-01-02T12:17:35.725Z"
   },
   {
    "duration": 389,
    "start_time": "2022-01-02T12:17:46.272Z"
   },
   {
    "duration": 10665,
    "start_time": "2022-01-02T12:17:49.936Z"
   },
   {
    "duration": 359,
    "start_time": "2022-01-02T12:18:34.518Z"
   },
   {
    "duration": 1204,
    "start_time": "2022-01-02T12:18:35.890Z"
   },
   {
    "duration": 12,
    "start_time": "2022-01-02T12:24:41.019Z"
   },
   {
    "duration": 291,
    "start_time": "2022-01-02T12:34:29.601Z"
   },
   {
    "duration": 4,
    "start_time": "2022-01-02T12:34:33.418Z"
   },
   {
    "duration": 57,
    "start_time": "2022-01-02T12:34:34.340Z"
   },
   {
    "duration": 4,
    "start_time": "2022-01-02T12:35:22.454Z"
   },
   {
    "duration": 61,
    "start_time": "2022-01-02T12:35:23.797Z"
   },
   {
    "duration": 17,
    "start_time": "2022-01-02T12:35:39.120Z"
   },
   {
    "duration": 385,
    "start_time": "2022-01-02T12:35:41.812Z"
   },
   {
    "duration": 273,
    "start_time": "2022-01-02T12:35:59.370Z"
   },
   {
    "duration": 12,
    "start_time": "2022-01-02T12:37:05.042Z"
   },
   {
    "duration": 14,
    "start_time": "2022-01-02T12:39:12.529Z"
   },
   {
    "duration": 1597,
    "start_time": "2022-01-02T12:39:14.929Z"
   },
   {
    "duration": 446,
    "start_time": "2022-01-02T12:41:10.154Z"
   },
   {
    "duration": 4,
    "start_time": "2022-01-02T12:41:13.385Z"
   },
   {
    "duration": 102,
    "start_time": "2022-01-02T12:41:14.197Z"
   },
   {
    "duration": 14,
    "start_time": "2022-01-02T12:41:32.511Z"
   },
   {
    "duration": 217,
    "start_time": "2022-01-02T12:41:34.488Z"
   },
   {
    "duration": 15,
    "start_time": "2022-01-02T12:43:23.325Z"
   },
   {
    "duration": 12,
    "start_time": "2022-01-02T12:43:34.554Z"
   },
   {
    "duration": 4,
    "start_time": "2022-01-02T12:44:07.059Z"
   },
   {
    "duration": 53,
    "start_time": "2022-01-02T12:44:08.273Z"
   },
   {
    "duration": 17,
    "start_time": "2022-01-02T12:44:14.753Z"
   },
   {
    "duration": 223,
    "start_time": "2022-01-02T12:44:15.848Z"
   },
   {
    "duration": 4,
    "start_time": "2022-01-02T12:44:51.730Z"
   },
   {
    "duration": 54,
    "start_time": "2022-01-02T12:44:52.899Z"
   },
   {
    "duration": 17,
    "start_time": "2022-01-02T12:44:56.033Z"
   },
   {
    "duration": 281,
    "start_time": "2022-01-02T12:44:57.234Z"
   },
   {
    "duration": 15,
    "start_time": "2022-01-02T12:47:24.297Z"
   },
   {
    "duration": 13,
    "start_time": "2022-01-02T12:48:47.189Z"
   },
   {
    "duration": 279,
    "start_time": "2022-01-02T12:48:48.043Z"
   },
   {
    "duration": 178,
    "start_time": "2022-01-02T12:50:10.816Z"
   },
   {
    "duration": 71,
    "start_time": "2022-01-02T12:54:08.451Z"
   },
   {
    "duration": 396,
    "start_time": "2022-01-02T12:54:15.050Z"
   },
   {
    "duration": 358,
    "start_time": "2022-01-02T12:54:56.810Z"
   },
   {
    "duration": 286,
    "start_time": "2022-01-02T12:55:12.501Z"
   },
   {
    "duration": 4147,
    "start_time": "2022-01-02T12:55:30.816Z"
   },
   {
    "duration": 352,
    "start_time": "2022-01-02T12:55:46.011Z"
   },
   {
    "duration": 386,
    "start_time": "2022-01-02T12:57:37.019Z"
   },
   {
    "duration": 1087,
    "start_time": "2022-01-02T12:58:19.975Z"
   },
   {
    "duration": 366,
    "start_time": "2022-01-02T12:58:31.764Z"
   },
   {
    "duration": 218,
    "start_time": "2022-01-02T12:59:29.620Z"
   },
   {
    "duration": 306,
    "start_time": "2022-01-02T12:59:40.721Z"
   },
   {
    "duration": 290,
    "start_time": "2022-01-02T13:00:38.802Z"
   },
   {
    "duration": 669,
    "start_time": "2022-01-02T13:02:10.154Z"
   },
   {
    "duration": 7,
    "start_time": "2022-01-02T13:22:43.026Z"
   },
   {
    "duration": 14,
    "start_time": "2022-01-02T13:22:51.969Z"
   },
   {
    "duration": 16,
    "start_time": "2022-01-02T13:23:58.658Z"
   },
   {
    "duration": 17,
    "start_time": "2022-01-02T13:24:20.558Z"
   },
   {
    "duration": 11,
    "start_time": "2022-01-02T13:24:29.875Z"
   },
   {
    "duration": 12,
    "start_time": "2022-01-02T13:24:44.065Z"
   },
   {
    "duration": 12,
    "start_time": "2022-01-02T13:25:29.605Z"
   },
   {
    "duration": 12,
    "start_time": "2022-01-02T13:25:57.190Z"
   },
   {
    "duration": 13,
    "start_time": "2022-01-02T13:26:46.256Z"
   },
   {
    "duration": 15,
    "start_time": "2022-01-02T13:26:46.871Z"
   },
   {
    "duration": 12,
    "start_time": "2022-01-02T13:27:09.446Z"
   },
   {
    "duration": 11,
    "start_time": "2022-01-02T13:27:11.968Z"
   },
   {
    "duration": 1087,
    "start_time": "2022-01-02T13:27:24.173Z"
   },
   {
    "duration": 38,
    "start_time": "2022-01-02T13:27:25.263Z"
   },
   {
    "duration": 11,
    "start_time": "2022-01-02T13:27:25.303Z"
   },
   {
    "duration": 30,
    "start_time": "2022-01-02T13:27:25.316Z"
   },
   {
    "duration": 20,
    "start_time": "2022-01-02T13:27:25.348Z"
   },
   {
    "duration": 10,
    "start_time": "2022-01-02T13:27:25.370Z"
   },
   {
    "duration": 12,
    "start_time": "2022-01-02T13:27:25.381Z"
   },
   {
    "duration": 10,
    "start_time": "2022-01-02T13:27:25.395Z"
   },
   {
    "duration": 13,
    "start_time": "2022-01-02T13:27:25.407Z"
   },
   {
    "duration": 63,
    "start_time": "2022-01-02T13:27:25.421Z"
   },
   {
    "duration": 8,
    "start_time": "2022-01-02T13:27:25.485Z"
   },
   {
    "duration": 11,
    "start_time": "2022-01-02T13:27:25.495Z"
   },
   {
    "duration": 9,
    "start_time": "2022-01-02T13:27:25.507Z"
   },
   {
    "duration": 15,
    "start_time": "2022-01-02T13:27:25.517Z"
   },
   {
    "duration": 33,
    "start_time": "2022-01-02T13:27:25.534Z"
   },
   {
    "duration": 16,
    "start_time": "2022-01-02T13:27:25.569Z"
   },
   {
    "duration": 13,
    "start_time": "2022-01-02T13:27:25.587Z"
   },
   {
    "duration": 17,
    "start_time": "2022-01-02T13:27:25.602Z"
   },
   {
    "duration": 15,
    "start_time": "2022-01-02T13:27:25.621Z"
   },
   {
    "duration": 4,
    "start_time": "2022-01-02T13:27:25.637Z"
   },
   {
    "duration": 57,
    "start_time": "2022-01-02T13:27:25.643Z"
   },
   {
    "duration": 12,
    "start_time": "2022-01-02T13:27:25.702Z"
   },
   {
    "duration": 2,
    "start_time": "2022-01-02T13:27:25.718Z"
   },
   {
    "duration": 28,
    "start_time": "2022-01-02T13:27:25.722Z"
   },
   {
    "duration": 17,
    "start_time": "2022-01-02T13:27:25.752Z"
   },
   {
    "duration": 7,
    "start_time": "2022-01-02T13:27:25.771Z"
   },
   {
    "duration": 1850,
    "start_time": "2022-01-02T13:27:25.779Z"
   },
   {
    "duration": 8,
    "start_time": "2022-01-02T13:27:27.630Z"
   },
   {
    "duration": 359,
    "start_time": "2022-01-02T13:27:27.639Z"
   },
   {
    "duration": 12,
    "start_time": "2022-01-02T13:27:28.000Z"
   },
   {
    "duration": 7,
    "start_time": "2022-01-02T13:27:28.014Z"
   },
   {
    "duration": 323,
    "start_time": "2022-01-02T13:27:28.023Z"
   },
   {
    "duration": 14,
    "start_time": "2022-01-02T13:27:28.347Z"
   },
   {
    "duration": 32,
    "start_time": "2022-01-02T13:27:28.363Z"
   },
   {
    "duration": 12,
    "start_time": "2022-01-02T13:27:28.397Z"
   },
   {
    "duration": 9,
    "start_time": "2022-01-02T13:27:28.411Z"
   },
   {
    "duration": 8,
    "start_time": "2022-01-02T13:27:28.421Z"
   },
   {
    "duration": 40,
    "start_time": "2022-01-02T13:27:28.431Z"
   },
   {
    "duration": 211,
    "start_time": "2022-01-02T13:27:28.473Z"
   },
   {
    "duration": 4,
    "start_time": "2022-01-02T13:27:28.686Z"
   },
   {
    "duration": 26,
    "start_time": "2022-01-02T13:27:28.692Z"
   },
   {
    "duration": 213,
    "start_time": "2022-01-02T13:27:28.720Z"
   },
   {
    "duration": 31,
    "start_time": "2022-01-02T13:27:28.935Z"
   },
   {
    "duration": 12,
    "start_time": "2022-01-02T13:27:28.968Z"
   },
   {
    "duration": 831,
    "start_time": "2022-01-02T13:27:28.982Z"
   },
   {
    "duration": 301,
    "start_time": "2022-01-02T13:27:29.815Z"
   },
   {
    "duration": -14,
    "start_time": "2022-01-02T13:27:30.132Z"
   },
   {
    "duration": 14,
    "start_time": "2022-01-02T13:27:50.951Z"
   },
   {
    "duration": 11,
    "start_time": "2022-01-02T13:27:52.241Z"
   },
   {
    "duration": 10,
    "start_time": "2022-01-02T13:32:45.677Z"
   },
   {
    "duration": 11,
    "start_time": "2022-01-02T13:32:50.251Z"
   },
   {
    "duration": 68,
    "start_time": "2022-01-02T13:37:16.852Z"
   },
   {
    "duration": 237,
    "start_time": "2022-01-02T13:37:26.453Z"
   },
   {
    "duration": 221,
    "start_time": "2022-01-02T13:37:32.933Z"
   },
   {
    "duration": 15,
    "start_time": "2022-01-02T13:38:14.373Z"
   },
   {
    "duration": 24,
    "start_time": "2022-01-02T13:38:40.254Z"
   },
   {
    "duration": 242,
    "start_time": "2022-01-02T13:38:42.015Z"
   },
   {
    "duration": 18,
    "start_time": "2022-01-02T13:38:51.731Z"
   },
   {
    "duration": 24,
    "start_time": "2022-01-02T13:38:58.358Z"
   },
   {
    "duration": 217,
    "start_time": "2022-01-02T13:41:02.067Z"
   },
   {
    "duration": 20,
    "start_time": "2022-01-02T13:41:05.893Z"
   },
   {
    "duration": 21,
    "start_time": "2022-01-02T13:41:06.478Z"
   },
   {
    "duration": 22,
    "start_time": "2022-01-02T13:42:08.637Z"
   },
   {
    "duration": 18,
    "start_time": "2022-01-02T13:42:09.281Z"
   },
   {
    "duration": 21,
    "start_time": "2022-01-02T13:42:36.088Z"
   },
   {
    "duration": 17,
    "start_time": "2022-01-02T13:42:36.837Z"
   },
   {
    "duration": 30,
    "start_time": "2022-01-02T13:42:48.658Z"
   },
   {
    "duration": 17,
    "start_time": "2022-01-02T13:42:49.173Z"
   },
   {
    "duration": 19,
    "start_time": "2022-01-02T13:43:01.978Z"
   },
   {
    "duration": 22,
    "start_time": "2022-01-02T13:44:12.315Z"
   },
   {
    "duration": 17,
    "start_time": "2022-01-02T13:44:13.019Z"
   },
   {
    "duration": 23,
    "start_time": "2022-01-02T13:44:31.967Z"
   },
   {
    "duration": 314,
    "start_time": "2022-01-02T13:45:40.517Z"
   },
   {
    "duration": 20,
    "start_time": "2022-01-02T13:46:36.512Z"
   },
   {
    "duration": 18,
    "start_time": "2022-01-02T13:46:43.743Z"
   },
   {
    "duration": 17,
    "start_time": "2022-01-02T13:46:47.973Z"
   },
   {
    "duration": 299,
    "start_time": "2022-01-02T13:46:50.326Z"
   },
   {
    "duration": 325,
    "start_time": "2022-01-02T13:49:01.130Z"
   },
   {
    "duration": 334,
    "start_time": "2022-01-02T13:50:15.921Z"
   },
   {
    "duration": 335,
    "start_time": "2022-01-02T13:50:24.817Z"
   },
   {
    "duration": 403,
    "start_time": "2022-01-02T13:51:42.578Z"
   },
   {
    "duration": 325,
    "start_time": "2022-01-02T13:54:50.142Z"
   },
   {
    "duration": 12,
    "start_time": "2022-01-02T14:15:21.783Z"
   },
   {
    "duration": 19,
    "start_time": "2022-01-02T14:15:36.050Z"
   },
   {
    "duration": 73,
    "start_time": "2022-01-02T14:33:05.874Z"
   },
   {
    "duration": 11,
    "start_time": "2022-01-02T14:33:14.409Z"
   },
   {
    "duration": 15,
    "start_time": "2022-01-02T14:36:44.924Z"
   },
   {
    "duration": 11,
    "start_time": "2022-01-02T14:37:38.349Z"
   },
   {
    "duration": 288,
    "start_time": "2022-01-02T14:37:39.134Z"
   },
   {
    "duration": 7,
    "start_time": "2022-01-02T14:38:35.880Z"
   },
   {
    "duration": 392,
    "start_time": "2022-01-02T14:39:16.522Z"
   },
   {
    "duration": 287,
    "start_time": "2022-01-02T14:39:51.241Z"
   },
   {
    "duration": 9,
    "start_time": "2022-01-02T14:42:37.865Z"
   },
   {
    "duration": 6,
    "start_time": "2022-01-02T14:42:52.303Z"
   },
   {
    "duration": 7,
    "start_time": "2022-01-02T14:43:10.144Z"
   },
   {
    "duration": 7,
    "start_time": "2022-01-02T14:43:26.915Z"
   },
   {
    "duration": 7,
    "start_time": "2022-01-02T14:43:57.365Z"
   },
   {
    "duration": 8,
    "start_time": "2022-01-02T14:43:57.740Z"
   },
   {
    "duration": 8,
    "start_time": "2022-01-02T14:43:58.055Z"
   },
   {
    "duration": 98,
    "start_time": "2022-01-02T14:52:53.131Z"
   },
   {
    "duration": 11,
    "start_time": "2022-01-02T14:53:04.637Z"
   },
   {
    "duration": 319,
    "start_time": "2022-01-02T14:53:53.402Z"
   },
   {
    "duration": 321,
    "start_time": "2022-01-02T14:54:10.052Z"
   },
   {
    "duration": 7,
    "start_time": "2022-01-02T14:55:09.828Z"
   },
   {
    "duration": 7,
    "start_time": "2022-01-02T14:55:47.194Z"
   },
   {
    "duration": 7,
    "start_time": "2022-01-02T14:55:47.778Z"
   },
   {
    "duration": 6,
    "start_time": "2022-01-02T14:55:48.230Z"
   },
   {
    "duration": 304,
    "start_time": "2022-01-02T14:58:15.997Z"
   },
   {
    "duration": 65,
    "start_time": "2022-01-02T15:01:44.500Z"
   },
   {
    "duration": 323,
    "start_time": "2022-01-02T15:02:41.878Z"
   },
   {
    "duration": 213,
    "start_time": "2022-01-02T15:02:56.052Z"
   },
   {
    "duration": 11,
    "start_time": "2022-01-02T15:02:59.760Z"
   },
   {
    "duration": 282,
    "start_time": "2022-01-02T15:03:01.796Z"
   },
   {
    "duration": 7,
    "start_time": "2022-01-02T15:07:29.988Z"
   },
   {
    "duration": 8,
    "start_time": "2022-01-02T15:07:30.767Z"
   },
   {
    "duration": 11,
    "start_time": "2022-01-02T15:07:31.188Z"
   },
   {
    "duration": 6,
    "start_time": "2022-01-02T15:26:14.474Z"
   },
   {
    "duration": 2,
    "start_time": "2022-01-02T15:26:49.780Z"
   },
   {
    "duration": 5,
    "start_time": "2022-01-02T15:27:24.489Z"
   },
   {
    "duration": 16,
    "start_time": "2022-01-02T15:30:17.549Z"
   },
   {
    "duration": 11,
    "start_time": "2022-01-02T15:31:17.473Z"
   },
   {
    "duration": 18,
    "start_time": "2022-01-02T15:33:05.972Z"
   },
   {
    "duration": 69,
    "start_time": "2022-01-02T15:33:13.801Z"
   },
   {
    "duration": 16,
    "start_time": "2022-01-02T15:33:18.676Z"
   },
   {
    "duration": 20,
    "start_time": "2022-01-02T15:33:34.804Z"
   },
   {
    "duration": 16,
    "start_time": "2022-01-02T15:33:41.822Z"
   },
   {
    "duration": 17,
    "start_time": "2022-01-02T15:33:59.043Z"
   },
   {
    "duration": 18,
    "start_time": "2022-01-02T15:34:22.413Z"
   },
   {
    "duration": 8,
    "start_time": "2022-01-02T15:38:24.772Z"
   },
   {
    "duration": 5,
    "start_time": "2022-01-02T15:39:15.070Z"
   },
   {
    "duration": 19,
    "start_time": "2022-01-02T15:40:19.630Z"
   },
   {
    "duration": 19,
    "start_time": "2022-01-02T15:40:35.089Z"
   },
   {
    "duration": 1147,
    "start_time": "2022-01-02T16:13:45.078Z"
   },
   {
    "duration": 46,
    "start_time": "2022-01-02T16:13:46.227Z"
   },
   {
    "duration": 11,
    "start_time": "2022-01-02T16:13:46.279Z"
   },
   {
    "duration": 32,
    "start_time": "2022-01-02T16:13:46.293Z"
   },
   {
    "duration": 12,
    "start_time": "2022-01-02T16:13:46.327Z"
   },
   {
    "duration": 12,
    "start_time": "2022-01-02T16:13:46.362Z"
   },
   {
    "duration": 9,
    "start_time": "2022-01-02T16:13:46.377Z"
   },
   {
    "duration": 40,
    "start_time": "2022-01-02T16:13:46.388Z"
   },
   {
    "duration": 47,
    "start_time": "2022-01-02T16:13:46.430Z"
   },
   {
    "duration": 31,
    "start_time": "2022-01-02T16:13:46.479Z"
   },
   {
    "duration": 8,
    "start_time": "2022-01-02T16:13:46.512Z"
   },
   {
    "duration": 13,
    "start_time": "2022-01-02T16:13:46.521Z"
   },
   {
    "duration": 9,
    "start_time": "2022-01-02T16:13:46.535Z"
   },
   {
    "duration": 20,
    "start_time": "2022-01-02T16:13:46.565Z"
   },
   {
    "duration": 7,
    "start_time": "2022-01-02T16:13:46.587Z"
   },
   {
    "duration": 15,
    "start_time": "2022-01-02T16:13:46.596Z"
   },
   {
    "duration": 9,
    "start_time": "2022-01-02T16:13:46.613Z"
   },
   {
    "duration": 6,
    "start_time": "2022-01-02T16:13:46.624Z"
   },
   {
    "duration": 50,
    "start_time": "2022-01-02T16:13:46.632Z"
   },
   {
    "duration": 4,
    "start_time": "2022-01-02T16:13:46.683Z"
   },
   {
    "duration": 37,
    "start_time": "2022-01-02T16:13:46.689Z"
   },
   {
    "duration": 36,
    "start_time": "2022-01-02T16:13:46.730Z"
   },
   {
    "duration": 5,
    "start_time": "2022-01-02T16:13:46.771Z"
   },
   {
    "duration": 27,
    "start_time": "2022-01-02T16:13:46.779Z"
   },
   {
    "duration": 8,
    "start_time": "2022-01-02T16:13:46.807Z"
   },
   {
    "duration": 2,
    "start_time": "2022-01-02T16:13:46.817Z"
   },
   {
    "duration": 1828,
    "start_time": "2022-01-02T16:13:46.821Z"
   },
   {
    "duration": 13,
    "start_time": "2022-01-02T16:13:48.651Z"
   },
   {
    "duration": 353,
    "start_time": "2022-01-02T16:13:48.666Z"
   },
   {
    "duration": 12,
    "start_time": "2022-01-02T16:13:49.021Z"
   },
   {
    "duration": 8,
    "start_time": "2022-01-02T16:13:49.034Z"
   },
   {
    "duration": 320,
    "start_time": "2022-01-02T16:13:49.043Z"
   },
   {
    "duration": 3,
    "start_time": "2022-01-02T16:13:49.366Z"
   },
   {
    "duration": 24,
    "start_time": "2022-01-02T16:13:49.371Z"
   },
   {
    "duration": 11,
    "start_time": "2022-01-02T16:13:49.397Z"
   },
   {
    "duration": 17,
    "start_time": "2022-01-02T16:13:49.409Z"
   },
   {
    "duration": 10,
    "start_time": "2022-01-02T16:13:49.427Z"
   },
   {
    "duration": 47,
    "start_time": "2022-01-02T16:13:49.439Z"
   },
   {
    "duration": 218,
    "start_time": "2022-01-02T16:13:49.488Z"
   },
   {
    "duration": 5,
    "start_time": "2022-01-02T16:13:49.708Z"
   },
   {
    "duration": 25,
    "start_time": "2022-01-02T16:13:49.715Z"
   },
   {
    "duration": 244,
    "start_time": "2022-01-02T16:13:49.741Z"
   },
   {
    "duration": 12,
    "start_time": "2022-01-02T16:13:49.987Z"
   },
   {
    "duration": 9,
    "start_time": "2022-01-02T16:13:50.000Z"
   },
   {
    "duration": 787,
    "start_time": "2022-01-02T16:13:50.011Z"
   },
   {
    "duration": 23,
    "start_time": "2022-01-02T16:13:50.799Z"
   },
   {
    "duration": 18,
    "start_time": "2022-01-02T16:13:50.824Z"
   },
   {
    "duration": 348,
    "start_time": "2022-01-02T16:13:50.861Z"
   },
   {
    "duration": 6,
    "start_time": "2022-01-02T16:13:51.212Z"
   },
   {
    "duration": 11,
    "start_time": "2022-01-02T16:13:51.220Z"
   },
   {
    "duration": 422,
    "start_time": "2022-01-02T16:13:51.233Z"
   },
   {
    "duration": 21,
    "start_time": "2022-01-02T16:13:51.660Z"
   },
   {
    "duration": 10,
    "start_time": "2022-01-02T16:13:51.683Z"
   },
   {
    "duration": 10,
    "start_time": "2022-01-02T16:13:51.695Z"
   },
   {
    "duration": 13,
    "start_time": "2022-01-02T16:13:51.706Z"
   },
   {
    "duration": 360,
    "start_time": "2022-01-02T16:13:51.721Z"
   },
   {
    "duration": 7,
    "start_time": "2022-01-02T16:13:52.083Z"
   },
   {
    "duration": 9,
    "start_time": "2022-01-02T16:13:52.092Z"
   },
   {
    "duration": 7,
    "start_time": "2022-01-02T16:13:52.103Z"
   },
   {
    "duration": 16,
    "start_time": "2022-01-02T16:13:52.112Z"
   },
   {
    "duration": 267,
    "start_time": "2022-01-02T16:13:52.130Z"
   },
   {
    "duration": 7,
    "start_time": "2022-01-02T16:13:52.399Z"
   },
   {
    "duration": 8,
    "start_time": "2022-01-02T16:13:52.408Z"
   },
   {
    "duration": 7,
    "start_time": "2022-01-02T16:13:52.417Z"
   },
   {
    "duration": 35,
    "start_time": "2022-01-02T16:13:52.426Z"
   },
   {
    "duration": 13,
    "start_time": "2022-01-02T16:13:52.464Z"
   },
   {
    "duration": 5,
    "start_time": "2022-01-02T16:13:52.481Z"
   },
   {
    "duration": 18,
    "start_time": "2022-01-02T16:13:52.488Z"
   },
   {
    "duration": 6,
    "start_time": "2022-01-02T16:13:52.507Z"
   },
   {
    "duration": 3,
    "start_time": "2022-01-02T16:13:52.514Z"
   },
   {
    "duration": 6,
    "start_time": "2022-01-02T16:13:52.519Z"
   },
   {
    "duration": 47,
    "start_time": "2022-01-02T16:13:52.527Z"
   },
   {
    "duration": 124,
    "start_time": "2022-01-03T19:18:25.732Z"
   },
   {
    "duration": 586,
    "start_time": "2022-01-03T19:18:32.556Z"
   },
   {
    "duration": 1419,
    "start_time": "2022-01-03T19:18:41.116Z"
   },
   {
    "duration": 50,
    "start_time": "2022-01-03T19:18:42.537Z"
   },
   {
    "duration": 15,
    "start_time": "2022-01-03T19:18:42.590Z"
   },
   {
    "duration": 72,
    "start_time": "2022-01-03T19:18:42.608Z"
   },
   {
    "duration": 20,
    "start_time": "2022-01-03T19:18:42.682Z"
   },
   {
    "duration": 7,
    "start_time": "2022-01-03T19:18:42.705Z"
   },
   {
    "duration": 13,
    "start_time": "2022-01-03T19:18:42.714Z"
   },
   {
    "duration": 14,
    "start_time": "2022-01-03T19:18:42.768Z"
   },
   {
    "duration": 19,
    "start_time": "2022-01-03T19:18:42.786Z"
   },
   {
    "duration": 75,
    "start_time": "2022-01-03T19:18:42.807Z"
   },
   {
    "duration": 20,
    "start_time": "2022-01-03T19:18:42.885Z"
   },
   {
    "duration": 13,
    "start_time": "2022-01-03T19:18:42.908Z"
   },
   {
    "duration": 43,
    "start_time": "2022-01-03T19:18:42.924Z"
   },
   {
    "duration": 12,
    "start_time": "2022-01-03T19:18:42.970Z"
   },
   {
    "duration": 21,
    "start_time": "2022-01-03T19:18:42.985Z"
   },
   {
    "duration": 13,
    "start_time": "2022-01-03T19:18:43.008Z"
   },
   {
    "duration": 47,
    "start_time": "2022-01-03T19:18:43.023Z"
   },
   {
    "duration": 10,
    "start_time": "2022-01-03T19:18:43.073Z"
   },
   {
    "duration": 9,
    "start_time": "2022-01-03T19:18:43.085Z"
   },
   {
    "duration": 25,
    "start_time": "2022-01-03T19:18:43.096Z"
   },
   {
    "duration": 5,
    "start_time": "2022-01-03T19:18:43.123Z"
   },
   {
    "duration": 90,
    "start_time": "2022-01-03T19:18:43.130Z"
   },
   {
    "duration": 41,
    "start_time": "2022-01-03T19:18:43.226Z"
   },
   {
    "duration": 4,
    "start_time": "2022-01-03T19:18:43.271Z"
   },
   {
    "duration": 39,
    "start_time": "2022-01-03T19:18:43.278Z"
   },
   {
    "duration": 13,
    "start_time": "2022-01-03T19:18:43.319Z"
   },
   {
    "duration": 33,
    "start_time": "2022-01-03T19:18:43.334Z"
   },
   {
    "duration": 3618,
    "start_time": "2022-01-03T19:18:43.370Z"
   },
   {
    "duration": 13,
    "start_time": "2022-01-03T19:18:46.991Z"
   },
   {
    "duration": 629,
    "start_time": "2022-01-03T19:18:47.007Z"
   },
   {
    "duration": 15,
    "start_time": "2022-01-03T19:18:47.638Z"
   },
   {
    "duration": 13,
    "start_time": "2022-01-03T19:18:47.667Z"
   },
   {
    "duration": 514,
    "start_time": "2022-01-03T19:18:47.682Z"
   },
   {
    "duration": 3,
    "start_time": "2022-01-03T19:18:48.198Z"
   },
   {
    "duration": 36,
    "start_time": "2022-01-03T19:18:48.203Z"
   },
   {
    "duration": 36,
    "start_time": "2022-01-03T19:18:48.242Z"
   },
   {
    "duration": 15,
    "start_time": "2022-01-03T19:18:48.280Z"
   },
   {
    "duration": 12,
    "start_time": "2022-01-03T19:18:48.298Z"
   },
   {
    "duration": 74,
    "start_time": "2022-01-03T19:18:48.313Z"
   },
   {
    "duration": 381,
    "start_time": "2022-01-03T19:18:48.390Z"
   },
   {
    "duration": 9,
    "start_time": "2022-01-03T19:18:48.774Z"
   },
   {
    "duration": 43,
    "start_time": "2022-01-03T19:18:48.786Z"
   },
   {
    "duration": 392,
    "start_time": "2022-01-03T19:18:48.832Z"
   },
   {
    "duration": 18,
    "start_time": "2022-01-03T19:18:49.227Z"
   },
   {
    "duration": 29,
    "start_time": "2022-01-03T19:18:49.247Z"
   },
   {
    "duration": 1098,
    "start_time": "2022-01-03T19:18:49.278Z"
   },
   {
    "duration": 33,
    "start_time": "2022-01-03T19:18:50.379Z"
   },
   {
    "duration": 52,
    "start_time": "2022-01-03T19:18:50.415Z"
   },
   {
    "duration": 559,
    "start_time": "2022-01-03T19:18:50.470Z"
   },
   {
    "duration": 8,
    "start_time": "2022-01-03T19:18:51.032Z"
   },
   {
    "duration": 35,
    "start_time": "2022-01-03T19:18:51.042Z"
   },
   {
    "duration": 524,
    "start_time": "2022-01-03T19:18:51.080Z"
   },
   {
    "duration": 13,
    "start_time": "2022-01-03T19:18:51.607Z"
   },
   {
    "duration": 8,
    "start_time": "2022-01-03T19:18:51.623Z"
   },
   {
    "duration": 35,
    "start_time": "2022-01-03T19:18:51.634Z"
   },
   {
    "duration": 21,
    "start_time": "2022-01-03T19:18:51.672Z"
   },
   {
    "duration": 566,
    "start_time": "2022-01-03T19:18:51.695Z"
   },
   {
    "duration": 11,
    "start_time": "2022-01-03T19:18:52.267Z"
   },
   {
    "duration": 10,
    "start_time": "2022-01-03T19:18:52.280Z"
   },
   {
    "duration": 11,
    "start_time": "2022-01-03T19:18:52.293Z"
   },
   {
    "duration": 16,
    "start_time": "2022-01-03T19:18:52.307Z"
   },
   {
    "duration": 445,
    "start_time": "2022-01-03T19:18:52.325Z"
   },
   {
    "duration": 10,
    "start_time": "2022-01-03T19:18:52.772Z"
   },
   {
    "duration": 12,
    "start_time": "2022-01-03T19:18:52.785Z"
   },
   {
    "duration": 12,
    "start_time": "2022-01-03T19:18:52.799Z"
   },
   {
    "duration": 10,
    "start_time": "2022-01-03T19:18:52.813Z"
   },
   {
    "duration": 42,
    "start_time": "2022-01-03T19:18:52.825Z"
   },
   {
    "duration": 7,
    "start_time": "2022-01-03T19:18:52.874Z"
   },
   {
    "duration": 28,
    "start_time": "2022-01-03T19:18:52.883Z"
   },
   {
    "duration": 8,
    "start_time": "2022-01-03T19:18:52.914Z"
   },
   {
    "duration": 8,
    "start_time": "2022-01-03T19:18:52.925Z"
   },
   {
    "duration": 7,
    "start_time": "2022-01-03T19:18:52.968Z"
   },
   {
    "duration": 30,
    "start_time": "2022-01-03T19:18:52.977Z"
   },
   {
    "duration": 38,
    "start_time": "2022-01-03T19:45:31.017Z"
   },
   {
    "duration": 1503,
    "start_time": "2022-01-03T20:04:54.100Z"
   },
   {
    "duration": 48,
    "start_time": "2022-01-03T20:04:55.605Z"
   },
   {
    "duration": 14,
    "start_time": "2022-01-03T20:04:55.656Z"
   },
   {
    "duration": 52,
    "start_time": "2022-01-03T20:04:55.673Z"
   },
   {
    "duration": 42,
    "start_time": "2022-01-03T20:04:55.727Z"
   },
   {
    "duration": 6,
    "start_time": "2022-01-03T20:04:55.772Z"
   },
   {
    "duration": 16,
    "start_time": "2022-01-03T20:04:55.780Z"
   },
   {
    "duration": 14,
    "start_time": "2022-01-03T20:04:55.800Z"
   },
   {
    "duration": 59,
    "start_time": "2022-01-03T20:04:55.817Z"
   },
   {
    "duration": 46,
    "start_time": "2022-01-03T20:04:55.879Z"
   },
   {
    "duration": 41,
    "start_time": "2022-01-03T20:04:55.928Z"
   },
   {
    "duration": 12,
    "start_time": "2022-01-03T20:04:55.971Z"
   },
   {
    "duration": 15,
    "start_time": "2022-01-03T20:04:55.986Z"
   },
   {
    "duration": 12,
    "start_time": "2022-01-03T20:04:56.004Z"
   },
   {
    "duration": 61,
    "start_time": "2022-01-03T20:04:56.019Z"
   },
   {
    "duration": 13,
    "start_time": "2022-01-03T20:04:56.083Z"
   },
   {
    "duration": 12,
    "start_time": "2022-01-03T20:04:56.099Z"
   },
   {
    "duration": 10,
    "start_time": "2022-01-03T20:04:56.114Z"
   },
   {
    "duration": 43,
    "start_time": "2022-01-03T20:04:56.128Z"
   },
   {
    "duration": 25,
    "start_time": "2022-01-03T20:04:56.173Z"
   },
   {
    "duration": 5,
    "start_time": "2022-01-03T20:04:56.201Z"
   },
   {
    "duration": 90,
    "start_time": "2022-01-03T20:04:56.208Z"
   },
   {
    "duration": 19,
    "start_time": "2022-01-03T20:04:56.304Z"
   },
   {
    "duration": 5,
    "start_time": "2022-01-03T20:04:56.327Z"
   },
   {
    "duration": 65,
    "start_time": "2022-01-03T20:04:56.334Z"
   },
   {
    "duration": 12,
    "start_time": "2022-01-03T20:04:56.402Z"
   },
   {
    "duration": 4,
    "start_time": "2022-01-03T20:04:56.417Z"
   },
   {
    "duration": 3470,
    "start_time": "2022-01-03T20:04:56.423Z"
   },
   {
    "duration": 11,
    "start_time": "2022-01-03T20:04:59.895Z"
   },
   {
    "duration": 595,
    "start_time": "2022-01-03T20:04:59.908Z"
   },
   {
    "duration": 16,
    "start_time": "2022-01-03T20:05:00.505Z"
   },
   {
    "duration": 16,
    "start_time": "2022-01-03T20:05:00.523Z"
   },
   {
    "duration": 538,
    "start_time": "2022-01-03T20:05:00.541Z"
   },
   {
    "duration": 4,
    "start_time": "2022-01-03T20:05:01.082Z"
   },
   {
    "duration": 39,
    "start_time": "2022-01-03T20:05:01.089Z"
   },
   {
    "duration": 38,
    "start_time": "2022-01-03T20:05:01.130Z"
   },
   {
    "duration": 14,
    "start_time": "2022-01-03T20:05:01.171Z"
   },
   {
    "duration": 18,
    "start_time": "2022-01-03T20:05:01.187Z"
   },
   {
    "duration": 60,
    "start_time": "2022-01-03T20:05:01.207Z"
   },
   {
    "duration": 366,
    "start_time": "2022-01-03T20:05:01.269Z"
   },
   {
    "duration": 7,
    "start_time": "2022-01-03T20:05:01.638Z"
   },
   {
    "duration": 57,
    "start_time": "2022-01-03T20:05:01.648Z"
   },
   {
    "duration": 362,
    "start_time": "2022-01-03T20:05:01.707Z"
   },
   {
    "duration": 20,
    "start_time": "2022-01-03T20:05:02.072Z"
   },
   {
    "duration": 14,
    "start_time": "2022-01-03T20:05:02.094Z"
   },
   {
    "duration": 1111,
    "start_time": "2022-01-03T20:05:02.111Z"
   },
   {
    "duration": 53,
    "start_time": "2022-01-03T20:05:03.225Z"
   },
   {
    "duration": 29,
    "start_time": "2022-01-03T20:05:03.281Z"
   },
   {
    "duration": 560,
    "start_time": "2022-01-03T20:05:03.313Z"
   },
   {
    "duration": 8,
    "start_time": "2022-01-03T20:05:03.876Z"
   },
   {
    "duration": 15,
    "start_time": "2022-01-03T20:05:03.887Z"
   },
   {
    "duration": 515,
    "start_time": "2022-01-03T20:05:03.904Z"
   },
   {
    "duration": 9,
    "start_time": "2022-01-03T20:05:04.422Z"
   },
   {
    "duration": 34,
    "start_time": "2022-01-03T20:05:04.434Z"
   },
   {
    "duration": 9,
    "start_time": "2022-01-03T20:05:04.471Z"
   },
   {
    "duration": 16,
    "start_time": "2022-01-03T20:05:04.483Z"
   },
   {
    "duration": 540,
    "start_time": "2022-01-03T20:05:04.501Z"
   },
   {
    "duration": 9,
    "start_time": "2022-01-03T20:05:05.044Z"
   },
   {
    "duration": 9,
    "start_time": "2022-01-03T20:05:05.068Z"
   },
   {
    "duration": 13,
    "start_time": "2022-01-03T20:05:05.079Z"
   },
   {
    "duration": 16,
    "start_time": "2022-01-03T20:05:05.094Z"
   },
   {
    "duration": 432,
    "start_time": "2022-01-03T20:05:05.113Z"
   },
   {
    "duration": 9,
    "start_time": "2022-01-03T20:05:05.548Z"
   },
   {
    "duration": 10,
    "start_time": "2022-01-03T20:05:05.568Z"
   },
   {
    "duration": 11,
    "start_time": "2022-01-03T20:05:05.580Z"
   },
   {
    "duration": 14,
    "start_time": "2022-01-03T20:05:05.593Z"
   },
   {
    "duration": 10,
    "start_time": "2022-01-03T20:05:05.609Z"
   },
   {
    "duration": 6,
    "start_time": "2022-01-03T20:05:05.627Z"
   },
   {
    "duration": 56,
    "start_time": "2022-01-03T20:05:05.635Z"
   },
   {
    "duration": 11,
    "start_time": "2022-01-03T20:05:05.695Z"
   },
   {
    "duration": 10,
    "start_time": "2022-01-03T20:05:05.709Z"
   },
   {
    "duration": 46,
    "start_time": "2022-01-03T20:05:05.721Z"
   },
   {
    "duration": 26,
    "start_time": "2022-01-03T20:05:05.770Z"
   },
   {
    "duration": 7,
    "start_time": "2022-01-03T20:06:26.208Z"
   },
   {
    "duration": 7,
    "start_time": "2022-01-03T20:08:14.302Z"
   },
   {
    "duration": 5,
    "start_time": "2022-01-03T20:08:23.521Z"
   },
   {
    "duration": 1786,
    "start_time": "2022-01-03T20:08:34.151Z"
   },
   {
    "duration": 50,
    "start_time": "2022-01-03T20:08:35.940Z"
   },
   {
    "duration": 16,
    "start_time": "2022-01-03T20:08:35.993Z"
   },
   {
    "duration": 77,
    "start_time": "2022-01-03T20:08:36.012Z"
   },
   {
    "duration": 20,
    "start_time": "2022-01-03T20:08:36.092Z"
   },
   {
    "duration": 10,
    "start_time": "2022-01-03T20:08:36.114Z"
   },
   {
    "duration": 50,
    "start_time": "2022-01-03T20:08:36.126Z"
   },
   {
    "duration": 14,
    "start_time": "2022-01-03T20:08:36.181Z"
   },
   {
    "duration": 18,
    "start_time": "2022-01-03T20:08:36.198Z"
   },
   {
    "duration": 85,
    "start_time": "2022-01-03T20:08:36.219Z"
   },
   {
    "duration": 21,
    "start_time": "2022-01-03T20:08:36.307Z"
   },
   {
    "duration": 42,
    "start_time": "2022-01-03T20:08:36.330Z"
   },
   {
    "duration": 12,
    "start_time": "2022-01-03T20:08:36.375Z"
   },
   {
    "duration": 14,
    "start_time": "2022-01-03T20:08:36.389Z"
   },
   {
    "duration": 63,
    "start_time": "2022-01-03T20:08:36.405Z"
   },
   {
    "duration": 15,
    "start_time": "2022-01-03T20:08:36.471Z"
   },
   {
    "duration": 13,
    "start_time": "2022-01-03T20:08:36.489Z"
   },
   {
    "duration": 14,
    "start_time": "2022-01-03T20:08:36.505Z"
   },
   {
    "duration": 46,
    "start_time": "2022-01-03T20:08:36.521Z"
   },
   {
    "duration": 23,
    "start_time": "2022-01-03T20:08:36.570Z"
   },
   {
    "duration": 4,
    "start_time": "2022-01-03T20:08:36.595Z"
   },
   {
    "duration": 87,
    "start_time": "2022-01-03T20:08:36.602Z"
   },
   {
    "duration": 21,
    "start_time": "2022-01-03T20:08:36.695Z"
   },
   {
    "duration": 4,
    "start_time": "2022-01-03T20:08:36.720Z"
   },
   {
    "duration": 66,
    "start_time": "2022-01-03T20:08:36.727Z"
   },
   {
    "duration": 13,
    "start_time": "2022-01-03T20:08:36.796Z"
   },
   {
    "duration": 4,
    "start_time": "2022-01-03T20:08:36.812Z"
   },
   {
    "duration": 3864,
    "start_time": "2022-01-03T20:08:36.819Z"
   },
   {
    "duration": 11,
    "start_time": "2022-01-03T20:08:40.686Z"
   },
   {
    "duration": 590,
    "start_time": "2022-01-03T20:08:40.700Z"
   },
   {
    "duration": 16,
    "start_time": "2022-01-03T20:08:41.294Z"
   },
   {
    "duration": 11,
    "start_time": "2022-01-03T20:08:41.312Z"
   },
   {
    "duration": 516,
    "start_time": "2022-01-03T20:08:41.326Z"
   },
   {
    "duration": 3,
    "start_time": "2022-01-03T20:08:41.844Z"
   },
   {
    "duration": 47,
    "start_time": "2022-01-03T20:08:41.850Z"
   },
   {
    "duration": 17,
    "start_time": "2022-01-03T20:08:41.900Z"
   },
   {
    "duration": 49,
    "start_time": "2022-01-03T20:08:41.920Z"
   },
   {
    "duration": 20,
    "start_time": "2022-01-03T20:08:41.972Z"
   },
   {
    "duration": 31,
    "start_time": "2022-01-03T20:08:41.995Z"
   },
   {
    "duration": 369,
    "start_time": "2022-01-03T20:08:42.028Z"
   },
   {
    "duration": 7,
    "start_time": "2022-01-03T20:08:42.399Z"
   },
   {
    "duration": 34,
    "start_time": "2022-01-03T20:08:42.408Z"
   },
   {
    "duration": 368,
    "start_time": "2022-01-03T20:08:42.444Z"
   },
   {
    "duration": 20,
    "start_time": "2022-01-03T20:08:42.814Z"
   },
   {
    "duration": 35,
    "start_time": "2022-01-03T20:08:42.836Z"
   },
   {
    "duration": 1083,
    "start_time": "2022-01-03T20:08:42.874Z"
   },
   {
    "duration": 35,
    "start_time": "2022-01-03T20:08:43.959Z"
   },
   {
    "duration": 27,
    "start_time": "2022-01-03T20:08:43.997Z"
   },
   {
    "duration": 570,
    "start_time": "2022-01-03T20:08:44.026Z"
   },
   {
    "duration": 9,
    "start_time": "2022-01-03T20:08:44.599Z"
   },
   {
    "duration": 16,
    "start_time": "2022-01-03T20:08:44.611Z"
   },
   {
    "duration": 511,
    "start_time": "2022-01-03T20:08:44.629Z"
   },
   {
    "duration": 9,
    "start_time": "2022-01-03T20:08:45.143Z"
   },
   {
    "duration": 21,
    "start_time": "2022-01-03T20:08:45.155Z"
   },
   {
    "duration": 10,
    "start_time": "2022-01-03T20:08:45.178Z"
   },
   {
    "duration": 18,
    "start_time": "2022-01-03T20:08:45.190Z"
   },
   {
    "duration": 581,
    "start_time": "2022-01-03T20:08:45.211Z"
   },
   {
    "duration": 10,
    "start_time": "2022-01-03T20:08:45.794Z"
   },
   {
    "duration": 10,
    "start_time": "2022-01-03T20:08:45.806Z"
   },
   {
    "duration": 10,
    "start_time": "2022-01-03T20:08:45.818Z"
   },
   {
    "duration": 49,
    "start_time": "2022-01-03T20:08:45.831Z"
   },
   {
    "duration": 400,
    "start_time": "2022-01-03T20:08:45.882Z"
   },
   {
    "duration": 10,
    "start_time": "2022-01-03T20:08:46.284Z"
   },
   {
    "duration": 14,
    "start_time": "2022-01-03T20:08:46.297Z"
   },
   {
    "duration": 11,
    "start_time": "2022-01-03T20:08:46.314Z"
   },
   {
    "duration": 47,
    "start_time": "2022-01-03T20:08:46.328Z"
   },
   {
    "duration": 5,
    "start_time": "2022-01-03T20:08:46.378Z"
   },
   {
    "duration": 7,
    "start_time": "2022-01-03T20:08:46.390Z"
   },
   {
    "duration": 29,
    "start_time": "2022-01-03T20:08:46.399Z"
   },
   {
    "duration": 43,
    "start_time": "2022-01-03T20:08:46.430Z"
   },
   {
    "duration": 3,
    "start_time": "2022-01-03T20:08:46.476Z"
   },
   {
    "duration": 11,
    "start_time": "2022-01-03T20:08:46.482Z"
   },
   {
    "duration": 27,
    "start_time": "2022-01-03T20:08:46.496Z"
   },
   {
    "duration": 70,
    "start_time": "2022-01-04T06:02:18.955Z"
   },
   {
    "duration": 83,
    "start_time": "2022-01-04T06:06:41.598Z"
   },
   {
    "duration": 7,
    "start_time": "2022-01-04T06:07:19.429Z"
   },
   {
    "duration": 10,
    "start_time": "2022-01-04T06:13:46.507Z"
   },
   {
    "duration": 109,
    "start_time": "2022-01-04T06:18:21.496Z"
   },
   {
    "duration": 68,
    "start_time": "2022-01-04T06:18:50.087Z"
   },
   {
    "duration": 5,
    "start_time": "2022-01-04T06:18:58.906Z"
   },
   {
    "duration": 245,
    "start_time": "2022-01-04T06:24:52.232Z"
   },
   {
    "duration": 1130,
    "start_time": "2022-01-04T06:25:03.238Z"
   },
   {
    "duration": 39,
    "start_time": "2022-01-04T06:25:04.370Z"
   },
   {
    "duration": 11,
    "start_time": "2022-01-04T06:25:04.412Z"
   },
   {
    "duration": 47,
    "start_time": "2022-01-04T06:25:04.425Z"
   },
   {
    "duration": 11,
    "start_time": "2022-01-04T06:25:04.474Z"
   },
   {
    "duration": 19,
    "start_time": "2022-01-04T06:25:04.487Z"
   },
   {
    "duration": 26,
    "start_time": "2022-01-04T06:25:04.508Z"
   },
   {
    "duration": 10,
    "start_time": "2022-01-04T06:25:04.537Z"
   },
   {
    "duration": 11,
    "start_time": "2022-01-04T06:25:04.549Z"
   },
   {
    "duration": 26,
    "start_time": "2022-01-04T06:25:04.562Z"
   },
   {
    "duration": 5,
    "start_time": "2022-01-04T06:25:04.590Z"
   },
   {
    "duration": 10,
    "start_time": "2022-01-04T06:25:04.596Z"
   },
   {
    "duration": 12,
    "start_time": "2022-01-04T06:25:04.607Z"
   },
   {
    "duration": 9,
    "start_time": "2022-01-04T06:25:04.620Z"
   },
   {
    "duration": 37,
    "start_time": "2022-01-04T06:25:04.630Z"
   },
   {
    "duration": 8,
    "start_time": "2022-01-04T06:25:04.669Z"
   },
   {
    "duration": 16,
    "start_time": "2022-01-04T06:25:04.678Z"
   },
   {
    "duration": 8,
    "start_time": "2022-01-04T06:25:04.696Z"
   },
   {
    "duration": 9,
    "start_time": "2022-01-04T06:25:04.706Z"
   },
   {
    "duration": 6,
    "start_time": "2022-01-04T06:25:04.717Z"
   },
   {
    "duration": 38,
    "start_time": "2022-01-04T06:25:04.724Z"
   },
   {
    "duration": 14,
    "start_time": "2022-01-04T06:25:04.764Z"
   },
   {
    "duration": 4,
    "start_time": "2022-01-04T06:25:04.781Z"
   },
   {
    "duration": 12,
    "start_time": "2022-01-04T06:25:13.542Z"
   },
   {
    "duration": 6,
    "start_time": "2022-01-04T06:25:22.408Z"
   },
   {
    "duration": 11,
    "start_time": "2022-01-04T06:25:42.808Z"
   },
   {
    "duration": 4,
    "start_time": "2022-01-04T06:25:43.933Z"
   },
   {
    "duration": 369,
    "start_time": "2022-01-04T06:28:53.371Z"
   },
   {
    "duration": 10,
    "start_time": "2022-01-04T06:29:05.326Z"
   },
   {
    "duration": 6,
    "start_time": "2022-01-04T06:29:07.020Z"
   },
   {
    "duration": 233,
    "start_time": "2022-01-04T06:35:46.254Z"
   },
   {
    "duration": 34,
    "start_time": "2022-01-04T06:35:57.122Z"
   },
   {
    "duration": 227,
    "start_time": "2022-01-04T06:35:59.078Z"
   },
   {
    "duration": 33,
    "start_time": "2022-01-04T06:36:26.738Z"
   },
   {
    "duration": 34,
    "start_time": "2022-01-04T06:36:59.895Z"
   },
   {
    "duration": 11,
    "start_time": "2022-01-04T06:37:04.076Z"
   },
   {
    "duration": 247,
    "start_time": "2022-01-04T06:39:30.359Z"
   },
   {
    "duration": 84,
    "start_time": "2022-01-04T06:39:50.743Z"
   },
   {
    "duration": 2,
    "start_time": "2022-01-04T06:40:07.527Z"
   },
   {
    "duration": 47,
    "start_time": "2022-01-04T06:40:07.533Z"
   },
   {
    "duration": 9,
    "start_time": "2022-01-04T06:40:07.582Z"
   },
   {
    "duration": 45,
    "start_time": "2022-01-04T06:40:07.594Z"
   },
   {
    "duration": 25,
    "start_time": "2022-01-04T06:40:07.641Z"
   },
   {
    "duration": 17,
    "start_time": "2022-01-04T06:40:07.668Z"
   },
   {
    "duration": 23,
    "start_time": "2022-01-04T06:40:07.687Z"
   },
   {
    "duration": 27,
    "start_time": "2022-01-04T06:40:07.711Z"
   },
   {
    "duration": 12,
    "start_time": "2022-01-04T06:40:07.740Z"
   },
   {
    "duration": 29,
    "start_time": "2022-01-04T06:40:07.755Z"
   },
   {
    "duration": 5,
    "start_time": "2022-01-04T06:40:07.786Z"
   },
   {
    "duration": 11,
    "start_time": "2022-01-04T06:40:07.793Z"
   },
   {
    "duration": 14,
    "start_time": "2022-01-04T06:40:07.806Z"
   },
   {
    "duration": 25,
    "start_time": "2022-01-04T06:40:07.822Z"
   },
   {
    "duration": 29,
    "start_time": "2022-01-04T06:40:07.849Z"
   },
   {
    "duration": 29,
    "start_time": "2022-01-04T06:40:07.880Z"
   },
   {
    "duration": 26,
    "start_time": "2022-01-04T06:40:07.911Z"
   },
   {
    "duration": 23,
    "start_time": "2022-01-04T06:40:07.939Z"
   },
   {
    "duration": 24,
    "start_time": "2022-01-04T06:40:07.963Z"
   },
   {
    "duration": 22,
    "start_time": "2022-01-04T06:40:07.989Z"
   },
   {
    "duration": 26,
    "start_time": "2022-01-04T06:40:08.013Z"
   },
   {
    "duration": 38,
    "start_time": "2022-01-04T06:40:08.040Z"
   },
   {
    "duration": 20,
    "start_time": "2022-01-04T06:40:08.079Z"
   },
   {
    "duration": 30,
    "start_time": "2022-01-04T06:40:08.101Z"
   },
   {
    "duration": 21,
    "start_time": "2022-01-04T06:40:08.132Z"
   },
   {
    "duration": 23,
    "start_time": "2022-01-04T06:40:08.156Z"
   },
   {
    "duration": 60,
    "start_time": "2022-01-04T06:40:08.181Z"
   },
   {
    "duration": 27,
    "start_time": "2022-01-04T06:40:08.246Z"
   },
   {
    "duration": 4,
    "start_time": "2022-01-04T06:40:08.276Z"
   },
   {
    "duration": 33,
    "start_time": "2022-01-04T06:40:08.282Z"
   },
   {
    "duration": 10,
    "start_time": "2022-01-04T06:40:08.317Z"
   },
   {
    "duration": 13,
    "start_time": "2022-01-04T06:40:08.329Z"
   },
   {
    "duration": 1673,
    "start_time": "2022-01-04T06:40:08.344Z"
   },
   {
    "duration": 10,
    "start_time": "2022-01-04T06:40:10.019Z"
   },
   {
    "duration": 347,
    "start_time": "2022-01-04T06:40:10.031Z"
   },
   {
    "duration": 10,
    "start_time": "2022-01-04T06:40:10.380Z"
   },
   {
    "duration": 10,
    "start_time": "2022-01-04T06:40:10.392Z"
   },
   {
    "duration": 331,
    "start_time": "2022-01-04T06:40:10.403Z"
   },
   {
    "duration": 3,
    "start_time": "2022-01-04T06:40:10.736Z"
   },
   {
    "duration": 48,
    "start_time": "2022-01-04T06:40:10.741Z"
   },
   {
    "duration": 12,
    "start_time": "2022-01-04T06:40:10.791Z"
   },
   {
    "duration": 10,
    "start_time": "2022-01-04T06:40:10.805Z"
   },
   {
    "duration": 9,
    "start_time": "2022-01-04T06:40:10.817Z"
   },
   {
    "duration": 42,
    "start_time": "2022-01-04T06:40:10.827Z"
   },
   {
    "duration": 197,
    "start_time": "2022-01-04T06:40:10.871Z"
   },
   {
    "duration": 4,
    "start_time": "2022-01-04T06:40:11.070Z"
   },
   {
    "duration": 27,
    "start_time": "2022-01-04T06:40:11.076Z"
   },
   {
    "duration": 215,
    "start_time": "2022-01-04T06:40:11.104Z"
   },
   {
    "duration": 13,
    "start_time": "2022-01-04T06:40:11.321Z"
   },
   {
    "duration": 8,
    "start_time": "2022-01-04T06:40:11.335Z"
   },
   {
    "duration": 802,
    "start_time": "2022-01-04T06:40:19.408Z"
   },
   {
    "duration": 1125,
    "start_time": "2022-01-04T06:43:58.930Z"
   },
   {
    "duration": 41,
    "start_time": "2022-01-04T06:44:00.057Z"
   },
   {
    "duration": 11,
    "start_time": "2022-01-04T06:44:00.102Z"
   },
   {
    "duration": 38,
    "start_time": "2022-01-04T06:44:00.115Z"
   },
   {
    "duration": 12,
    "start_time": "2022-01-04T06:44:00.161Z"
   },
   {
    "duration": 21,
    "start_time": "2022-01-04T06:44:00.175Z"
   },
   {
    "duration": 16,
    "start_time": "2022-01-04T06:44:00.199Z"
   },
   {
    "duration": 14,
    "start_time": "2022-01-04T06:44:00.217Z"
   },
   {
    "duration": 15,
    "start_time": "2022-01-04T06:44:00.233Z"
   },
   {
    "duration": 33,
    "start_time": "2022-01-04T06:44:00.249Z"
   },
   {
    "duration": 6,
    "start_time": "2022-01-04T06:44:00.284Z"
   },
   {
    "duration": 14,
    "start_time": "2022-01-04T06:44:00.291Z"
   },
   {
    "duration": 14,
    "start_time": "2022-01-04T06:44:00.307Z"
   },
   {
    "duration": 15,
    "start_time": "2022-01-04T06:44:00.323Z"
   },
   {
    "duration": 9,
    "start_time": "2022-01-04T06:44:00.361Z"
   },
   {
    "duration": 33,
    "start_time": "2022-01-04T06:44:00.372Z"
   },
   {
    "duration": 29,
    "start_time": "2022-01-04T06:44:00.407Z"
   },
   {
    "duration": 16,
    "start_time": "2022-01-04T06:44:00.438Z"
   },
   {
    "duration": 11,
    "start_time": "2022-01-04T06:44:00.456Z"
   },
   {
    "duration": 12,
    "start_time": "2022-01-04T06:44:00.469Z"
   },
   {
    "duration": 9,
    "start_time": "2022-01-04T06:44:00.483Z"
   },
   {
    "duration": 24,
    "start_time": "2022-01-04T06:44:00.496Z"
   },
   {
    "duration": 5,
    "start_time": "2022-01-04T06:44:00.523Z"
   },
   {
    "duration": 30,
    "start_time": "2022-01-04T06:44:00.530Z"
   },
   {
    "duration": 11,
    "start_time": "2022-01-04T06:44:00.562Z"
   },
   {
    "duration": 13,
    "start_time": "2022-01-04T06:44:00.575Z"
   },
   {
    "duration": 43,
    "start_time": "2022-01-04T06:44:00.590Z"
   },
   {
    "duration": 26,
    "start_time": "2022-01-04T06:44:00.635Z"
   },
   {
    "duration": 11,
    "start_time": "2022-01-04T06:44:00.662Z"
   },
   {
    "duration": 43,
    "start_time": "2022-01-04T06:44:00.674Z"
   },
   {
    "duration": 8,
    "start_time": "2022-01-04T06:44:00.719Z"
   },
   {
    "duration": 35,
    "start_time": "2022-01-04T06:44:00.728Z"
   },
   {
    "duration": 1700,
    "start_time": "2022-01-04T06:44:00.765Z"
   },
   {
    "duration": 8,
    "start_time": "2022-01-04T06:44:02.467Z"
   },
   {
    "duration": 340,
    "start_time": "2022-01-04T06:44:02.477Z"
   },
   {
    "duration": 12,
    "start_time": "2022-01-04T06:44:02.819Z"
   },
   {
    "duration": 8,
    "start_time": "2022-01-04T06:44:02.833Z"
   },
   {
    "duration": 303,
    "start_time": "2022-01-04T06:44:02.843Z"
   },
   {
    "duration": 2,
    "start_time": "2022-01-04T06:44:03.148Z"
   },
   {
    "duration": 43,
    "start_time": "2022-01-04T06:44:03.152Z"
   },
   {
    "duration": 11,
    "start_time": "2022-01-04T06:44:03.197Z"
   },
   {
    "duration": 10,
    "start_time": "2022-01-04T06:44:03.210Z"
   },
   {
    "duration": 8,
    "start_time": "2022-01-04T06:44:03.222Z"
   },
   {
    "duration": 47,
    "start_time": "2022-01-04T06:44:03.232Z"
   },
   {
    "duration": 207,
    "start_time": "2022-01-04T06:44:03.281Z"
   },
   {
    "duration": 4,
    "start_time": "2022-01-04T06:44:03.490Z"
   },
   {
    "duration": 31,
    "start_time": "2022-01-04T06:44:03.496Z"
   },
   {
    "duration": 199,
    "start_time": "2022-01-04T06:44:03.529Z"
   },
   {
    "duration": 12,
    "start_time": "2022-01-04T06:44:03.730Z"
   },
   {
    "duration": 24,
    "start_time": "2022-01-04T06:44:03.743Z"
   },
   {
    "duration": 818,
    "start_time": "2022-01-04T06:44:03.769Z"
   },
   {
    "duration": 22,
    "start_time": "2022-01-04T06:44:04.589Z"
   },
   {
    "duration": 18,
    "start_time": "2022-01-04T06:44:04.612Z"
   },
   {
    "duration": 348,
    "start_time": "2022-01-04T06:44:04.632Z"
   },
   {
    "duration": 5,
    "start_time": "2022-01-04T06:44:04.982Z"
   },
   {
    "duration": 9,
    "start_time": "2022-01-04T06:44:04.989Z"
   },
   {
    "duration": 295,
    "start_time": "2022-01-04T06:44:05.000Z"
   },
   {
    "duration": 7,
    "start_time": "2022-01-04T06:44:05.296Z"
   },
   {
    "duration": 8,
    "start_time": "2022-01-04T06:44:05.304Z"
   },
   {
    "duration": 7,
    "start_time": "2022-01-04T06:44:05.314Z"
   },
   {
    "duration": 10,
    "start_time": "2022-01-04T06:44:05.322Z"
   },
   {
    "duration": 344,
    "start_time": "2022-01-04T06:44:05.334Z"
   },
   {
    "duration": 6,
    "start_time": "2022-01-04T06:44:05.680Z"
   },
   {
    "duration": 7,
    "start_time": "2022-01-04T06:44:05.688Z"
   },
   {
    "duration": 8,
    "start_time": "2022-01-04T06:44:05.697Z"
   },
   {
    "duration": 10,
    "start_time": "2022-01-04T06:44:05.707Z"
   },
   {
    "duration": 258,
    "start_time": "2022-01-04T06:44:05.722Z"
   },
   {
    "duration": 7,
    "start_time": "2022-01-04T06:44:05.982Z"
   },
   {
    "duration": 10,
    "start_time": "2022-01-04T06:44:05.991Z"
   },
   {
    "duration": 10,
    "start_time": "2022-01-04T06:44:06.003Z"
   },
   {
    "duration": 9,
    "start_time": "2022-01-04T06:44:06.015Z"
   },
   {
    "duration": 5,
    "start_time": "2022-01-04T06:44:06.025Z"
   },
   {
    "duration": 8,
    "start_time": "2022-01-04T06:44:06.031Z"
   },
   {
    "duration": 4,
    "start_time": "2022-01-04T06:44:06.060Z"
   },
   {
    "duration": 20,
    "start_time": "2022-01-04T06:44:06.066Z"
   },
   {
    "duration": 6,
    "start_time": "2022-01-04T06:44:06.087Z"
   },
   {
    "duration": 4,
    "start_time": "2022-01-04T06:44:06.095Z"
   },
   {
    "duration": 9,
    "start_time": "2022-01-04T06:44:06.100Z"
   },
   {
    "duration": 23,
    "start_time": "2022-01-04T06:44:06.110Z"
   },
   {
    "duration": 6,
    "start_time": "2022-01-04T06:46:00.874Z"
   },
   {
    "duration": 7,
    "start_time": "2022-01-04T06:46:37.040Z"
   },
   {
    "duration": 7,
    "start_time": "2022-01-04T06:46:56.151Z"
   },
   {
    "duration": 8,
    "start_time": "2022-01-04T06:47:47.405Z"
   },
   {
    "duration": 9,
    "start_time": "2022-01-04T06:47:57.606Z"
   },
   {
    "duration": 21,
    "start_time": "2022-01-04T06:50:47.770Z"
   },
   {
    "duration": 19,
    "start_time": "2022-01-04T06:51:15.220Z"
   },
   {
    "duration": 11,
    "start_time": "2022-01-04T06:52:12.794Z"
   },
   {
    "duration": 5,
    "start_time": "2022-01-04T06:52:14.139Z"
   },
   {
    "duration": 4,
    "start_time": "2022-01-04T06:52:29.170Z"
   },
   {
    "duration": 18,
    "start_time": "2022-01-04T06:53:34.917Z"
   },
   {
    "duration": 1065,
    "start_time": "2022-01-04T06:54:31.983Z"
   },
   {
    "duration": 39,
    "start_time": "2022-01-04T06:54:33.050Z"
   },
   {
    "duration": 11,
    "start_time": "2022-01-04T06:54:33.091Z"
   },
   {
    "duration": 32,
    "start_time": "2022-01-04T06:54:33.104Z"
   },
   {
    "duration": 26,
    "start_time": "2022-01-04T06:54:33.138Z"
   },
   {
    "duration": 7,
    "start_time": "2022-01-04T06:54:33.166Z"
   },
   {
    "duration": 12,
    "start_time": "2022-01-04T06:54:33.175Z"
   },
   {
    "duration": 9,
    "start_time": "2022-01-04T06:54:33.189Z"
   },
   {
    "duration": 12,
    "start_time": "2022-01-04T06:54:33.201Z"
   },
   {
    "duration": 56,
    "start_time": "2022-01-04T06:54:33.215Z"
   },
   {
    "duration": 6,
    "start_time": "2022-01-04T06:54:33.272Z"
   },
   {
    "duration": 11,
    "start_time": "2022-01-04T06:54:33.279Z"
   },
   {
    "duration": 12,
    "start_time": "2022-01-04T06:54:33.292Z"
   },
   {
    "duration": 15,
    "start_time": "2022-01-04T06:54:33.305Z"
   },
   {
    "duration": 12,
    "start_time": "2022-01-04T06:54:33.322Z"
   },
   {
    "duration": 31,
    "start_time": "2022-01-04T06:54:33.335Z"
   },
   {
    "duration": 17,
    "start_time": "2022-01-04T06:54:33.368Z"
   },
   {
    "duration": 9,
    "start_time": "2022-01-04T06:54:33.386Z"
   },
   {
    "duration": 11,
    "start_time": "2022-01-04T06:54:33.396Z"
   },
   {
    "duration": 7,
    "start_time": "2022-01-04T06:54:33.409Z"
   },
   {
    "duration": 5,
    "start_time": "2022-01-04T06:54:33.417Z"
   },
   {
    "duration": 44,
    "start_time": "2022-01-04T06:54:33.424Z"
   },
   {
    "duration": 4,
    "start_time": "2022-01-04T06:54:33.472Z"
   },
   {
    "duration": 12,
    "start_time": "2022-01-04T06:54:33.479Z"
   },
   {
    "duration": 8,
    "start_time": "2022-01-04T06:54:33.493Z"
   },
   {
    "duration": 5,
    "start_time": "2022-01-04T06:54:33.502Z"
   },
   {
    "duration": 53,
    "start_time": "2022-01-04T06:54:33.509Z"
   },
   {
    "duration": 14,
    "start_time": "2022-01-04T06:54:33.564Z"
   },
   {
    "duration": 3,
    "start_time": "2022-01-04T06:54:33.580Z"
   },
   {
    "duration": 24,
    "start_time": "2022-01-04T06:54:33.585Z"
   },
   {
    "duration": 8,
    "start_time": "2022-01-04T06:54:33.611Z"
   },
   {
    "duration": 3,
    "start_time": "2022-01-04T06:54:33.620Z"
   },
   {
    "duration": 1640,
    "start_time": "2022-01-04T06:54:33.624Z"
   },
   {
    "duration": 8,
    "start_time": "2022-01-04T06:54:35.265Z"
   },
   {
    "duration": 325,
    "start_time": "2022-01-04T06:54:35.274Z"
   },
   {
    "duration": 12,
    "start_time": "2022-01-04T06:54:35.601Z"
   },
   {
    "duration": 8,
    "start_time": "2022-01-04T06:54:35.614Z"
   },
   {
    "duration": 301,
    "start_time": "2022-01-04T06:54:35.624Z"
   },
   {
    "duration": 2,
    "start_time": "2022-01-04T06:54:35.927Z"
   },
   {
    "duration": 51,
    "start_time": "2022-01-04T06:54:35.931Z"
   },
   {
    "duration": 11,
    "start_time": "2022-01-04T06:54:35.984Z"
   },
   {
    "duration": 16,
    "start_time": "2022-01-04T06:54:35.997Z"
   },
   {
    "duration": 8,
    "start_time": "2022-01-04T06:54:36.014Z"
   },
   {
    "duration": 39,
    "start_time": "2022-01-04T06:54:36.024Z"
   },
   {
    "duration": 201,
    "start_time": "2022-01-04T06:54:36.065Z"
   },
   {
    "duration": 4,
    "start_time": "2022-01-04T06:54:36.268Z"
   },
   {
    "duration": 27,
    "start_time": "2022-01-04T06:54:36.274Z"
   },
   {
    "duration": 195,
    "start_time": "2022-01-04T06:54:36.303Z"
   },
   {
    "duration": 12,
    "start_time": "2022-01-04T06:54:36.500Z"
   },
   {
    "duration": 11,
    "start_time": "2022-01-04T06:54:36.513Z"
   },
   {
    "duration": 756,
    "start_time": "2022-01-04T06:54:36.526Z"
   },
   {
    "duration": 22,
    "start_time": "2022-01-04T06:54:37.283Z"
   },
   {
    "duration": 17,
    "start_time": "2022-01-04T06:54:37.307Z"
   },
   {
    "duration": 320,
    "start_time": "2022-01-04T06:54:37.325Z"
   },
   {
    "duration": 14,
    "start_time": "2022-01-04T06:54:37.646Z"
   },
   {
    "duration": 10,
    "start_time": "2022-01-04T06:54:37.662Z"
   },
   {
    "duration": 290,
    "start_time": "2022-01-04T06:54:37.673Z"
   },
   {
    "duration": 8,
    "start_time": "2022-01-04T06:54:37.965Z"
   },
   {
    "duration": 13,
    "start_time": "2022-01-04T06:54:37.975Z"
   },
   {
    "duration": 14,
    "start_time": "2022-01-04T06:54:37.990Z"
   },
   {
    "duration": 21,
    "start_time": "2022-01-04T06:54:38.006Z"
   },
   {
    "duration": 307,
    "start_time": "2022-01-04T06:54:38.028Z"
   },
   {
    "duration": 7,
    "start_time": "2022-01-04T06:54:38.336Z"
   },
   {
    "duration": 20,
    "start_time": "2022-01-04T06:54:38.344Z"
   },
   {
    "duration": 12,
    "start_time": "2022-01-04T06:54:38.365Z"
   },
   {
    "duration": 17,
    "start_time": "2022-01-04T06:54:38.378Z"
   },
   {
    "duration": 251,
    "start_time": "2022-01-04T06:54:38.397Z"
   },
   {
    "duration": 7,
    "start_time": "2022-01-04T06:54:38.661Z"
   },
   {
    "duration": 7,
    "start_time": "2022-01-04T06:54:38.670Z"
   },
   {
    "duration": 7,
    "start_time": "2022-01-04T06:54:38.680Z"
   },
   {
    "duration": 7,
    "start_time": "2022-01-04T06:54:38.689Z"
   },
   {
    "duration": 5,
    "start_time": "2022-01-04T06:54:38.698Z"
   },
   {
    "duration": 7,
    "start_time": "2022-01-04T06:54:38.705Z"
   },
   {
    "duration": 9,
    "start_time": "2022-01-04T06:54:38.714Z"
   },
   {
    "duration": 7,
    "start_time": "2022-01-04T06:54:38.724Z"
   },
   {
    "duration": 9,
    "start_time": "2022-01-04T06:54:38.760Z"
   },
   {
    "duration": 5,
    "start_time": "2022-01-04T06:54:38.771Z"
   },
   {
    "duration": 16,
    "start_time": "2022-01-04T06:54:38.777Z"
   },
   {
    "duration": 24,
    "start_time": "2022-01-04T06:54:38.795Z"
   },
   {
    "duration": 6,
    "start_time": "2022-01-04T06:54:38.820Z"
   },
   {
    "duration": 3,
    "start_time": "2022-01-04T06:54:38.827Z"
   },
   {
    "duration": 7,
    "start_time": "2022-01-04T06:54:38.831Z"
   },
   {
    "duration": 29,
    "start_time": "2022-01-04T06:54:38.840Z"
   },
   {
    "duration": 357,
    "start_time": "2022-01-04T15:28:15.342Z"
   },
   {
    "duration": 1473,
    "start_time": "2022-01-04T15:28:23.262Z"
   },
   {
    "duration": 46,
    "start_time": "2022-01-04T15:28:24.738Z"
   },
   {
    "duration": 16,
    "start_time": "2022-01-04T15:28:24.787Z"
   },
   {
    "duration": 69,
    "start_time": "2022-01-04T15:28:24.806Z"
   },
   {
    "duration": 19,
    "start_time": "2022-01-04T15:28:24.878Z"
   },
   {
    "duration": 10,
    "start_time": "2022-01-04T15:28:24.900Z"
   },
   {
    "duration": 13,
    "start_time": "2022-01-04T15:28:24.912Z"
   },
   {
    "duration": 45,
    "start_time": "2022-01-04T15:28:24.929Z"
   },
   {
    "duration": 17,
    "start_time": "2022-01-04T15:28:24.977Z"
   },
   {
    "duration": 76,
    "start_time": "2022-01-04T15:28:24.997Z"
   },
   {
    "duration": 9,
    "start_time": "2022-01-04T15:28:25.075Z"
   },
   {
    "duration": 15,
    "start_time": "2022-01-04T15:28:25.087Z"
   },
   {
    "duration": 19,
    "start_time": "2022-01-04T15:28:25.105Z"
   },
   {
    "duration": 48,
    "start_time": "2022-01-04T15:28:25.127Z"
   },
   {
    "duration": 12,
    "start_time": "2022-01-04T15:28:25.177Z"
   },
   {
    "duration": 13,
    "start_time": "2022-01-04T15:28:25.191Z"
   },
   {
    "duration": 21,
    "start_time": "2022-01-04T15:28:25.206Z"
   },
   {
    "duration": 12,
    "start_time": "2022-01-04T15:28:25.268Z"
   },
   {
    "duration": 12,
    "start_time": "2022-01-04T15:28:25.282Z"
   },
   {
    "duration": 9,
    "start_time": "2022-01-04T15:28:25.297Z"
   },
   {
    "duration": 7,
    "start_time": "2022-01-04T15:28:25.308Z"
   },
   {
    "duration": 63,
    "start_time": "2022-01-04T15:28:25.317Z"
   },
   {
    "duration": 6,
    "start_time": "2022-01-04T15:28:25.386Z"
   },
   {
    "duration": 17,
    "start_time": "2022-01-04T15:28:25.395Z"
   },
   {
    "duration": 10,
    "start_time": "2022-01-04T15:28:25.415Z"
   },
   {
    "duration": 5,
    "start_time": "2022-01-04T15:28:25.427Z"
   },
   {
    "duration": 91,
    "start_time": "2022-01-04T15:28:25.435Z"
   },
   {
    "duration": 44,
    "start_time": "2022-01-04T15:28:25.528Z"
   },
   {
    "duration": 4,
    "start_time": "2022-01-04T15:28:25.575Z"
   },
   {
    "duration": 38,
    "start_time": "2022-01-04T15:28:25.582Z"
   },
   {
    "duration": 11,
    "start_time": "2022-01-04T15:28:25.623Z"
   },
   {
    "duration": 4,
    "start_time": "2022-01-04T15:28:25.667Z"
   },
   {
    "duration": 3276,
    "start_time": "2022-01-04T15:28:25.673Z"
   },
   {
    "duration": 16,
    "start_time": "2022-01-04T15:28:28.951Z"
   },
   {
    "duration": 590,
    "start_time": "2022-01-04T15:28:28.970Z"
   },
   {
    "duration": 20,
    "start_time": "2022-01-04T15:28:29.567Z"
   },
   {
    "duration": 15,
    "start_time": "2022-01-04T15:28:29.590Z"
   },
   {
    "duration": 629,
    "start_time": "2022-01-04T15:28:29.608Z"
   },
   {
    "duration": 5,
    "start_time": "2022-01-04T15:28:30.240Z"
   },
   {
    "duration": 66,
    "start_time": "2022-01-04T15:28:30.268Z"
   },
   {
    "duration": 45,
    "start_time": "2022-01-04T15:28:30.337Z"
   },
   {
    "duration": 26,
    "start_time": "2022-01-04T15:28:30.384Z"
   },
   {
    "duration": 19,
    "start_time": "2022-01-04T15:28:30.412Z"
   },
   {
    "duration": 46,
    "start_time": "2022-01-04T15:28:30.433Z"
   },
   {
    "duration": 366,
    "start_time": "2022-01-04T15:28:30.481Z"
   },
   {
    "duration": 7,
    "start_time": "2022-01-04T15:28:30.849Z"
   },
   {
    "duration": 47,
    "start_time": "2022-01-04T15:28:30.859Z"
   },
   {
    "duration": 359,
    "start_time": "2022-01-04T15:28:30.908Z"
   },
   {
    "duration": 18,
    "start_time": "2022-01-04T15:28:31.269Z"
   },
   {
    "duration": 23,
    "start_time": "2022-01-04T15:28:31.289Z"
   },
   {
    "duration": 1127,
    "start_time": "2022-01-04T15:28:31.315Z"
   },
   {
    "duration": 44,
    "start_time": "2022-01-04T15:28:32.445Z"
   },
   {
    "duration": 26,
    "start_time": "2022-01-04T15:28:32.492Z"
   },
   {
    "duration": 541,
    "start_time": "2022-01-04T15:28:32.520Z"
   },
   {
    "duration": 9,
    "start_time": "2022-01-04T15:28:33.067Z"
   },
   {
    "duration": 16,
    "start_time": "2022-01-04T15:28:33.078Z"
   },
   {
    "duration": 526,
    "start_time": "2022-01-04T15:28:33.097Z"
   },
   {
    "duration": 9,
    "start_time": "2022-01-04T15:28:33.626Z"
   },
   {
    "duration": 30,
    "start_time": "2022-01-04T15:28:33.638Z"
   },
   {
    "duration": 9,
    "start_time": "2022-01-04T15:28:33.671Z"
   },
   {
    "duration": 20,
    "start_time": "2022-01-04T15:28:33.682Z"
   },
   {
    "duration": 549,
    "start_time": "2022-01-04T15:28:33.705Z"
   },
   {
    "duration": 15,
    "start_time": "2022-01-04T15:28:34.257Z"
   },
   {
    "duration": 9,
    "start_time": "2022-01-04T15:28:34.275Z"
   },
   {
    "duration": 8,
    "start_time": "2022-01-04T15:28:34.287Z"
   },
   {
    "duration": 14,
    "start_time": "2022-01-04T15:28:34.298Z"
   },
   {
    "duration": 445,
    "start_time": "2022-01-04T15:28:34.314Z"
   },
   {
    "duration": 10,
    "start_time": "2022-01-04T15:28:34.771Z"
   },
   {
    "duration": 12,
    "start_time": "2022-01-04T15:28:34.785Z"
   },
   {
    "duration": 14,
    "start_time": "2022-01-04T15:28:34.800Z"
   },
   {
    "duration": 50,
    "start_time": "2022-01-04T15:28:34.817Z"
   },
   {
    "duration": 4,
    "start_time": "2022-01-04T15:28:34.871Z"
   },
   {
    "duration": 8,
    "start_time": "2022-01-04T15:28:34.878Z"
   },
   {
    "duration": 15,
    "start_time": "2022-01-04T15:28:34.890Z"
   },
   {
    "duration": 16,
    "start_time": "2022-01-04T15:28:34.908Z"
   },
   {
    "duration": 59,
    "start_time": "2022-01-04T15:28:34.927Z"
   },
   {
    "duration": 8,
    "start_time": "2022-01-04T15:28:34.989Z"
   },
   {
    "duration": 6,
    "start_time": "2022-01-04T15:28:35.001Z"
   },
   {
    "duration": 74,
    "start_time": "2022-01-04T15:28:35.010Z"
   },
   {
    "duration": 12,
    "start_time": "2022-01-04T15:28:35.087Z"
   },
   {
    "duration": 3,
    "start_time": "2022-01-04T15:28:35.102Z"
   },
   {
    "duration": 9,
    "start_time": "2022-01-04T15:28:42.513Z"
   },
   {
    "duration": 11,
    "start_time": "2022-01-04T15:29:38.568Z"
   },
   {
    "duration": 7,
    "start_time": "2022-01-04T15:29:39.490Z"
   },
   {
    "duration": 6,
    "start_time": "2022-01-04T15:29:47.565Z"
   },
   {
    "duration": 29,
    "start_time": "2022-01-04T15:30:36.255Z"
   },
   {
    "duration": 108,
    "start_time": "2022-01-04T15:38:17.811Z"
   },
   {
    "duration": 1443,
    "start_time": "2022-01-04T15:38:36.295Z"
   },
   {
    "duration": 48,
    "start_time": "2022-01-04T15:38:37.741Z"
   },
   {
    "duration": 16,
    "start_time": "2022-01-04T15:38:37.792Z"
   },
   {
    "duration": 74,
    "start_time": "2022-01-04T15:38:37.811Z"
   },
   {
    "duration": 20,
    "start_time": "2022-01-04T15:38:37.888Z"
   },
   {
    "duration": 9,
    "start_time": "2022-01-04T15:38:37.911Z"
   },
   {
    "duration": 49,
    "start_time": "2022-01-04T15:38:37.923Z"
   },
   {
    "duration": 15,
    "start_time": "2022-01-04T15:38:37.976Z"
   },
   {
    "duration": 18,
    "start_time": "2022-01-04T15:38:37.994Z"
   },
   {
    "duration": 80,
    "start_time": "2022-01-04T15:38:38.015Z"
   },
   {
    "duration": 9,
    "start_time": "2022-01-04T15:38:38.098Z"
   },
   {
    "duration": 16,
    "start_time": "2022-01-04T15:38:38.109Z"
   },
   {
    "duration": 53,
    "start_time": "2022-01-04T15:38:38.127Z"
   },
   {
    "duration": 14,
    "start_time": "2022-01-04T15:38:38.183Z"
   },
   {
    "duration": 13,
    "start_time": "2022-01-04T15:38:38.200Z"
   },
   {
    "duration": 13,
    "start_time": "2022-01-04T15:38:38.215Z"
   },
   {
    "duration": 21,
    "start_time": "2022-01-04T15:38:38.268Z"
   },
   {
    "duration": 12,
    "start_time": "2022-01-04T15:38:38.292Z"
   },
   {
    "duration": 16,
    "start_time": "2022-01-04T15:38:38.306Z"
   },
   {
    "duration": 43,
    "start_time": "2022-01-04T15:38:38.325Z"
   },
   {
    "duration": 7,
    "start_time": "2022-01-04T15:38:38.370Z"
   },
   {
    "duration": 30,
    "start_time": "2022-01-04T15:38:38.379Z"
   },
   {
    "duration": 6,
    "start_time": "2022-01-04T15:38:38.416Z"
   },
   {
    "duration": 54,
    "start_time": "2022-01-04T15:38:38.426Z"
   },
   {
    "duration": 13,
    "start_time": "2022-01-04T15:38:38.482Z"
   },
   {
    "duration": 7,
    "start_time": "2022-01-04T15:38:38.498Z"
   },
   {
    "duration": 81,
    "start_time": "2022-01-04T15:38:38.508Z"
   },
   {
    "duration": 22,
    "start_time": "2022-01-04T15:38:38.591Z"
   },
   {
    "duration": 6,
    "start_time": "2022-01-04T15:38:38.616Z"
   },
   {
    "duration": 68,
    "start_time": "2022-01-04T15:38:38.624Z"
   },
   {
    "duration": 12,
    "start_time": "2022-01-04T15:38:38.696Z"
   },
   {
    "duration": 5,
    "start_time": "2022-01-04T15:38:38.712Z"
   },
   {
    "duration": 3526,
    "start_time": "2022-01-04T15:38:38.721Z"
   },
   {
    "duration": 22,
    "start_time": "2022-01-04T15:38:42.250Z"
   },
   {
    "duration": 614,
    "start_time": "2022-01-04T15:38:42.274Z"
   },
   {
    "duration": 17,
    "start_time": "2022-01-04T15:38:42.891Z"
   },
   {
    "duration": 11,
    "start_time": "2022-01-04T15:38:42.910Z"
   },
   {
    "duration": 531,
    "start_time": "2022-01-04T15:38:42.924Z"
   },
   {
    "duration": 3,
    "start_time": "2022-01-04T15:38:43.458Z"
   },
   {
    "duration": 60,
    "start_time": "2022-01-04T15:38:43.468Z"
   },
   {
    "duration": 47,
    "start_time": "2022-01-04T15:38:43.531Z"
   },
   {
    "duration": 13,
    "start_time": "2022-01-04T15:38:43.581Z"
   },
   {
    "duration": 10,
    "start_time": "2022-01-04T15:38:43.597Z"
   },
   {
    "duration": 67,
    "start_time": "2022-01-04T15:38:43.610Z"
   },
   {
    "duration": 368,
    "start_time": "2022-01-04T15:38:43.680Z"
   },
   {
    "duration": 8,
    "start_time": "2022-01-04T15:38:44.050Z"
   },
   {
    "duration": 34,
    "start_time": "2022-01-04T15:38:44.068Z"
   },
   {
    "duration": 476,
    "start_time": "2022-01-04T15:38:44.104Z"
   },
   {
    "duration": 21,
    "start_time": "2022-01-04T15:38:44.583Z"
   },
   {
    "duration": 14,
    "start_time": "2022-01-04T15:38:44.607Z"
   },
   {
    "duration": 1114,
    "start_time": "2022-01-04T15:38:44.624Z"
   },
   {
    "duration": 47,
    "start_time": "2022-01-04T15:38:45.741Z"
   },
   {
    "duration": 30,
    "start_time": "2022-01-04T15:38:45.790Z"
   },
   {
    "duration": 565,
    "start_time": "2022-01-04T15:38:45.823Z"
   },
   {
    "duration": 9,
    "start_time": "2022-01-04T15:38:46.391Z"
   },
   {
    "duration": 16,
    "start_time": "2022-01-04T15:38:46.403Z"
   },
   {
    "duration": 533,
    "start_time": "2022-01-04T15:38:46.422Z"
   },
   {
    "duration": 16,
    "start_time": "2022-01-04T15:38:46.958Z"
   },
   {
    "duration": 10,
    "start_time": "2022-01-04T15:38:46.977Z"
   },
   {
    "duration": 9,
    "start_time": "2022-01-04T15:38:46.989Z"
   },
   {
    "duration": 17,
    "start_time": "2022-01-04T15:38:47.001Z"
   },
   {
    "duration": 605,
    "start_time": "2022-01-04T15:38:47.020Z"
   },
   {
    "duration": 10,
    "start_time": "2022-01-04T15:38:47.627Z"
   },
   {
    "duration": 30,
    "start_time": "2022-01-04T15:38:47.639Z"
   },
   {
    "duration": 11,
    "start_time": "2022-01-04T15:38:47.672Z"
   },
   {
    "duration": 17,
    "start_time": "2022-01-04T15:38:47.685Z"
   },
   {
    "duration": 433,
    "start_time": "2022-01-04T15:38:47.704Z"
   },
   {
    "duration": 10,
    "start_time": "2022-01-04T15:38:48.145Z"
   },
   {
    "duration": 9,
    "start_time": "2022-01-04T15:38:48.168Z"
   },
   {
    "duration": 11,
    "start_time": "2022-01-04T15:38:48.180Z"
   },
   {
    "duration": 19,
    "start_time": "2022-01-04T15:38:48.193Z"
   },
   {
    "duration": 6,
    "start_time": "2022-01-04T15:38:48.215Z"
   },
   {
    "duration": 10,
    "start_time": "2022-01-04T15:38:48.224Z"
   },
   {
    "duration": 41,
    "start_time": "2022-01-04T15:38:48.236Z"
   },
   {
    "duration": 13,
    "start_time": "2022-01-04T15:38:48.280Z"
   },
   {
    "duration": 19,
    "start_time": "2022-01-04T15:38:48.297Z"
   },
   {
    "duration": 11,
    "start_time": "2022-01-04T15:38:48.319Z"
   },
   {
    "duration": 7,
    "start_time": "2022-01-04T15:38:48.368Z"
   },
   {
    "duration": 34,
    "start_time": "2022-01-04T15:38:48.378Z"
   },
   {
    "duration": 11,
    "start_time": "2022-01-04T15:38:48.415Z"
   },
   {
    "duration": 39,
    "start_time": "2022-01-04T15:38:48.429Z"
   },
   {
    "duration": 10,
    "start_time": "2022-01-04T15:38:48.471Z"
   },
   {
    "duration": 12,
    "start_time": "2022-01-04T15:38:48.484Z"
   },
   {
    "duration": 11,
    "start_time": "2022-01-04T15:38:48.498Z"
   },
   {
    "duration": 10,
    "start_time": "2022-01-04T15:38:48.511Z"
   },
   {
    "duration": 69,
    "start_time": "2022-01-04T15:38:48.524Z"
   }
  ],
  "kernelspec": {
   "display_name": "Python 3 (ipykernel)",
   "language": "python",
   "name": "python3"
  },
  "language_info": {
   "codemirror_mode": {
    "name": "ipython",
    "version": 3
   },
   "file_extension": ".py",
   "mimetype": "text/x-python",
   "name": "python",
   "nbconvert_exporter": "python",
   "pygments_lexer": "ipython3",
   "version": "3.9.7"
  },
  "toc": {
   "base_numbering": 1,
   "nav_menu": {},
   "number_sections": false,
   "sideBar": true,
   "skip_h1_title": false,
   "title_cell": "Table of Contents",
   "title_sidebar": "Contents",
   "toc_cell": true,
   "toc_position": {
    "height": "calc(100% - 180px)",
    "left": "10px",
    "top": "150px",
    "width": "336.188px"
   },
   "toc_section_display": true,
   "toc_window_display": true
  }
 },
 "nbformat": 4,
 "nbformat_minor": 2
}
